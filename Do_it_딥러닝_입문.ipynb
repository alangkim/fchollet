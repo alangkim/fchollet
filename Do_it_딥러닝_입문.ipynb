{
  "nbformat": 4,
  "nbformat_minor": 0,
  "metadata": {
    "colab": {
      "name": "Do it 딥러닝 입문.ipynb",
      "provenance": [],
      "authorship_tag": "ABX9TyPPfTcyaCGHAkvIVO8Q6ePF",
      "include_colab_link": true
    },
    "kernelspec": {
      "name": "python3",
      "display_name": "Python 3"
    },
    "language_info": {
      "name": "python"
    }
  },
  "cells": [
    {
      "cell_type": "markdown",
      "metadata": {
        "id": "view-in-github",
        "colab_type": "text"
      },
      "source": [
        "<a href=\"https://colab.research.google.com/github/caujw/fchollet/blob/main/Do_it_%EB%94%A5%EB%9F%AC%EB%8B%9D_%EC%9E%85%EB%AC%B8.ipynb\" target=\"_parent\"><img src=\"https://colab.research.google.com/assets/colab-badge.svg\" alt=\"Open In Colab\"/></a>"
      ]
    },
    {
      "cell_type": "code",
      "source": [
        "from sklearn.datasets import load_diabetes"
      ],
      "metadata": {
        "id": "Gi_bIYM-9VOs"
      },
      "execution_count": 1,
      "outputs": []
    },
    {
      "cell_type": "code",
      "source": [
        "diabetes = load_diabetes()"
      ],
      "metadata": {
        "id": "Kq_6lqYv9dPm"
      },
      "execution_count": 2,
      "outputs": []
    },
    {
      "cell_type": "code",
      "source": [
        "x = diabetes.data[:,2]\n",
        "y = diabetes.target"
      ],
      "metadata": {
        "id": "Qe9ebiQj90TF"
      },
      "execution_count": 3,
      "outputs": []
    },
    {
      "cell_type": "code",
      "source": [
        "w = 1\n",
        "b = 1\n",
        "\n",
        "for i in range(1,100):\n",
        "  for x_i, y_i in zip(x, y):\n",
        "    y_hat = w * x_i + b\n",
        "    err = y_i - y_hat\n",
        "    w_rate = x_i\n",
        "    w = w + w_rate * err\n",
        "    b = b + 1 *  err\n",
        "\n",
        "print(w, b)"
      ],
      "metadata": {
        "id": "Dn6tv6W89gC1",
        "outputId": "8876181e-ccb9-43db-a37a-de0a6bbf8faa",
        "colab": {
          "base_uri": "https://localhost:8080/"
        }
      },
      "execution_count": 25,
      "outputs": [
        {
          "output_type": "stream",
          "name": "stdout",
          "text": [
            "913.5973364345905 123.39414383177204\n"
          ]
        }
      ]
    },
    {
      "cell_type": "code",
      "source": [
        "import matplotlib.pyplot as plt"
      ],
      "metadata": {
        "id": "UBRzC4o8_QWz"
      },
      "execution_count": 26,
      "outputs": []
    },
    {
      "cell_type": "code",
      "source": [
        "a1 = -0.1\n",
        "a2 = 0.15\n",
        "b1 = (-0.1 * w) + b\n",
        "b2 = 0.15 * w + b\n",
        "\n",
        "plt.scatter(x,y)\n",
        "plt.plot([a1,a2],[b1,b2])\n",
        "plt.show()"
      ],
      "metadata": {
        "id": "Ubf5CcfN_j_v",
        "outputId": "77200c5d-178a-4236-ca19-9e408f423b76",
        "colab": {
          "base_uri": "https://localhost:8080/",
          "height": 265
        }
      },
      "execution_count": 27,
      "outputs": [
        {
          "output_type": "display_data",
          "data": {
            "text/plain": [
              "<Figure size 432x288 with 1 Axes>"
            ],
            "image/png": "[encoded data removed]"
          },
          "metadata": {
            "needs_background": "light"
          }
        }
      ]
    },
    {
      "cell_type": "code",
      "source": [
        "class Neuron:\n",
        "  \n",
        "  def __init__(self):\n",
        "    self.w = 1\n",
        "    self.b = 1\n",
        "  \n",
        "  def forpass(self, x):\n",
        "    y_hat = self.w * x + self.b\n",
        "    return y_hat\n",
        "  \n",
        "  def backprop(self, x, err):\n",
        "    w_grad = x * err\n",
        "    b_grad = 1 * err\n",
        "    return w_grad, b_grad\n",
        "\n",
        "  def fit(self, x, y, epochs = 100):\n",
        "    for i in range(epochs):\n",
        "      for x_i, y_i in zip(x, y):\n",
        "        y_hat = self.forpass(x_i)\n",
        "        err = -(y_i - y_hat)\n",
        "        w_grad, b_grad = self.backprop(x_i, err)\n",
        "        self.w -= w_grad\n",
        "        self.b -= b_grad"
      ],
      "metadata": {
        "id": "Cwfsur49_7IW"
      },
      "execution_count": 25,
      "outputs": []
    },
    {
      "cell_type": "code",
      "source": [
        "a = Neuron()\n",
        "a.fit(x, y)"
      ],
      "metadata": {
        "id": "flaH2m24C8E6"
      },
      "execution_count": 26,
      "outputs": []
    },
    {
      "cell_type": "code",
      "source": [
        "print(a.w, a.b)"
      ],
      "metadata": {
        "id": "b4mbHjnuDCaM",
        "outputId": "b581cbe5-e4c0-4b14-a250-0bfa850744e7",
        "colab": {
          "base_uri": "https://localhost:8080/"
        }
      },
      "execution_count": 27,
      "outputs": [
        {
          "output_type": "stream",
          "name": "stdout",
          "text": [
            "913.5973364345905 123.39414383177204\n"
          ]
        }
      ]
    },
    {
      "cell_type": "code",
      "source": [
        ""
      ],
      "metadata": {
        "id": "z00q0O64Dl-L"
      },
      "execution_count": null,
      "outputs": []
    }
  ]
}