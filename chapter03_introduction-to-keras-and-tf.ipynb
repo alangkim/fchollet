{
  "cells": [
    {
      "cell_type": "markdown",
      "metadata": {
        "id": "view-in-github",
        "colab_type": "text"
      },
      "source": [
        "<a href=\"https://colab.research.google.com/github/caujw/fchollet/blob/main/chapter03_introduction-to-keras-and-tf.ipynb\" target=\"_parent\"><img src=\"https://colab.research.google.com/assets/colab-badge.svg\" alt=\"Open In Colab\"/></a>"
      ]
    },
    {
      "cell_type": "markdown",
      "metadata": {
        "id": "RBvHDCJ4apR2"
      },
      "source": [
        "This is a companion notebook for the book [Deep Learning with Python, Second Edition](https://www.manning.com/books/deep-learning-with-python-second-edition?a_aid=keras&a_bid=76564dff). For readability, it only contains runnable code blocks and section titles, and omits everything else in the book: text paragraphs, figures, and pseudocode.\n",
        "\n",
        "**If you want to be able to follow what's going on, I recommend reading the notebook side by side with your copy of the book.**\n",
        "\n",
        "This notebook was generated for TensorFlow 2.6."
      ]
    },
    {
      "cell_type": "markdown",
      "metadata": {
        "id": "56ajFo2TapR4"
      },
      "source": [
        "# Introduction to Keras and TensorFlow"
      ]
    },
    {
      "cell_type": "markdown",
      "metadata": {
        "id": "qhpxdVozapR4"
      },
      "source": [
        "## What's TensorFlow?"
      ]
    },
    {
      "cell_type": "markdown",
      "source": [
        "TensorFlow is a python based, free open source machine learning platform, developed by Google.\n",
        "\n",
        "Compute the gradient of any differentiable expression.\n",
        "\n",
        "Run not only on CPUs, but also on GPUs and TPUs, parallel hardware accelerators.\n",
        "\n",
        "Computation defined in TensorFlow can be easily distributed.\n",
        "\n",
        "TensorFlow programs can be exported to other runtimes.\n",
        "\n",
        "TensorFlow is much more than a single library. It's really a platform, home to a vast ecosystem of components."
      ],
      "metadata": {
        "id": "OU1vNOceQkKz"
      }
    },
    {
      "cell_type": "markdown",
      "metadata": {
        "id": "ZjqSuneHapR5"
      },
      "source": [
        "## What's Keras?"
      ]
    },
    {
      "cell_type": "markdown",
      "source": [
        "Keras is a deep learning API for python, built on top of TensorFlow\n",
        "\n",
        "Provides a convenient way to define and train deep learning model.\n",
        "\n",
        "Developed for research with the aim of enabling fast experimentation."
      ],
      "metadata": {
        "id": "yY9sBnCiRkDA"
      }
    },
    {
      "cell_type": "markdown",
      "metadata": {
        "id": "_SjaGRazapR5"
      },
      "source": [
        "## Keras and TensorFlow: A brief history"
      ]
    },
    {
      "cell_type": "markdown",
      "metadata": {
        "id": "un-qfzQjapR5"
      },
      "source": [
        "## Setting up a deep-learning workspace"
      ]
    },
    {
      "cell_type": "markdown",
      "metadata": {
        "id": "V_LZR7w9apR5"
      },
      "source": [
        "### Jupyter notebooks: The preferred way to run deep-learning experiments"
      ]
    },
    {
      "cell_type": "markdown",
      "metadata": {
        "id": "11-YMZHcapR6"
      },
      "source": [
        "### Using Colaboratory"
      ]
    },
    {
      "cell_type": "markdown",
      "metadata": {
        "id": "-noF_96papR6"
      },
      "source": [
        "#### First steps with Colaboratory"
      ]
    },
    {
      "cell_type": "markdown",
      "metadata": {
        "id": "d94JGwaQapR7"
      },
      "source": [
        "#### Installing packages with pip"
      ]
    },
    {
      "cell_type": "markdown",
      "metadata": {
        "id": "-FIa7SMKapR7"
      },
      "source": [
        "#### Using the GPU runtime"
      ]
    },
    {
      "cell_type": "markdown",
      "metadata": {
        "id": "lyjFX6mpapR7"
      },
      "source": [
        "## First steps with TensorFlow"
      ]
    },
    {
      "cell_type": "markdown",
      "metadata": {
        "id": "4glnL3cqapR8"
      },
      "source": [
        "#### Constant tensors and variables"
      ]
    },
    {
      "cell_type": "markdown",
      "metadata": {
        "id": "feuTsmlYapR8"
      },
      "source": [
        "**All-ones or all-zeros tensors**"
      ]
    },
    {
      "cell_type": "code",
      "execution_count": 2,
      "metadata": {
        "id": "m8WuCHILapR8",
        "colab": {
          "base_uri": "https://localhost:8080/"
        },
        "outputId": "d349b143-0b8d-465e-8072-1c573f61f48f"
      },
      "outputs": [
        {
          "output_type": "stream",
          "name": "stdout",
          "text": [
            "tf.Tensor(\n",
            "[[1.]\n",
            " [1.]], shape=(2, 1), dtype=float32)\n"
          ]
        }
      ],
      "source": [
        "import tensorflow as tf\n",
        "x = tf.ones(shape=(2, 1))\n",
        "print(x)"
      ]
    },
    {
      "cell_type": "code",
      "source": [
        "# equivalent to\n",
        "\n",
        "import numpy as np\n",
        "\n",
        "np.ones(shape = (2, 1))"
      ],
      "metadata": {
        "colab": {
          "base_uri": "https://localhost:8080/"
        },
        "id": "JSC79ZF6cucM",
        "outputId": "69e687c4-7b27-4da6-c3da-660a2f6ee319"
      },
      "execution_count": 6,
      "outputs": [
        {
          "output_type": "execute_result",
          "data": {
            "text/plain": [
              "array([[1.],\n",
              "       [1.]])"
            ]
          },
          "metadata": {},
          "execution_count": 6
        }
      ]
    },
    {
      "cell_type": "code",
      "execution_count": 8,
      "metadata": {
        "id": "aOFwv-avapR9",
        "colab": {
          "base_uri": "https://localhost:8080/"
        },
        "outputId": "97a954d5-401c-4ecb-9fda-62206eb4076b"
      },
      "outputs": [
        {
          "output_type": "stream",
          "name": "stdout",
          "text": [
            "tf.Tensor(\n",
            "[[0.]\n",
            " [0.]], shape=(2, 1), dtype=float32)\n"
          ]
        }
      ],
      "source": [
        "x = tf.zeros(shape=(2, 1))\n",
        "print(x)"
      ]
    },
    {
      "cell_type": "code",
      "source": [
        "# equivalent to\n",
        "\n",
        "np.zeros(shape = (2, 1))"
      ],
      "metadata": {
        "colab": {
          "base_uri": "https://localhost:8080/"
        },
        "id": "gpE9HQ3fc3XC",
        "outputId": "47afd30e-e69a-47a3-8bec-557c2dd85264"
      },
      "execution_count": 9,
      "outputs": [
        {
          "output_type": "execute_result",
          "data": {
            "text/plain": [
              "array([[0.],\n",
              "       [0.]])"
            ]
          },
          "metadata": {},
          "execution_count": 9
        }
      ]
    },
    {
      "cell_type": "markdown",
      "metadata": {
        "id": "s40Z_HM6apR9"
      },
      "source": [
        "**Random tensors**"
      ]
    },
    {
      "cell_type": "code",
      "execution_count": 16,
      "metadata": {
        "id": "NKF7JyqJapR9",
        "colab": {
          "base_uri": "https://localhost:8080/"
        },
        "outputId": "d4394834-5c15-46ee-af0b-cc5f407ea5d9"
      },
      "outputs": [
        {
          "output_type": "stream",
          "name": "stdout",
          "text": [
            "tf.Tensor(\n",
            "[[-0.5001772]\n",
            " [ 1.2064688]\n",
            " [ 0.5246703]], shape=(3, 1), dtype=float32)\n"
          ]
        }
      ],
      "source": [
        "# Tensor of random values drawn from a normal distribution with mean 0 and standard deviation 1\n",
        "\n",
        "x = tf.random.normal(shape=(3, 1), mean=0., stddev=1.)\n",
        "print(x)"
      ]
    },
    {
      "cell_type": "code",
      "source": [
        "# equivalent to\n",
        "\n",
        "np.random.normal(size = (3, 1), loc = 0., scale = 1.)"
      ],
      "metadata": {
        "colab": {
          "base_uri": "https://localhost:8080/"
        },
        "id": "BYM3CvWudfxo",
        "outputId": "ac62cbab-f55c-479b-b353-8c51d921b8e6"
      },
      "execution_count": 17,
      "outputs": [
        {
          "output_type": "execute_result",
          "data": {
            "text/plain": [
              "array([[-0.163446  ],\n",
              "       [ 0.40463856],\n",
              "       [-1.28609724]])"
            ]
          },
          "metadata": {},
          "execution_count": 17
        }
      ]
    },
    {
      "cell_type": "code",
      "execution_count": 14,
      "metadata": {
        "id": "BJJHd4a5apR9",
        "colab": {
          "base_uri": "https://localhost:8080/"
        },
        "outputId": "94014a71-7edf-42d0-ccab-72bcd674930e"
      },
      "outputs": [
        {
          "output_type": "stream",
          "name": "stdout",
          "text": [
            "tf.Tensor(\n",
            "[[0.7760483 ]\n",
            " [0.8699    ]\n",
            " [0.49284184]], shape=(3, 1), dtype=float32)\n"
          ]
        }
      ],
      "source": [
        "# Tensor of random values drawn from a uniform distribution between 0 and 1\n",
        "\n",
        "x = tf.random.uniform(shape=(3, 1), minval=0., maxval=1.)\n",
        "print(x)"
      ]
    },
    {
      "cell_type": "code",
      "source": [
        "# equivalent to\n",
        "\n",
        "np.random.uniform(size = (3, 1), low = 0., high = 1)"
      ],
      "metadata": {
        "colab": {
          "base_uri": "https://localhost:8080/"
        },
        "id": "hf9VxyFndwx4",
        "outputId": "e9daa290-db79-4f5e-a510-2d1afadaae4e"
      },
      "execution_count": 15,
      "outputs": [
        {
          "output_type": "execute_result",
          "data": {
            "text/plain": [
              "array([[0.4706624 ],\n",
              "       [0.48126762],\n",
              "       [0.12999015]])"
            ]
          },
          "metadata": {},
          "execution_count": 15
        }
      ]
    },
    {
      "cell_type": "markdown",
      "metadata": {
        "id": "Qmde8OF8apR-"
      },
      "source": [
        "**NumPy arrays are assignable(TensorFlow tensors aren't assignable)**"
      ]
    },
    {
      "cell_type": "code",
      "execution_count": 21,
      "metadata": {
        "id": "3Rwwmn0HapR-",
        "colab": {
          "base_uri": "https://localhost:8080/"
        },
        "outputId": "20331cf4-3af6-4bbb-cfc2-00965f11dd34"
      },
      "outputs": [
        {
          "output_type": "stream",
          "name": "stdout",
          "text": [
            "[[1. 1.]\n",
            " [1. 1.]]\n",
            "[[0. 1.]\n",
            " [1. 1.]]\n"
          ]
        }
      ],
      "source": [
        "x = np.ones(shape=(2, 2))\n",
        "print(x)\n",
        "x[0, 0] = 0.\n",
        "print(x)\n",
        "\n",
        "#텐서플로우에서는 불가능"
      ]
    },
    {
      "cell_type": "markdown",
      "metadata": {
        "id": "DDuAi0bsapR-"
      },
      "source": [
        "**Creating a TensorFlow variable**"
      ]
    },
    {
      "cell_type": "code",
      "execution_count": 22,
      "metadata": {
        "id": "YYs53-pYapR-",
        "colab": {
          "base_uri": "https://localhost:8080/"
        },
        "outputId": "4523a1e8-f220-42c1-9b71-f7d3198bf16a"
      },
      "outputs": [
        {
          "output_type": "stream",
          "name": "stdout",
          "text": [
            "<tf.Variable 'Variable:0' shape=(3, 1) dtype=float32, numpy=\n",
            "array([[-0.290532 ],\n",
            "       [-0.9351689],\n",
            "       [-0.2211088]], dtype=float32)>\n"
          ]
        }
      ],
      "source": [
        "v = tf.Variable(initial_value=tf.random.normal(shape=(3, 1)))\n",
        "print(v)\n",
        "\n",
        "#tf.Variable is the class meant to manage modifiable state in TensorFlow"
      ]
    },
    {
      "cell_type": "markdown",
      "metadata": {
        "id": "HAj4wqw0apR-"
      },
      "source": [
        "**Assigning a value to a TensorFlow variable**"
      ]
    },
    {
      "cell_type": "code",
      "execution_count": 25,
      "metadata": {
        "id": "8gYlIs-QapR_",
        "colab": {
          "base_uri": "https://localhost:8080/"
        },
        "outputId": "5b9f10a5-7c61-4d91-ed03-d9249371126a"
      },
      "outputs": [
        {
          "output_type": "execute_result",
          "data": {
            "text/plain": [
              "<tf.Variable 'UnreadVariable' shape=(3, 1) dtype=float32, numpy=\n",
              "array([[1.],\n",
              "       [1.],\n",
              "       [1.]], dtype=float32)>"
            ]
          },
          "metadata": {},
          "execution_count": 25
        }
      ],
      "source": [
        "v.assign(tf.ones((3, 1)))"
      ]
    },
    {
      "cell_type": "markdown",
      "metadata": {
        "id": "G7NuOCm7apR_"
      },
      "source": [
        "**Assigning a value to a subset of a TensorFlow variable**"
      ]
    },
    {
      "cell_type": "code",
      "execution_count": 27,
      "metadata": {
        "id": "q5Vs8tu8apR_",
        "colab": {
          "base_uri": "https://localhost:8080/"
        },
        "outputId": "c09c9080-c1a4-4a01-81f4-f1ee03a77416"
      },
      "outputs": [
        {
          "output_type": "execute_result",
          "data": {
            "text/plain": [
              "<tf.Variable 'UnreadVariable' shape=(3, 1) dtype=float32, numpy=\n",
              "array([[3.],\n",
              "       [2.],\n",
              "       [2.]], dtype=float32)>"
            ]
          },
          "metadata": {},
          "execution_count": 27
        }
      ],
      "source": [
        "v[0, 0].assign(3.)"
      ]
    },
    {
      "cell_type": "markdown",
      "metadata": {
        "id": "v5bu0j0gapR_"
      },
      "source": [
        "**Using `assign_add`**"
      ]
    },
    {
      "cell_type": "code",
      "execution_count": 28,
      "metadata": {
        "id": "dpow-txzapR_",
        "colab": {
          "base_uri": "https://localhost:8080/"
        },
        "outputId": "b0ac39f7-3b6e-4b79-af83-cf93375ae1e5"
      },
      "outputs": [
        {
          "output_type": "execute_result",
          "data": {
            "text/plain": [
              "<tf.Variable 'UnreadVariable' shape=(3, 1) dtype=float32, numpy=\n",
              "array([[4.],\n",
              "       [3.],\n",
              "       [3.]], dtype=float32)>"
            ]
          },
          "metadata": {},
          "execution_count": 28
        }
      ],
      "source": [
        "v.assign_add(tf.ones((3, 1)))\n",
        "\n",
        "# assign_add() : +=\n",
        "# assign_sub() : -="
      ]
    },
    {
      "cell_type": "markdown",
      "metadata": {
        "id": "xUEunbXwapSA"
      },
      "source": [
        "#### Tensor operations: Doing math in TensorFlow"
      ]
    },
    {
      "cell_type": "markdown",
      "metadata": {
        "id": "7XqEfas6apSA"
      },
      "source": [
        "**A few basic math operations**"
      ]
    },
    {
      "cell_type": "code",
      "execution_count": 30,
      "metadata": {
        "id": "jbtNM_cGapSA"
      },
      "outputs": [],
      "source": [
        "a = tf.ones((2, 2))\n",
        "b = tf.square(a)  # take the square\n",
        "c = tf.sqrt(a)  # take the square root\n",
        "d = b + c  # add two tensors(element wise)\n",
        "e = tf.matmul(a, b)  #take the product of two tensors\n",
        "e *= d  # multiply two tensors(element wise)"
      ]
    },
    {
      "cell_type": "markdown",
      "source": [
        "Importantly, each of the preceding operations gets executed on the fly : at any point, you can print what the current result is, just like in NumPy. We call this eager execution(only possible in 2.0 version)"
      ],
      "metadata": {
        "id": "MaOqrJJuhzNX"
      }
    },
    {
      "cell_type": "markdown",
      "metadata": {
        "id": "ludf_XZOapSA"
      },
      "source": [
        "#### A second look at the GradientTape API\n",
        "\n",
        "Here's something NumPy can't do"
      ]
    },
    {
      "cell_type": "markdown",
      "metadata": {
        "id": "W-ngNLUrapSA"
      },
      "source": [
        "**Using the `GradientTape`**"
      ]
    },
    {
      "cell_type": "code",
      "execution_count": 36,
      "metadata": {
        "id": "cyFdZy7DapSB",
        "colab": {
          "base_uri": "https://localhost:8080/"
        },
        "outputId": "dff53156-ce4b-48a0-c13c-2fd4295dd078"
      },
      "outputs": [
        {
          "output_type": "stream",
          "name": "stdout",
          "text": [
            "<tf.Variable 'Variable:0' shape=() dtype=float32, numpy=3.0>\n",
            "tf.Tensor(9.0, shape=(), dtype=float32)\n",
            "tf.Tensor(6.0, shape=(), dtype=float32)\n"
          ]
        }
      ],
      "source": [
        "input_var = tf.Variable(initial_value=3.)\n",
        "with tf.GradientTape() as tape:\n",
        "   result = tf.square(input_var)\n",
        "gradient = tape.gradient(result, input_var)\n",
        "\n",
        "print(input_var)\n",
        "print(result)\n",
        "print(gradient)\n",
        "\n",
        "# Retrieve the gradients of the loss of a model with respect to its weights\n",
        "# gradient = tape.gradient(loss, weight)"
      ]
    },
    {
      "cell_type": "markdown",
      "metadata": {
        "id": "HtjOpduYapSB"
      },
      "source": [
        "**Using `GradientTape` with constant tensor inputs**"
      ]
    },
    {
      "cell_type": "code",
      "execution_count": 37,
      "metadata": {
        "id": "j9QX7k3iapSB",
        "colab": {
          "base_uri": "https://localhost:8080/"
        },
        "outputId": "f4249f33-a52f-4818-9599-eac2fa9a62a5"
      },
      "outputs": [
        {
          "output_type": "stream",
          "name": "stdout",
          "text": [
            "tf.Tensor(3.0, shape=(), dtype=float32)\n",
            "tf.Tensor(9.0, shape=(), dtype=float32)\n",
            "tf.Tensor(6.0, shape=(), dtype=float32)\n"
          ]
        }
      ],
      "source": [
        "# Only trainable variables are tracked by default. With a constant tensor, you'd have to manually mark it as being tracked by calling tape.watch() on it.\n",
        "\n",
        "input_const = tf.constant(3.)\n",
        "with tf.GradientTape() as tape:\n",
        "   tape.watch(input_const)\n",
        "   result = tf.square(input_const)\n",
        "gradient = tape.gradient(result, input_const)\n",
        "\n",
        "print(input_const)\n",
        "print(result)\n",
        "print(gradient)"
      ]
    },
    {
      "cell_type": "markdown",
      "metadata": {
        "id": "SMzQDuw-apSB"
      },
      "source": [
        "**Using nested gradient tapes to compute second-order gradients**"
      ]
    },
    {
      "cell_type": "code",
      "execution_count": null,
      "metadata": {
        "id": "8bnreD1fapSB"
      },
      "outputs": [],
      "source": [
        "time = tf.Variable(0.)\n",
        "with tf.GradientTape() as outer_tape:\n",
        "    with tf.GradientTape() as inner_tape:\n",
        "        position =  4.9 * time ** 2\n",
        "    speed = inner_tape.gradient(position, time)\n",
        "acceleration = outer_tape.gradient(speed, time)"
      ]
    },
    {
      "cell_type": "markdown",
      "metadata": {
        "id": "MqmGoNqAapSC"
      },
      "source": [
        "#### An end-to-end example: A linear classifier in pure TensorFlow"
      ]
    },
    {
      "cell_type": "markdown",
      "metadata": {
        "id": "6JZ9cd21apSC"
      },
      "source": [
        "**Generating two classes of random points in a 2D plane**"
      ]
    },
    {
      "cell_type": "code",
      "execution_count": 40,
      "metadata": {
        "id": "G1PQvPuuapSC",
        "colab": {
          "base_uri": "https://localhost:8080/"
        },
        "outputId": "a24d525f-af0a-4667-899c-2f41a2b79f34"
      },
      "outputs": [
        {
          "output_type": "stream",
          "name": "stdout",
          "text": [
            "[[-0.26888165  4.13468434]\n",
            " [ 0.19299606  3.04691657]\n",
            " [-0.59286003  2.14137424]\n",
            " ...\n",
            " [ 0.53313327  3.18251254]\n",
            " [ 2.00297393  5.04888607]\n",
            " [ 0.95889029  3.98423615]]\n",
            "[[ 0.77029752 -2.17173516]\n",
            " [ 6.00567011  0.18134922]\n",
            " [ 3.15243588 -0.95028282]\n",
            " ...\n",
            " [ 2.18390018 -0.25405359]\n",
            " [ 4.54140925 -1.25585752]\n",
            " [ 3.45952873  0.84084945]]\n"
          ]
        }
      ],
      "source": [
        "num_samples_per_class = 1000\n",
        "\n",
        "negative_samples = np.random.multivariate_normal(\n",
        "    mean=[0, 3],\n",
        "    cov=[[1, 0.5],[0.5, 1]],\n",
        "    size=num_samples_per_class)\n",
        "\n",
        "# generate the first class of points: 1000 random 2D points. cov = [[1, 0.5], [0.5, 1]] corresponds to an oval-like point cloud oriented from bottom left to top right\n",
        "\n",
        "positive_samples = np.random.multivariate_normal(\n",
        "    mean=[3, 0],\n",
        "    cov=[[1, 0.5],[0.5, 1]],\n",
        "    size=num_samples_per_class)\n",
        "\n",
        "print(negative_samples)\n",
        "print(positive_samples)"
      ]
    },
    {
      "cell_type": "markdown",
      "metadata": {
        "id": "dW45Zv6SapSC"
      },
      "source": [
        "**Stacking the two classes into an array with shape (2000, 2)**"
      ]
    },
    {
      "cell_type": "code",
      "execution_count": 41,
      "metadata": {
        "id": "dgapDwfgapSC"
      },
      "outputs": [],
      "source": [
        "inputs = np.vstack((negative_samples, positive_samples)).astype(np.float32)"
      ]
    },
    {
      "cell_type": "markdown",
      "metadata": {
        "id": "AV1NHq5-apSC"
      },
      "source": [
        "**Generating the corresponding targets (0 and 1)**"
      ]
    },
    {
      "cell_type": "code",
      "execution_count": 42,
      "metadata": {
        "id": "VXPnp_CsapSC"
      },
      "outputs": [],
      "source": [
        "targets = np.vstack((np.zeros((num_samples_per_class, 1), dtype=\"float32\"),\n",
        "                     np.ones((num_samples_per_class, 1), dtype=\"float32\")))"
      ]
    },
    {
      "cell_type": "markdown",
      "metadata": {
        "id": "LErSnn82apSD"
      },
      "source": [
        "**Plotting the two point classes**"
      ]
    },
    {
      "cell_type": "code",
      "execution_count": 46,
      "metadata": {
        "id": "j3bmYYcXapSD",
        "colab": {
          "base_uri": "https://localhost:8080/",
          "height": 265
        },
        "outputId": "54d04712-7483-4d11-e527-535a1f644cfd"
      },
      "outputs": [
        {
          "output_type": "display_data",
          "data": {
            "text/plain": [
              "<Figure size 432x288 with 1 Axes>"
            ],
            "image/png": "[encoded data removed]"
          },
          "metadata": {
            "needs_background": "light"
          }
        }
      ],
      "source": [
        "import matplotlib.pyplot as plt\n",
        "plt.scatter(inputs[:, 0], inputs[:, 1], c=targets [:, 0])\n",
        "plt.show()"
      ]
    },
    {
      "cell_type": "markdown",
      "metadata": {
        "id": "sXvdBvDmapSD"
      },
      "source": [
        "**Creating the linear classifier variables**"
      ]
    },
    {
      "cell_type": "code",
      "execution_count": 48,
      "metadata": {
        "id": "HJmGkX2CapSD"
      },
      "outputs": [],
      "source": [
        "input_dim = 2\n",
        "output_dim = 1\n",
        "W = tf.Variable(initial_value=tf.random.uniform(shape=(input_dim, output_dim)))\n",
        "b = tf.Variable(initial_value=tf.zeros(shape=(output_dim,)))\n",
        "\n",
        "# The output predictions will be a single score per sample(close to 0 if the sample is predicted to be in class 0, and close to 1 if the sample is predicted to be in class 1)"
      ]
    },
    {
      "cell_type": "markdown",
      "metadata": {
        "id": "FWzxKpq_apSD"
      },
      "source": [
        "**The forward pass function**"
      ]
    },
    {
      "cell_type": "code",
      "execution_count": 49,
      "metadata": {
        "id": "tTVr5iLfapSE"
      },
      "outputs": [],
      "source": [
        "def model(inputs):\n",
        "    return tf.matmul(inputs, W) + b"
      ]
    },
    {
      "cell_type": "markdown",
      "metadata": {
        "id": "6Df8IvEoapSE"
      },
      "source": [
        "**The mean squared error loss function**"
      ]
    },
    {
      "cell_type": "code",
      "execution_count": 50,
      "metadata": {
        "id": "WELut2GMapSE"
      },
      "outputs": [],
      "source": [
        "def square_loss(targets, predictions):\n",
        "    per_sample_losses = tf.square(targets - predictions)\n",
        "    return tf.reduce_mean(per_sample_losses)"
      ]
    },
    {
      "cell_type": "markdown",
      "metadata": {
        "id": "qIDpnRU8apSE"
      },
      "source": [
        "**The training step function**"
      ]
    },
    {
      "cell_type": "code",
      "execution_count": 51,
      "metadata": {
        "id": "TBW-VG1mapSE"
      },
      "outputs": [],
      "source": [
        "learning_rate = 0.1\n",
        "\n",
        "def training_step(inputs, targets):\n",
        "    with tf.GradientTape() as tape:\n",
        "        predictions = model(inputs)\n",
        "        loss = square_loss(targets, predictions)\n",
        "    grad_loss_wrt_W, grad_loss_wrt_b = tape.gradient(loss, [W, b])\n",
        "    W.assign_sub(grad_loss_wrt_W * learning_rate)\n",
        "    b.assign_sub(grad_loss_wrt_b * learning_rate)\n",
        "    return loss"
      ]
    },
    {
      "cell_type": "markdown",
      "metadata": {
        "id": "qxJTGSnbapSF"
      },
      "source": [
        "**The batch training loop**"
      ]
    },
    {
      "cell_type": "code",
      "execution_count": 52,
      "metadata": {
        "id": "r6hEm-3PapSF",
        "colab": {
          "base_uri": "https://localhost:8080/"
        },
        "outputId": "edfdf3cc-687f-4154-f589-86302665c24d"
      },
      "outputs": [
        {
          "output_type": "stream",
          "name": "stdout",
          "text": [
            "Loss at step 0: 1.5025\n",
            "Loss at step 1: 0.1638\n",
            "Loss at step 2: 0.1103\n",
            "Loss at step 3: 0.0968\n",
            "Loss at step 4: 0.0895\n",
            "Loss at step 5: 0.0835\n",
            "Loss at step 6: 0.0781\n",
            "Loss at step 7: 0.0733\n",
            "Loss at step 8: 0.0689\n",
            "Loss at step 9: 0.0649\n",
            "Loss at step 10: 0.0613\n",
            "Loss at step 11: 0.0580\n",
            "Loss at step 12: 0.0550\n",
            "Loss at step 13: 0.0523\n",
            "Loss at step 14: 0.0498\n",
            "Loss at step 15: 0.0476\n",
            "Loss at step 16: 0.0456\n",
            "Loss at step 17: 0.0437\n",
            "Loss at step 18: 0.0421\n",
            "Loss at step 19: 0.0406\n",
            "Loss at step 20: 0.0392\n",
            "Loss at step 21: 0.0379\n",
            "Loss at step 22: 0.0368\n",
            "Loss at step 23: 0.0358\n",
            "Loss at step 24: 0.0349\n",
            "Loss at step 25: 0.0340\n",
            "Loss at step 26: 0.0332\n",
            "Loss at step 27: 0.0326\n",
            "Loss at step 28: 0.0319\n",
            "Loss at step 29: 0.0313\n",
            "Loss at step 30: 0.0308\n",
            "Loss at step 31: 0.0304\n",
            "Loss at step 32: 0.0299\n",
            "Loss at step 33: 0.0295\n",
            "Loss at step 34: 0.0292\n",
            "Loss at step 35: 0.0289\n",
            "Loss at step 36: 0.0286\n",
            "Loss at step 37: 0.0283\n",
            "Loss at step 38: 0.0281\n",
            "Loss at step 39: 0.0279\n"
          ]
        }
      ],
      "source": [
        "for step in range(40):\n",
        "    loss = training_step(inputs, targets)\n",
        "    print(f\"Loss at step {step}: {loss:.4f}\")"
      ]
    },
    {
      "cell_type": "code",
      "execution_count": 53,
      "metadata": {
        "id": "57TDiqhYapSF",
        "colab": {
          "base_uri": "https://localhost:8080/",
          "height": 265
        },
        "outputId": "351ecc69-6235-4b96-8725-fbe8afffb3b9"
      },
      "outputs": [
        {
          "output_type": "display_data",
          "data": {
            "text/plain": [
              "<Figure size 432x288 with 1 Axes>"
            ],
            "image/png": "[encoded data removed]"
          },
          "metadata": {
            "needs_background": "light"
          }
        }
      ],
      "source": [
        "predictions = model(inputs)\n",
        "plt.scatter(inputs[:, 0], inputs[:, 1], c=predictions[:, 0] > 0.5)\n",
        "plt.show()"
      ]
    },
    {
      "cell_type": "code",
      "execution_count": 54,
      "metadata": {
        "id": "ZZ9SDPgsapSF",
        "colab": {
          "base_uri": "https://localhost:8080/",
          "height": 283
        },
        "outputId": "2e537f13-3023-45f4-bbe7-62c47f782886"
      },
      "outputs": [
        {
          "output_type": "execute_result",
          "data": {
            "text/plain": [
              "<matplotlib.collections.PathCollection at 0x7fb307d0af10>"
            ]
          },
          "metadata": {},
          "execution_count": 54
        },
        {
          "output_type": "display_data",
          "data": {
            "text/plain": [
              "<Figure size 432x288 with 1 Axes>"
            ],
            "image/png": "[encoded data removed]"
          },
          "metadata": {
            "needs_background": "light"
          }
        }
      ],
      "source": [
        "x = np.linspace(-1, 4, 100)\n",
        "y = - W[0] /  W[1] * x + (0.5 - b) / W[1]\n",
        "plt.plot(x, y, \"-r\")\n",
        "plt.scatter(inputs[:, 0], inputs[:, 1], c=predictions[:, 0] > 0.5)"
      ]
    },
    {
      "cell_type": "markdown",
      "metadata": {
        "id": "rPrmz7eiapSF"
      },
      "source": [
        "## Anatomy of a neural network: Understanding core Keras APIs"
      ]
    },
    {
      "cell_type": "markdown",
      "metadata": {
        "id": "zUD9VvF9apSF"
      },
      "source": [
        "### Layers: The building blocks of deep learning"
      ]
    },
    {
      "cell_type": "markdown",
      "metadata": {
        "id": "JsIOSt8MapSG"
      },
      "source": [
        "#### The base Layer class in Keras\n",
        "\n",
        "Layer is object that encapsulates some state (weights) and computation (forward pass)\n",
        "\n",
        "weights are typically defined in a build()"
      ]
    },
    {
      "cell_type": "markdown",
      "metadata": {
        "id": "0pYeMu-qapSG"
      },
      "source": [
        "**A `Dense` layer implemented as a `Layer` subclass**"
      ]
    },
    {
      "cell_type": "code",
      "execution_count": 55,
      "metadata": {
        "id": "O76Zb8dzapSG"
      },
      "outputs": [],
      "source": [
        "from tensorflow import keras\n",
        "\n",
        "class SimpleDense(keras.layers.Layer):\n",
        "\n",
        "    def __init__(self, units, activation=None):\n",
        "        super().__init__()\n",
        "        self.units = units\n",
        "        self.activation = activation\n",
        "\n",
        "    def build(self, input_shape):\n",
        "        input_dim = input_shape[-1]\n",
        "        self.W = self.add_weight(shape=(input_dim, self.units),\n",
        "                                 initializer=\"random_normal\")\n",
        "        self.b = self.add_weight(shape=(self.units,),\n",
        "                                 initializer=\"zeros\")\n",
        "\n",
        "    def call(self, inputs):\n",
        "        y = tf.matmul(inputs, self.W) + self.b\n",
        "        if self.activation is not None:\n",
        "            y = self.activation(y)\n",
        "        return y"
      ]
    },
    {
      "cell_type": "code",
      "execution_count": 56,
      "metadata": {
        "id": "DuEls0vqapSG",
        "colab": {
          "base_uri": "https://localhost:8080/"
        },
        "outputId": "79acf199-243d-4d46-d5b4-7778ee7ee1c0"
      },
      "outputs": [
        {
          "output_type": "stream",
          "name": "stdout",
          "text": [
            "(2, 32)\n"
          ]
        }
      ],
      "source": [
        "my_dense = SimpleDense(units=32, activation=tf.nn.relu)\n",
        "input_tensor = tf.ones(shape=(2, 784))\n",
        "output_tensor = my_dense(input_tensor)\n",
        "print(output_tensor.shape)"
      ]
    },
    {
      "cell_type": "markdown",
      "metadata": {
        "id": "lm2IsoUhapSG"
      },
      "source": [
        "#### Automatic shape inference: Building layers on the fly"
      ]
    },
    {
      "cell_type": "code",
      "execution_count": 57,
      "metadata": {
        "id": "Y0hW0WUIapSG"
      },
      "outputs": [],
      "source": [
        "from tensorflow.keras import layers\n",
        "layer = layers.Dense(32, activation=\"relu\")"
      ]
    },
    {
      "cell_type": "code",
      "execution_count": 58,
      "metadata": {
        "id": "6ViwkEluapSH"
      },
      "outputs": [],
      "source": [
        "from tensorflow.keras import models\n",
        "from tensorflow.keras import layers\n",
        "model = models.Sequential([\n",
        "    layers.Dense(32, activation=\"relu\"),\n",
        "    layers.Dense(32)\n",
        "])"
      ]
    },
    {
      "cell_type": "code",
      "execution_count": 59,
      "metadata": {
        "id": "B3NlvC5-apSH"
      },
      "outputs": [],
      "source": [
        "model = keras.Sequential([\n",
        "    SimpleDense(32, activation=\"relu\"),\n",
        "    SimpleDense(64, activation=\"relu\"),\n",
        "    SimpleDense(32, activation=\"relu\"),\n",
        "    SimpleDense(10, activation=\"softmax\")\n",
        "])"
      ]
    },
    {
      "cell_type": "markdown",
      "metadata": {
        "id": "PoWViP_lapSH"
      },
      "source": [
        "### From layers to models"
      ]
    },
    {
      "cell_type": "markdown",
      "metadata": {
        "id": "aND3tnfuapSH"
      },
      "source": [
        "### The \"compile\" step: Configuring the learning process"
      ]
    },
    {
      "cell_type": "code",
      "execution_count": 60,
      "metadata": {
        "id": "CZ7AszxIapSH"
      },
      "outputs": [],
      "source": [
        "model = keras.Sequential([keras.layers.Dense(1)])\n",
        "model.compile(optimizer=\"rmsprop\",\n",
        "              loss=\"mean_squared_error\",\n",
        "              metrics=[\"accuracy\"])"
      ]
    },
    {
      "cell_type": "code",
      "execution_count": 61,
      "metadata": {
        "id": "cZTdTE55apSH"
      },
      "outputs": [],
      "source": [
        "model.compile(optimizer=keras.optimizers.RMSprop(),\n",
        "              loss=keras.losses.MeanSquaredError(),\n",
        "              metrics=[keras.metrics.BinaryAccuracy()])"
      ]
    },
    {
      "cell_type": "markdown",
      "metadata": {
        "id": "Fl5WEbnlapSI"
      },
      "source": [
        "### Picking a loss function\n",
        "\n",
        "Choosing the right loss function for the right problem is extremly important\n",
        "\n",
        "There are simple guidelines you can follow to choose\n",
        "1. Binary crossentropy for a two-class classification\n",
        "2. Categorical crossentropy for a many-class classification problem\n",
        "3. Mean squared error for regression problem\n"
      ]
    },
    {
      "cell_type": "markdown",
      "metadata": {
        "id": "mcGc9THKapSI"
      },
      "source": [
        "### Understanding the fit() method\n",
        "\n",
        "key arguments:\n",
        "1. The data(inputs and targets) to train on: Numpy arrays or a TensorFlow Dataset object\n",
        "2. The number of epochs to train for: how many times the training loop iterate over the data passed.\n",
        "3. The batch size to use within each epoch of mini-batch gradient descent: the number of training examples considered to compute the gradients for one weight update step."
      ]
    },
    {
      "cell_type": "markdown",
      "metadata": {
        "id": "-9YZfnFQapSI"
      },
      "source": [
        "**Calling `fit()` with NumPy data**"
      ]
    },
    {
      "cell_type": "code",
      "execution_count": 62,
      "metadata": {
        "id": "CViDHbizapSI",
        "colab": {
          "base_uri": "https://localhost:8080/"
        },
        "outputId": "8e217da1-a3bc-41e2-90bd-a1b4b942fb3a"
      },
      "outputs": [
        {
          "output_type": "stream",
          "name": "stdout",
          "text": [
            "Epoch 1/5\n",
            "16/16 [==============================] - 1s 2ms/step - loss: 2.4074 - binary_accuracy: 0.0085\n",
            "Epoch 2/5\n",
            "16/16 [==============================] - 0s 2ms/step - loss: 2.2270 - binary_accuracy: 0.0090\n",
            "Epoch 3/5\n",
            "16/16 [==============================] - 0s 3ms/step - loss: 2.0775 - binary_accuracy: 0.0095\n",
            "Epoch 4/5\n",
            "16/16 [==============================] - 0s 2ms/step - loss: 1.9369 - binary_accuracy: 0.0095\n",
            "Epoch 5/5\n",
            "16/16 [==============================] - 0s 2ms/step - loss: 1.8011 - binary_accuracy: 0.0105\n"
          ]
        }
      ],
      "source": [
        "history = model.fit(\n",
        "    inputs,\n",
        "    targets,\n",
        "    epochs=5,\n",
        "    batch_size=128\n",
        ")"
      ]
    },
    {
      "cell_type": "code",
      "execution_count": 63,
      "metadata": {
        "id": "7Nsf72rPapSI",
        "colab": {
          "base_uri": "https://localhost:8080/"
        },
        "outputId": "a5ea8ff0-fa3e-40fc-844d-aa1f95c5cd00"
      },
      "outputs": [
        {
          "output_type": "execute_result",
          "data": {
            "text/plain": [
              "{'binary_accuracy': [0.008500000461935997,\n",
              "  0.008999999612569809,\n",
              "  0.009499999694526196,\n",
              "  0.009499999694526196,\n",
              "  0.010499999858438969],\n",
              " 'loss': [2.4074246883392334,\n",
              "  2.2269890308380127,\n",
              "  2.077462911605835,\n",
              "  1.9368635416030884,\n",
              "  1.801131248474121]}"
            ]
          },
          "metadata": {},
          "execution_count": 63
        }
      ],
      "source": [
        "history.history"
      ]
    },
    {
      "cell_type": "markdown",
      "metadata": {
        "id": "m749b3rWapSI"
      },
      "source": [
        "### Monitoring loss and metrics on validation data"
      ]
    },
    {
      "cell_type": "markdown",
      "metadata": {
        "id": "Ntokg7PXapSI"
      },
      "source": [
        "**Using the `validation_data` argument**"
      ]
    },
    {
      "cell_type": "code",
      "execution_count": 64,
      "metadata": {
        "id": "EZIhqfPDapSJ",
        "colab": {
          "base_uri": "https://localhost:8080/"
        },
        "outputId": "834bcca5-ceb0-4465-bea6-f9d472ab80ed"
      },
      "outputs": [
        {
          "output_type": "stream",
          "name": "stdout",
          "text": [
            "Epoch 1/5\n",
            "88/88 [==============================] - 1s 4ms/step - loss: 0.4137 - binary_accuracy: 0.8950 - val_loss: 0.2237 - val_binary_accuracy: 0.8133\n",
            "Epoch 2/5\n",
            "88/88 [==============================] - 0s 3ms/step - loss: 0.0745 - binary_accuracy: 0.9464 - val_loss: 0.0486 - val_binary_accuracy: 0.9833\n",
            "Epoch 3/5\n",
            "88/88 [==============================] - 0s 3ms/step - loss: 0.0713 - binary_accuracy: 0.9593 - val_loss: 0.0908 - val_binary_accuracy: 0.9700\n",
            "Epoch 4/5\n",
            "88/88 [==============================] - 0s 3ms/step - loss: 0.0790 - binary_accuracy: 0.9486 - val_loss: 0.0303 - val_binary_accuracy: 0.9983\n",
            "Epoch 5/5\n",
            "88/88 [==============================] - 0s 3ms/step - loss: 0.0700 - binary_accuracy: 0.9614 - val_loss: 0.0474 - val_binary_accuracy: 0.9883\n"
          ]
        },
        {
          "output_type": "execute_result",
          "data": {
            "text/plain": [
              "<keras.callbacks.History at 0x7fb307a02790>"
            ]
          },
          "metadata": {},
          "execution_count": 64
        }
      ],
      "source": [
        "model = keras.Sequential([keras.layers.Dense(1)])\n",
        "model.compile(optimizer=keras.optimizers.RMSprop(learning_rate=0.1),\n",
        "              loss=keras.losses.MeanSquaredError(),\n",
        "              metrics=[keras.metrics.BinaryAccuracy()])\n",
        "\n",
        "indices_permutation = np.random.permutation(len(inputs))\n",
        "shuffled_inputs = inputs[indices_permutation]\n",
        "shuffled_targets = targets[indices_permutation]\n",
        "\n",
        "num_validation_samples = int(0.3 * len(inputs))\n",
        "val_inputs = shuffled_inputs[:num_validation_samples]\n",
        "val_targets = shuffled_targets[:num_validation_samples]\n",
        "training_inputs = shuffled_inputs[num_validation_samples:]\n",
        "training_targets = shuffled_targets[num_validation_samples:]\n",
        "model.fit(\n",
        "    training_inputs,\n",
        "    training_targets,\n",
        "    epochs=5,\n",
        "    batch_size=16,\n",
        "    validation_data=(val_inputs, val_targets)\n",
        ")"
      ]
    },
    {
      "cell_type": "markdown",
      "metadata": {
        "id": "jtecgB8papSJ"
      },
      "source": [
        "### Inference: Using a model after training"
      ]
    },
    {
      "cell_type": "code",
      "execution_count": 65,
      "metadata": {
        "id": "5bC1CIouapSJ",
        "colab": {
          "base_uri": "https://localhost:8080/"
        },
        "outputId": "655c1558-d38b-428b-d571-1c840e343d88"
      },
      "outputs": [
        {
          "output_type": "stream",
          "name": "stdout",
          "text": [
            "[[ 0.01634493]\n",
            " [ 0.6951004 ]\n",
            " [ 0.56675804]\n",
            " [ 0.73886013]\n",
            " [ 0.5833992 ]\n",
            " [-0.16445711]\n",
            " [ 0.97383344]\n",
            " [-0.08240375]\n",
            " [ 0.8002336 ]\n",
            " [ 0.7240303 ]]\n"
          ]
        }
      ],
      "source": [
        "predictions = model.predict(val_inputs, batch_size=128)\n",
        "print(predictions[:10])"
      ]
    },
    {
      "cell_type": "markdown",
      "metadata": {
        "id": "z94jVH-WapSJ"
      },
      "source": [
        "## Summary"
      ]
    }
  ],
  "metadata": {
    "colab": {
      "collapsed_sections": [],
      "name": "chapter03_introduction-to-keras-and-tf.i",
      "provenance": [],
      "include_colab_link": true
    },
    "kernelspec": {
      "display_name": "Python 3",
      "language": "python",
      "name": "python3"
    },
    "language_info": {
      "codemirror_mode": {
        "name": "ipython",
        "version": 3
      },
      "file_extension": ".py",
      "mimetype": "text/x-python",
      "name": "python",
      "nbconvert_exporter": "python",
      "pygments_lexer": "ipython3",
      "version": "3.7.0"
    },
    "accelerator": "GPU"
  },
  "nbformat": 4,
  "nbformat_minor": 0
}