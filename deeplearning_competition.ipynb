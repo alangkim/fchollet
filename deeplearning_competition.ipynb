{
  "nbformat": 4,
  "nbformat_minor": 0,
  "metadata": {
    "colab": {
      "name": "deeplearning competition.ipynb",
      "private_outputs": true,
      "provenance": [],
      "authorship_tag": "ABX9TyN9pEm/LqQxlXbPKp0LKt19",
      "include_colab_link": true
    },
    "kernelspec": {
      "name": "python3",
      "display_name": "Python 3"
    },
    "language_info": {
      "name": "python"
    }
  },
  "cells": [
    {
      "cell_type": "markdown",
      "metadata": {
        "id": "view-in-github",
        "colab_type": "text"
      },
      "source": [
        "<a href=\"https://colab.research.google.com/github/alangkim/fchollet/blob/main/deeplearning_competition.ipynb\" target=\"_parent\"><img src=\"https://colab.research.google.com/assets/colab-badge.svg\" alt=\"Open In Colab\"/></a>"
      ]
    },
    {
      "cell_type": "code",
      "execution_count": null,
      "metadata": {
        "id": "4sVuj6Pvjnbx"
      },
      "outputs": [],
      "source": [
        "from google.colab import drive\n",
        "drive.mount('/content/drive')"
      ]
    },
    {
      "cell_type": "code",
      "source": [
        "!unzip /content/drive/MyDrive/Images_total.zip"
      ],
      "metadata": {
        "id": "vh7W6oW6kDML"
      },
      "execution_count": null,
      "outputs": []
    },
    {
      "cell_type": "code",
      "source": [
        "import pandas as pd\n",
        "df = pd.read_csv('/content/drive/MyDrive/Train.csv')"
      ],
      "metadata": {
        "id": "PE5CYn0rme8J"
      },
      "execution_count": null,
      "outputs": []
    },
    {
      "cell_type": "code",
      "source": [
        "affected = df[df[\"Label\"]==1]\n",
        "normal = df[df[\"Label\"]==0]"
      ],
      "metadata": {
        "id": "Bln3-LidmmPI"
      },
      "execution_count": null,
      "outputs": []
    },
    {
      "cell_type": "code",
      "source": [
        "print(\n",
        "    len(affected),\n",
        "    len(normal)\n",
        ")"
      ],
      "metadata": {
        "id": "OEdVuu-BnAyq"
      },
      "execution_count": null,
      "outputs": []
    },
    {
      "cell_type": "code",
      "source": [
        "affected"
      ],
      "metadata": {
        "id": "tb1Jh6funMSF"
      },
      "execution_count": null,
      "outputs": []
    },
    {
      "cell_type": "code",
      "source": [
        "import os, shutil, pathlib\n",
        "\n",
        "original_dir = pathlib.Path(\"Images\")\n",
        "# original dataset이 풀려있는 directory\n",
        "new_base_dir = pathlib.Path(\"cats_vs_dogs_small\")\n",
        "# smaller dataset을 저장할 directory\n",
        "\n",
        "def make_subset(subset_name, start_index, end_index):\n",
        "    for category in (\"cat\", \"dog\"):\n",
        "        dir = new_base_dir / subset_name / category\n",
        "        os.makedirs(dir)\n",
        "        # 새로운 directory 만들기 ex) cats_vs_dogs_small/train/dog\n",
        "        fnames = [f\"{category}.{i}.jpg\" for i in range(start_index, end_index)]\n",
        "        # 파일 이름 만들기\n",
        "        for fname in fnames:\n",
        "            shutil.copyfile(src=original_dir / fname,\n",
        "                            dst=dir / fname)\n",
        "            # src : source, dst : destination\n",
        "\n",
        "make_subset(\"train\", start_index=0, end_index=1000)\n",
        "# 처음 1000개로 train set을 만듦\n",
        "make_subset(\"validation\", start_index=1000, end_index=1500)\n",
        "# 그 다음 500개로 validation set을 만듦\n",
        "make_subset(\"test\", start_index=1500, end_index=2500)\n",
        "# 그 다음 1000개로 test set을 만듦"
      ],
      "metadata": {
        "id": "c_D3gJWKlLuf"
      },
      "execution_count": null,
      "outputs": []
    }
  ]
}