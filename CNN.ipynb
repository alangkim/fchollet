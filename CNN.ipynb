{
  "nbformat": 4,
  "nbformat_minor": 0,
  "metadata": {
    "colab": {
      "name": "CNN.ipynb",
      "private_outputs": true,
      "provenance": [],
      "authorship_tag": "ABX9TyPN/JIYE4AtfjESlorOSpCv",
      "include_colab_link": true
    },
    "kernelspec": {
      "name": "python3",
      "display_name": "Python 3"
    },
    "language_info": {
      "name": "python"
    }
  },
  "cells": [
    {
      "cell_type": "markdown",
      "metadata": {
        "id": "view-in-github",
        "colab_type": "text"
      },
      "source": [
        "<a href=\"https://colab.research.google.com/github/alangkim/fchollet/blob/main/CNN.ipynb\" target=\"_parent\"><img src=\"https://colab.research.google.com/assets/colab-badge.svg\" alt=\"Open In Colab\"/></a>"
      ]
    },
    {
      "cell_type": "markdown",
      "source": [
        "## 완전연결계층"
      ],
      "metadata": {
        "id": "Qk4wtjBvI_rB"
      }
    },
    {
      "cell_type": "markdown",
      "source": [
        "\n",
        "* Affine 계층\n",
        "* Affine - RuLU\n",
        "* 데이터의 형상이 무시됨"
      ],
      "metadata": {
        "id": "5d7W4p0YJRcW"
      }
    },
    {
      "cell_type": "markdown",
      "source": [
        "## CNN"
      ],
      "metadata": {
        "id": "ma4uh7NZJTy_"
      }
    },
    {
      "cell_type": "markdown",
      "source": [
        "* Conv(합성곱계층)과 Pooling(풀링)이 추가됨\n",
        "\n",
        "* Conv - Relu - (Pooling)\n",
        "\n",
        "* 출력에 가까운 층에서는 Affine - ReLU 사용\n",
        "\n",
        "* 마지막 출력 계층에서는 Affine - Softmax 사용"
      ],
      "metadata": {
        "id": "95HHaIquJWLv"
      }
    },
    {
      "cell_type": "markdown",
      "source": [
        "### 데이터\n",
        "\n",
        "(데이터 수) x (채널 수) x (높이) x (너비) "
      ],
      "metadata": {
        "id": "anwcOzH8Oi0H"
      }
    },
    {
      "cell_type": "markdown",
      "source": [
        "### 필터 = 커널\n",
        "\n",
        "(출력 채널 수 = 채널 수) x (입력 채널 수 = 필터의 크기) x (height) x (width)\n",
        "\n",
        "데이터의 채널 수와 필터의 채널 수는 일치해야한다.\n",
        "\n",
        "다수의 출력 데이터를 내보내기 위해서는 다수의 필터를 사용하면 된다."
      ],
      "metadata": {
        "id": "gPHTSQ0gMtrJ"
      }
    },
    {
      "cell_type": "markdown",
      "source": [
        "### 패딩\n",
        "합성곱 연산을 수행하기 전에 입력 데이터 주변을 특정값으로 채우는 것\n",
        "\n",
        "출력 크기를 조절할 목적으로 사용"
      ],
      "metadata": {
        "id": "u0ik4pA0Lyd8"
      }
    },
    {
      "cell_type": "markdown",
      "source": [
        "### 스트라이드\n",
        "필터를 적용하는 위치의 간격"
      ],
      "metadata": {
        "id": "2ys85fIiMLFF"
      }
    },
    {
      "cell_type": "markdown",
      "source": [
        "### 풀링\n",
        "세로, 가로 방향의 공간을 줄이는 연산\n",
        "\n",
        "최대 풀링 : 해당 영역에서 가장 큰 원소를 꺼냄, 이미지 인식에서는 보통 최대 풀링 사용\n",
        "\n",
        "평균 풀링 : 해당 영역의 평균을 계산\n",
        "\n",
        "* 학습해야 할 매개변수가 없다\n",
        "* 채널 수가 변하지 않는다\n",
        "* 입력의 변화에 영향을 적게 받는다"
      ],
      "metadata": {
        "id": "OGrVthhnO_JL"
      }
    },
    {
      "cell_type": "code",
      "source": [
        "import numpy as np"
      ],
      "metadata": {
        "id": "q8LyjaorQQbc"
      },
      "execution_count": null,
      "outputs": []
    },
    {
      "cell_type": "code",
      "source": [
        "x = np.random.rand(10, 1, 28, 28)"
      ],
      "metadata": {
        "id": "t65ReYsuPsr4"
      },
      "execution_count": null,
      "outputs": []
    },
    {
      "cell_type": "code",
      "source": [
        "x.shape"
      ],
      "metadata": {
        "id": "HhUU2-_gQWe9"
      },
      "execution_count": null,
      "outputs": []
    },
    {
      "cell_type": "code",
      "source": [
        "x[0].shape"
      ],
      "metadata": {
        "id": "OTZmnSG8QXV3"
      },
      "execution_count": null,
      "outputs": []
    },
    {
      "cell_type": "code",
      "source": [
        "x[0][0]\n",
        "# x[0, 0]과 동일"
      ],
      "metadata": {
        "id": "xP06G4tBQhv3"
      },
      "execution_count": null,
      "outputs": []
    },
    {
      "cell_type": "markdown",
      "source": [
        "### im2col = image to column\n",
        "\n",
        "입력 데이터를 필터링 하기 좋게 전개하는 함수\n",
        "\n",
        "4차원 데이터를 2차원으로 변환\n",
        "\n",
        "im2col(input_data, filter_h, filter_w, stride, pad)\n"
      ],
      "metadata": {
        "id": "uYst_TIuReXc"
      }
    },
    {
      "cell_type": "markdown",
      "source": [
        "### 합성곱 계층의 구현 흐름\n",
        "\n",
        "1. im2col로 입력 데터를 전개\n",
        "\n",
        "2. 합성곱 계층의 필터를 1열로 전개\n",
        "\n",
        "3. 두 행렬의 내적 계산\n",
        "\n",
        "4. 결과를 다시 4차원으로 변형"
      ],
      "metadata": {
        "id": "Ow0R25HQSTEE"
      }
    },
    {
      "cell_type": "code",
      "source": [
        "import common"
      ],
      "metadata": {
        "id": "9vCE4F00QuNF"
      },
      "execution_count": null,
      "outputs": []
    },
    {
      "cell_type": "code",
      "source": [
        "\n",
        "import sys, os\n",
        "sys.path.append(os.pardir)\n",
        "from common.util import im2col"
      ],
      "metadata": {
        "id": "6XZax73OQzsj"
      },
      "execution_count": null,
      "outputs": []
    },
    {
      "cell_type": "code",
      "source": [
        "import sys\n",
        "sys.modules['common']"
      ],
      "metadata": {
        "id": "QvG18W2vTDYy"
      },
      "execution_count": null,
      "outputs": []
    },
    {
      "cell_type": "code",
      "source": [
        ""
      ],
      "metadata": {
        "id": "JnPCiy-mTVra"
      },
      "execution_count": null,
      "outputs": []
    }
  ]
}