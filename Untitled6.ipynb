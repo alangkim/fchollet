{
  "nbformat": 4,
  "nbformat_minor": 0,
  "metadata": {
    "colab": {
      "name": "Untitled6.ipynb",
      "private_outputs": true,
      "provenance": [],
      "authorship_tag": "ABX9TyNhYdKxOUQbX/kqYx2EYygE",
      "include_colab_link": true
    },
    "kernelspec": {
      "name": "python3",
      "display_name": "Python 3"
    },
    "language_info": {
      "name": "python"
    },
    "gpuClass": "standard"
  },
  "cells": [
    {
      "cell_type": "markdown",
      "metadata": {
        "id": "view-in-github",
        "colab_type": "text"
      },
      "source": [
        "<a href=\"https://colab.research.google.com/github/alangkim/fchollet/blob/main/Untitled6.ipynb\" target=\"_parent\"><img src=\"https://colab.research.google.com/assets/colab-badge.svg\" alt=\"Open In Colab\"/></a>"
      ]
    },
    {
      "cell_type": "markdown",
      "source": [
        "# 주식 손익 프로그램"
      ],
      "metadata": {
        "id": "VsbefZXYJKpx"
      }
    },
    {
      "cell_type": "code",
      "source": [
        ""
      ],
      "metadata": {
        "id": "mOpe1gdnJm3V"
      },
      "execution_count": null,
      "outputs": []
    },
    {
      "cell_type": "code",
      "source": [
        ""
      ],
      "metadata": {
        "id": "fMrtis38Q-c8"
      },
      "execution_count": null,
      "outputs": []
    },
    {
      "cell_type": "code",
      "execution_count": null,
      "metadata": {
        "id": "zlmlX5CrJJdM"
      },
      "outputs": [],
      "source": [
        "import numpy as np\n",
        "\n",
        "print(\"이 프로그램은 보유하고 있는 주식의 현재 상황을 파악하기 위해 만들어졌습니다.\",\n",
        "      \"지시사항을 잘 읽고 답해주세요\",\n",
        "      \"===================================================================================\",\n",
        "      sep = \"\\n\")\n",
        "\n",
        "n = int(input(\"보유하고 계신 국내 주식 종목의 개수를 입력해주세요(숫자만 적어주세요) : \"))\n",
        "\n",
        "stock = []\n",
        "quantity = []\n",
        "buying_price = []\n",
        "today_price = []\n",
        "profit = []\n",
        "total_buying = []\n",
        "total_possess = []\n",
        "\n",
        "\n",
        "for i in range(n):\n",
        "    a = input(str(i+1)+\"번째 종목의 이름을 적어주세요: \")\n",
        "    stock.append(a)\n",
        "\n",
        "    b = int(input(a, \"종목을 몇 주 갖고 계신지 적어주세요(숫자만 적어주세요): \"))\n",
        "    quantity.append(b)\n",
        "\n",
        "    c = float(input(a, \"종목을 얼마에 매수하셨는지 적어주세요(숫자만 적어주세요. 단위는 원입니다.): \"))\n",
        "    buying_price.append(c)\n",
        "\n",
        "    d = float(input(a, \"종목의 현재 가격을 알려주세요(숫자만 적어주세요. 단위는 원입니다.): \"))\n",
        "    today_price.append(d)\n",
        "\n",
        "    e = (d - c) / c * 100\n",
        "    profit.append(e)\n",
        "\n",
        "    f = b * c\n",
        "    total_buying.append(f)\n",
        "\n",
        "    g = b * d\n",
        "    total_possess.append(g)\n",
        "\n",
        "\n"
      ]
    },
    {
      "cell_type": "code",
      "source": [
        "h = np.sum(total_buying)\n",
        "i = np.sum(total_possess)\n",
        "\n",
        "total_profit = (i-h)/h * 100"
      ],
      "metadata": {
        "id": "i-ekLt0BPXr2"
      },
      "execution_count": null,
      "outputs": []
    },
    {
      "cell_type": "code",
      "source": [
        "data = {\"종목\":name, \"수량\":number, \"매수가(원)\":start, \"현재가(원)\":end, \"손익(%)\":profit}"
      ],
      "metadata": {
        "id": "C8WnyWYjLORo"
      },
      "execution_count": null,
      "outputs": []
    },
    {
      "cell_type": "code",
      "source": [
        "import pandas as pd\n",
        "df = pd.DataFrame(data)"
      ],
      "metadata": {
        "id": "8iiGL0W3K1J1"
      },
      "execution_count": null,
      "outputs": []
    },
    {
      "cell_type": "code",
      "source": [
        "print(\"보유하고 계신 주식의 현재 상황을 요약하면 다음과 같습니다.\")\n",
        "df"
      ],
      "metadata": {
        "id": "_7rFQi84NkHW"
      },
      "execution_count": null,
      "outputs": []
    },
    {
      "cell_type": "code",
      "source": [
        "print(\"총 보유 주식 수는\", str(np.sum(quantity))+\"개 입니다.\"\n",
        "print(\"총 매수가는\", str(np.sum()))"
      ],
      "metadata": {
        "id": "8m4iwPPBNlTJ"
      },
      "execution_count": null,
      "outputs": []
    },
    {
      "cell_type": "code",
      "source": [
        "# 아쉬운 점 : 더 공부해서 기간별 수익을 반영할 수 있었으면 좋겠다."
      ],
      "metadata": {
        "id": "QujPePGvO2ec"
      },
      "execution_count": null,
      "outputs": []
    }
  ]
}