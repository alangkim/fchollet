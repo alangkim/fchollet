{
  "cells": [
    {
      "cell_type": "markdown",
      "metadata": {
        "id": "view-in-github",
        "colab_type": "text"
      },
      "source": [
        "<a href=\"https://colab.research.google.com/github/alangkim/fchollet/blob/main/%EB%94%A5%EB%9F%AC%EB%8B%9D_%EC%A4%91%EA%B0%84%EA%B3%A0%EC%82%AC_(1).ipynb\" target=\"_parent\"><img src=\"https://colab.research.google.com/assets/colab-badge.svg\" alt=\"Open In Colab\"/></a>"
      ]
    },
    {
      "cell_type": "markdown",
      "metadata": {
        "id": "5absg6OzoxSg"
      },
      "source": [
        "# Ch4. The mathematical building blocks of neural networks"
      ]
    },
    {
      "cell_type": "markdown",
      "metadata": {
        "id": "cidEctlYwRsf"
      },
      "source": [
        "## import"
      ]
    },
    {
      "cell_type": "code",
      "execution_count": null,
      "metadata": {
        "id": "lejt1Ggqp6Wj"
      },
      "outputs": [],
      "source": [
        "import tensorflow as tf\n",
        "\n",
        "from tensorflow import keras\n",
        "\n",
        "from tensorflow.keras import layers\n",
        "from tensorflow.keras import models\n",
        "from tensorflow.keras import optimizers\n",
        "from tensorflow.keras import losses\n",
        "from tensorflow.keras import metrics\n",
        "from tensorflow.keras import regularizers\n",
        "from tensorflow.keras.utils import to_categorical\n",
        "\n",
        "import numpy as np\n",
        "import matplotlib.pyplot as plt\n",
        "import copy\n",
        "import os"
      ]
    },
    {
      "cell_type": "markdown",
      "metadata": {
        "id": "_YDeSS0gqEvu"
      },
      "source": [
        "## MNIST 분류하기"
      ]
    },
    {
      "cell_type": "code",
      "execution_count": null,
      "metadata": {
        "id": "2hOWDj8PqAvR",
        "colab": {
          "base_uri": "https://localhost:8080/",
          "height": 864
        },
        "outputId": "d387c1b2-b903-4f6e-ddbd-ba8f4d5a8124"
      },
      "outputs": [
        {
          "output_type": "stream",
          "name": "stdout",
          "text": [
            "Downloading data from https://storage.googleapis.com/tensorflow/tf-keras-datasets/mnist.npz\n",
            "11493376/11490434 [==============================] - 0s 0us/step\n",
            "11501568/11490434 [==============================] - 0s 0us/step\n"
          ]
        },
        {
          "output_type": "display_data",
          "data": {
            "text/plain": [
              "<Figure size 432x288 with 1 Axes>"
            ],
            "image/png": "[encoded data removed]"
          },
          "metadata": {
            "needs_background": "light"
          }
        },
        {
          "output_type": "stream",
          "name": "stdout",
          "text": [
            "Epoch 1/5\n",
            "469/469 [==============================] - 9s 6ms/step - loss: 0.2551 - accuracy: 0.9259\n",
            "Epoch 2/5\n",
            "469/469 [==============================] - 3s 6ms/step - loss: 0.1034 - accuracy: 0.9693\n",
            "Epoch 3/5\n",
            "469/469 [==============================] - 3s 6ms/step - loss: 0.0690 - accuracy: 0.9786\n",
            "Epoch 4/5\n",
            "469/469 [==============================] - 3s 7ms/step - loss: 0.0497 - accuracy: 0.9850\n",
            "Epoch 5/5\n",
            "469/469 [==============================] - 3s 6ms/step - loss: 0.0376 - accuracy: 0.9886\n",
            "Model: \"sequential_1\"\n",
            "_________________________________________________________________\n",
            " Layer (type)                Output Shape              Param #   \n",
            "=================================================================\n",
            " dense_2 (Dense)             (None, 512)               401920    \n",
            "                                                                 \n",
            " dense_3 (Dense)             (None, 10)                5130      \n",
            "                                                                 \n",
            "=================================================================\n",
            "Total params: 407,050\n",
            "Trainable params: 407,050\n",
            "Non-trainable params: 0\n",
            "_________________________________________________________________\n",
            "[6.3981465e-10 4.9724825e-11 2.7523271e-07 4.3689074e-06 2.5856530e-13\n",
            " 1.6552356e-08 4.2436435e-15 9.9999535e-01 2.1374182e-08 2.7174183e-08]\n",
            "7\n",
            "0.99999535\n",
            "7\n",
            "313/313 [==============================] - 2s 4ms/step - loss: 0.0764 - accuracy: 0.9768\n",
            "test_acc: 0.9768000245094299\n"
          ]
        }
      ],
      "source": [
        "# mnist 불러오기\n",
        "from tensorflow.keras.datasets import mnist\n",
        "(train_images, train_labels), (test_images, test_labels) = mnist.load_data()\n",
        "\n",
        "# .shpae, len() 등으로 데이터의 구조를 파악할 수 있다.\n",
        "\n",
        "\n",
        "# 그림 불러오기\n",
        "a = train_images[4]\n",
        "plt.imshow(a, cmap = plt.cm.binary)\n",
        "plt.show()\n",
        "\n",
        "# data\n",
        "train_images = train_images.reshape((60000, 28*28))\n",
        "train_images = train_images.astype('float32') / 255\n",
        "test_images = test_images.reshape((10000, 28*28))\n",
        "test_images = test_images.astype('float32') / 255\n",
        "\n",
        "# model 만드는 방법 1\n",
        "model = keras.Sequential()\n",
        "model.add(layers.Dense(512, activation = 'relu'))\n",
        "model.add(layers.Dense(10, activation = 'softmax'))\n",
        "\n",
        "# model 만드는 방법 2\n",
        "model = keras.Sequential([\n",
        "    layers.Dense(512, activation=\"relu\"),\n",
        "    layers.Dense(10, activation=\"softmax\")\n",
        "])\n",
        "\n",
        "# compile\n",
        "model.compile(optimizer = 'rmsprop',\n",
        "              loss = 'sparse_categorical_crossentropy',\n",
        "              metrics = 'accuracy')\n",
        "\n",
        "# fit\n",
        "model.fit(train_images,\n",
        "          train_labels,\n",
        "          epochs = 5,\n",
        "          batch_size = 128)\n",
        "\n",
        "\n",
        "# model summary\n",
        "model.summary()\n",
        "\n",
        "# prediction\n",
        "test_digits = test_images[:10]\n",
        "predictions = model.predict(test_digits)\n",
        "print(\n",
        "predictions[0],\n",
        "predictions[0].argmax(),\n",
        "predictions[0][7],\n",
        "test_labels[0],\n",
        "sep = '\\n'\n",
        ")\n",
        "\n",
        "# evaluation\n",
        "test_loss, test_acc = model.evaluate(test_images, test_labels)\n",
        "print(f\"test_acc: {test_acc}\")"
      ]
    },
    {
      "cell_type": "markdown",
      "metadata": {
        "id": "qg3tuCN3yT8y"
      },
      "source": [
        "## 텐서 만들기"
      ]
    },
    {
      "cell_type": "code",
      "execution_count": null,
      "metadata": {
        "colab": {
          "base_uri": "https://localhost:8080/"
        },
        "id": "AJ7InhSexDEI",
        "outputId": "e692a769-c98a-4d0b-ca8f-01594bc3a461"
      },
      "outputs": [
        {
          "output_type": "stream",
          "name": "stdout",
          "text": [
            "[[[1 2]\n",
            "  [3 4]]]\n"
          ]
        }
      ],
      "source": [
        "#np.array()로 만들고 .ndim .shape .dtype 으로 텐서 구조 확인\n",
        "#np.array() : 리스트, 튜플 등을 넘파이 배열로 만들어준다.\n",
        "\n",
        "a = np.array(1)\n",
        "\n",
        "b = np.array([1, 2, 3])\n",
        "\n",
        "c = np.array([[1, 2], \n",
        "              [3, 4]])\n",
        "\n",
        "d = np.array([[[1, 2],\n",
        "               [3, 4]],\n",
        "              [[1, 2],\n",
        "               [4, 5]],\n",
        "              [[3, 4],\n",
        "               [5, 6]]])\n",
        "\n",
        "#print(a, b, c, d, sep = '\\n')\n",
        "\n",
        "#print(d.ndim, d.shape, d.dtype)\n",
        "\n",
        "my_slice = d[0:1, :, :]\n",
        "\n",
        "print(my_slice)"
      ]
    },
    {
      "cell_type": "markdown",
      "metadata": {
        "id": "aioADdigoxSs"
      },
      "source": [
        "## 넘파이로 텐서 조작하기"
      ]
    },
    {
      "cell_type": "code",
      "execution_count": null,
      "metadata": {
        "colab": {
          "base_uri": "https://localhost:8080/"
        },
        "id": "QaOFfN18oxSs",
        "outputId": "495cf29b-3872-418c-dc65-1f66fda98625"
      },
      "outputs": [
        {
          "output_type": "stream",
          "name": "stdout",
          "text": [
            "3\n",
            "(60000, 28, 28)\n"
          ]
        }
      ],
      "source": [
        "from tensorflow.keras.datasets import mnist\n",
        "(train_images, train_labels), (test_images, test_labels) = mnist.load_data()\n",
        "\n",
        "print(\n",
        "train_images.ndim,\n",
        "train_images.shape,\n",
        "sep = '\\n'\n",
        ")\n",
        "\n",
        "my_slice = train_images[10:100]\n",
        "my_slice = train_images[10:100, :, :]\n",
        "my_slice = train_images[10:100, 0:28, 0:28]"
      ]
    },
    {
      "cell_type": "markdown",
      "metadata": {
        "id": "PJhtnMY8oxSt"
      },
      "source": [
        "# 3. Introduction to Keras and Tensorflow"
      ]
    },
    {
      "cell_type": "markdown",
      "metadata": {
        "id": "iz0LAlXFoxSt"
      },
      "source": [
        "## 텐서플로우 계산"
      ]
    },
    {
      "cell_type": "code",
      "execution_count": null,
      "metadata": {
        "colab": {
          "base_uri": "https://localhost:8080/"
        },
        "id": "i4x1Pk4HoxSt",
        "outputId": "a7f3e764-20af-4ccc-a51f-b7b9e47c982d"
      },
      "outputs": [
        {
          "output_type": "stream",
          "name": "stdout",
          "text": [
            "tf.Tensor(\n",
            "[[1.]\n",
            " [1.]], shape=(2, 1), dtype=float32) [[1.]\n",
            " [1.]]\n",
            "tf.Tensor(\n",
            "[[0.]\n",
            " [0.]], shape=(2, 1), dtype=float32) [[0.]\n",
            " [0.]]\n",
            "tf.Tensor(\n",
            "[[1.223554  ]\n",
            " [0.19278012]\n",
            " [0.8392564 ]], shape=(3, 1), dtype=float32) [[-0.13592398]\n",
            " [-0.48190566]\n",
            " [ 0.66492627]]\n",
            "tf.Tensor(\n",
            "[[0.2997396 ]\n",
            " [0.31414294]\n",
            " [0.7965541 ]], shape=(3, 1), dtype=float32) [[0.03703838]\n",
            " [0.43954278]\n",
            " [0.42991179]]\n",
            "[[1. 1.]\n",
            " [1. 1.]]\n",
            "[[0. 1.]\n",
            " [1. 1.]]\n",
            "<tf.Variable 'Variable:0' shape=(3, 1) dtype=float32, numpy=\n",
            "array([[ 0.56176317],\n",
            "       [-0.34014943],\n",
            "       [ 2.2744358 ]], dtype=float32)>\n",
            "<tf.Variable 'Variable:0' shape=(3, 1) dtype=float32, numpy=\n",
            "array([[1.],\n",
            "       [1.],\n",
            "       [1.]], dtype=float32)>\n",
            "<tf.Variable 'Variable:0' shape=(3, 1) dtype=float32, numpy=\n",
            "array([[3.],\n",
            "       [1.],\n",
            "       [1.]], dtype=float32)>\n",
            "<tf.Variable 'Variable:0' shape=(3, 1) dtype=float32, numpy=\n",
            "array([[4.],\n",
            "       [2.],\n",
            "       [2.]], dtype=float32)>\n",
            "<tf.Variable 'Variable:0' shape=(3, 1) dtype=float32, numpy=\n",
            "array([[3.],\n",
            "       [1.],\n",
            "       [1.]], dtype=float32)>\n"
          ]
        }
      ],
      "source": [
        "# tf.ones\n",
        "x_tf = tf.ones(shape = (2, 1)) # shape= 생략 가능\n",
        "x_np = np.ones(shape = (2, 1))\n",
        "print(x_tf, x_np)\n",
        "\n",
        "\n",
        "# tf.zeros\n",
        "y_tf = tf.zeros(shape = (2, 1))\n",
        "y_np = np.zeros(shape = (2, 1))\n",
        "print(y_tf, y_np)\n",
        "\n",
        "\n",
        "#tf.random\n",
        "z_tf = tf.random.normal(shape = (3, 1), mean = 0., stddev = 1.)\n",
        "z_np = np.random.normal(size = (3, 1), loc = 0., scale = 1.)\n",
        "print(z_tf, z_np)\n",
        "\n",
        "\n",
        "#tf.uniform\n",
        "w_tf = tf.random.uniform(shape = (3, 1), minval = 0., maxval = 1.)\n",
        "w_np = np.random.uniform(size = (3, 1), low = 0., high = 1.)\n",
        "print(w_tf, w_np)\n",
        "\n",
        "\n",
        "# Tensorflow tensors aren't assignable\n",
        "x = np.ones(shape = (2, 2))\n",
        "print(x)\n",
        "\n",
        "x[0, 0] = 0\n",
        "print(x)\n",
        "#텐서플로우 텐서는 바꾸려고 하면 오류 발생 'tensorflow.python.framework.ops.EagerTensor' object does not support item assignment\n",
        "\n",
        "\n",
        "#tf.Variable\n",
        "#is the class meant to manage modifiable state in Tensorflow\n",
        "v = tf.Variable(initial_value = tf.random.normal(shape = (3, 1)))\n",
        "print(v)\n",
        "\n",
        "#assign\n",
        "v.assign(tf.ones((3,1)))\n",
        "print(v)\n",
        "\n",
        "v[0, 0].assign(3.)\n",
        "print(v)\n",
        "\n",
        "#assign_add, assign_sub\n",
        "#are equivalients of += and -=\n",
        "v.assign_add(tf.ones((3, 1)))\n",
        "print(v)\n",
        "\n",
        "v.assign_sub(tf.ones((3,1)))\n",
        "print(v)"
      ]
    },
    {
      "cell_type": "code",
      "execution_count": null,
      "metadata": {
        "colab": {
          "base_uri": "https://localhost:8080/"
        },
        "id": "A748XipIoxSv",
        "outputId": "0f7e5578-e590-474b-ea34-1c2dba315ff2"
      },
      "outputs": [
        {
          "output_type": "stream",
          "name": "stdout",
          "text": [
            "tf.Tensor(\n",
            "[[ 1.  4.]\n",
            " [ 9. 16.]], shape=(2, 2), dtype=float32)\n",
            "tf.Tensor(\n",
            "[[1.        1.4142137]\n",
            " [1.7320509 2.       ]], shape=(2, 2), dtype=float32)\n",
            "tf.Tensor(\n",
            "[[ 2.         5.4142137]\n",
            " [10.732051  18.       ]], shape=(2, 2), dtype=float32)\n",
            "tf.Tensor(\n",
            "[[19. 36.]\n",
            " [39. 76.]], shape=(2, 2), dtype=float32)\n",
            "tf.Tensor(\n",
            "[[ 1.  8.]\n",
            " [27. 64.]], shape=(2, 2), dtype=float32)\n"
          ]
        }
      ],
      "source": [
        "# basic math operations\n",
        "\n",
        "a = tf.constant([[1., 2.],[3., 4.]])\n",
        "\n",
        "b = tf.square(a)\n",
        "print(b)\n",
        "\n",
        "c = tf.sqrt(a)\n",
        "print(c)\n",
        "\n",
        "d = b + c\n",
        "print(d)\n",
        "\n",
        "e = tf.matmul(a, b) # Take a product of two tensors\n",
        "print(e)\n",
        "\n",
        "a *= b # multiply two tensors elementwise\n",
        "print(a)\n"
      ]
    },
    {
      "cell_type": "code",
      "execution_count": null,
      "metadata": {
        "colab": {
          "base_uri": "https://localhost:8080/"
        },
        "id": "zztzzLkUoxSv",
        "outputId": "b36a4272-03e8-4b29-a683-02c10c8d5271"
      },
      "outputs": [
        {
          "output_type": "stream",
          "name": "stdout",
          "text": [
            "tf.Tensor(6.0, shape=(), dtype=float32)\n"
          ]
        }
      ],
      "source": [
        "#gradient tape on variable\n",
        "\n",
        "input_var = tf.Variable(initial_value = 3.)\n",
        "with tf.GradientTape() as tape:\n",
        "    result = tf.square(input_var) # y = x**2\n",
        "gradient = tape.gradient(result, input_var) # gradient of 'result' with 'input_var'\n",
        "#gradient = tape.gradient(loss, weights)\n",
        "print(gradient)"
      ]
    },
    {
      "cell_type": "code",
      "execution_count": null,
      "metadata": {
        "colab": {
          "base_uri": "https://localhost:8080/"
        },
        "id": "3YIbsdYRoxSv",
        "outputId": "9cf1c621-bab9-4d9d-d393-537d7a0c45fd"
      },
      "outputs": [
        {
          "output_type": "stream",
          "name": "stdout",
          "text": [
            "tf.Tensor(6.0, shape=(), dtype=float32)\n"
          ]
        }
      ],
      "source": [
        "#gradient tape on constant\n",
        "\n",
        "# Only trainable variables are tracked by default. With a constant tensor, you'd have to manually mark it as being tracked by calling tape.wathh() on it.\n",
        "input_const = tf.constant(3.)\n",
        "with tf.GradientTape() as tape:\n",
        "    tape.watch(input_const)\n",
        "    result = tf.square(input_const)\n",
        "gradient = tape.gradient(result, input_const)\n",
        "print(gradient)\n",
        "\n",
        "# 즉, gradient tape에서 variable이 아닌 constant를 계산하고싶다면 tape.watch()를 넣어줘야한다."
      ]
    },
    {
      "cell_type": "markdown",
      "metadata": {
        "id": "Jdopya6aoxSw"
      },
      "source": [
        "## An end to end example: A linear classifier in pure Tensorflow"
      ]
    },
    {
      "cell_type": "code",
      "execution_count": null,
      "metadata": {
        "id": "YCcIN71zoxSw"
      },
      "outputs": [],
      "source": [
        "# 데이터 만들기\n",
        "# Two classes of points in a 2D plane.\n",
        "\n",
        "num_samples_per_class = 1000\n",
        "\n",
        "negative_samples = np.random.multivariate_normal(mean = [0, 3], #평균좌표(0,3)\n",
        "                                                 cov = [[1, 0.5], [0.5, 1]],\n",
        "                                                 size = num_samples_per_class)\n",
        "\n",
        "positive_samples = np.random.multivariate_normal(mean = [3, 0], #평균좌표(3, 0)\n",
        "                                                 cov = [[1, 0.5], [0.5, 1]],\n",
        "                                                 size = num_samples_per_class)\n",
        "\n",
        "# np.random.multivariate_normal : 다변량 정규분포에서 랜덤표본 추출"
      ]
    },
    {
      "cell_type": "code",
      "execution_count": null,
      "metadata": {
        "colab": {
          "base_uri": "https://localhost:8080/",
          "height": 265
        },
        "id": "XOv04ejdoxSx",
        "outputId": "9cb4b33f-3529-4d9e-985e-bd8b41b93140"
      },
      "outputs": [
        {
          "output_type": "display_data",
          "data": {
            "text/plain": [
              "<Figure size 432x288 with 1 Axes>"
            ],
            "image/png": "[encoded data removed]"
          },
          "metadata": {
            "needs_background": "light"
          }
        }
      ],
      "source": [
        "# 데이터 정리\n",
        "\n",
        "inputs = np.vstack((negative_samples, positive_samples)).astype(np.float32)\n",
        "#vstack = vertical stack\n",
        "\n",
        "targets = np.vstack((np.zeros((num_samples_per_class, 1), dtype = \"float32\"),\n",
        "                     np.ones((num_samples_per_class, 1), dtype = \"float32\")))\n",
        "\n",
        "plt.scatter(inputs[:, 0], inputs[:, 1], c=targets[:, 0])\n",
        "plt.show()\n",
        "\n",
        "# inputs의 전체 행의 1열을 x좌표, 전체 행의 2열을 y좌표로 하는 scatter plot을 그리는데, targets 전체 행의 열을 기준으로 다른 숫자의 색은 다른 색으로 칠해라."
      ]
    },
    {
      "cell_type": "code",
      "execution_count": null,
      "metadata": {
        "id": "5tcwQBdpoxSx"
      },
      "outputs": [],
      "source": [
        "# Create a linear classification\n",
        "\n",
        "inputs_dim = 2 # x좌표, y좌표 2개\n",
        "output_dim = 1 # 0에서 1사이의 확률. 0에 가까우면 negative, 1에 가까우면 positive로 판단.\n",
        "W = tf.Variable(initial_value = tf.random.uniform(shape=(inputs_dim, output_dim)))\n",
        "b = tf.Variable(initial_value = tf.zeros(shape = output_dim,))\n",
        "\n",
        "\n",
        "# [w1, w2] [x, y] + b   "
      ]
    },
    {
      "cell_type": "code",
      "execution_count": null,
      "metadata": {
        "id": "qlE5RZFzoxSy"
      },
      "outputs": [],
      "source": [
        "#model\n",
        "def model(inputs):\n",
        "    return tf.matmul(inputs, W) + b #loss function\n",
        "\n",
        "\n",
        "#loss\n",
        "def square_loss(targets, predictions):\n",
        "    per_sample_losses = tf.square(targets - predictions) # loss function\n",
        "    return tf.reduce_mean(per_sample_losses) # loss의 평균을 반환\n",
        "\n",
        "# tf.reduce_mean(x) : x 행렬 전체의 평균을 반환\n",
        "# tf.reduce_mean(x, 0) : x 행렬의 열 평균을 반환\n",
        "# tf.reduce_mean(x, 1) : x 행렬의 행 평균을 반환\n",
        "\n",
        "\n",
        "# training with gradient tape\n",
        "learning_rate = 0.1\n",
        "def training_step(inputs, targets):\n",
        "    with tf.GradientTape() as tape:\n",
        "        predictions = model(inputs) # model\n",
        "        loss = square_loss(targets, predictions) # loss function\n",
        "    grad_loss_wrt_W, grad_loss_wrt_b = tape.gradient(loss, [W, b]) # wrt : with respect to\n",
        "    W.assign_sub(grad_loss_wrt_W * learning_rate)\n",
        "    b.assign_sub(grad_loss_wrt_b * learning_rate)\n",
        "    return loss"
      ]
    },
    {
      "cell_type": "code",
      "execution_count": null,
      "metadata": {
        "colab": {
          "base_uri": "https://localhost:8080/"
        },
        "id": "BezJJ6VWoxS0",
        "outputId": "6e8de521-8858-4dd6-e9f8-46e592c4be95"
      },
      "outputs": [
        {
          "output_type": "stream",
          "name": "stdout",
          "text": [
            "Loss at step 0: 0.9651\n",
            "Loss at step 1: 0.2305\n",
            "Loss at step 2: 0.1187\n",
            "Loss at step 3: 0.0972\n",
            "Loss at step 4: 0.0893\n",
            "Loss at step 5: 0.0837\n",
            "Loss at step 6: 0.0788\n",
            "Loss at step 7: 0.0744\n",
            "Loss at step 8: 0.0703\n",
            "Loss at step 9: 0.0666\n",
            "Loss at step 10: 0.0632\n",
            "Loss at step 11: 0.0600\n",
            "Loss at step 12: 0.0571\n",
            "Loss at step 13: 0.0545\n",
            "Loss at step 14: 0.0521\n",
            "Loss at step 15: 0.0499\n",
            "Loss at step 16: 0.0478\n",
            "Loss at step 17: 0.0460\n",
            "Loss at step 18: 0.0443\n",
            "Loss at step 19: 0.0427\n",
            "Loss at step 20: 0.0413\n",
            "Loss at step 21: 0.0399\n",
            "Loss at step 22: 0.0387\n",
            "Loss at step 23: 0.0376\n",
            "Loss at step 24: 0.0366\n",
            "Loss at step 25: 0.0357\n",
            "Loss at step 26: 0.0348\n",
            "Loss at step 27: 0.0340\n",
            "Loss at step 28: 0.0333\n",
            "Loss at step 29: 0.0327\n",
            "Loss at step 30: 0.0320\n",
            "Loss at step 31: 0.0315\n",
            "Loss at step 32: 0.0310\n",
            "Loss at step 33: 0.0305\n",
            "Loss at step 34: 0.0301\n",
            "Loss at step 35: 0.0297\n",
            "Loss at step 36: 0.0293\n",
            "Loss at step 37: 0.0290\n",
            "Loss at step 38: 0.0287\n",
            "Loss at step 39: 0.0284\n"
          ]
        }
      ],
      "source": [
        "# train\n",
        "\n",
        "for step in range(40):\n",
        "    loss = training_step(inputs, targets)\n",
        "    print(f\"Loss at step {step}: {loss:.4f}\") # :.4f 실수 소수점 아래 자리 수 제한"
      ]
    },
    {
      "cell_type": "code",
      "execution_count": null,
      "metadata": {
        "colab": {
          "base_uri": "https://localhost:8080/",
          "height": 283
        },
        "id": "WS9FQAGhoxS1",
        "outputId": "af6fcbf7-f232-4e36-f0c6-f75984b6fe96"
      },
      "outputs": [
        {
          "output_type": "execute_result",
          "data": {
            "text/plain": [
              "<matplotlib.collections.PathCollection at 0x7f4bdd223bd0>"
            ]
          },
          "metadata": {},
          "execution_count": 14
        },
        {
          "output_type": "display_data",
          "data": {
            "text/plain": [
              "<Figure size 432x288 with 1 Axes>"
            ],
            "image/png": "[encoded data removed]"
          },
          "metadata": {
            "needs_background": "light"
          }
        }
      ],
      "source": [
        "# predict\n",
        "\n",
        "predictions = model(inputs)\n",
        "\n",
        "x = np.linspace(-1, 4, 100)\n",
        "y = - W[0] /  W[1] * x + (0.5 - b) / W[1]\n",
        "plt.plot(x, y, \"-r\")  # 왜 r이 아니라 -r인가?\n",
        "plt.scatter(inputs[:, 0], inputs[:, 1], c=predictions[:, 0] > 0.5)\n",
        "\n",
        "#np.linspace(구간시작점, 구간끝점, 구간내숫자개수)"
      ]
    },
    {
      "cell_type": "markdown",
      "metadata": {
        "id": "1ROWZmmzoxS1"
      },
      "source": [
        "#### input\n",
        "In Keras, layers automatically inferred their input shape as being the shape of the first inputs they see.\n",
        "\n",
        "\n",
        "#### loss function\n",
        "two class classification : binary crossentropy\n",
        "\n",
        "many class classification : categorical crossentropy\n",
        "\n",
        "regression : mean squared error\n",
        "\n",
        "\n",
        "#### comlile step\n",
        "key arguments:\n",
        "\n",
        "1. Loss function\n",
        "\n",
        "2. Optimizer\n",
        "\n",
        "3. Metrics\n",
        "\n",
        "#### fit() method\n",
        "key arguments:\n",
        "\n",
        "1. The data to train on\n",
        "\n",
        "2. The number of epochs to train for\n",
        "\n",
        "3. The bath size to use within each epoch of mini-batch gradient descent"
      ]
    },
    {
      "cell_type": "code",
      "execution_count": null,
      "metadata": {
        "id": "WfwJXQEUoxS2"
      },
      "outputs": [],
      "source": [
        "layer = layers.Dense(32, activation = 'relu')\n",
        "\n",
        "model = models.Sequential([\n",
        "    layers.Dense(32, activation = 'relu'),\n",
        "    layers.Dense(32)\n",
        "])"
      ]
    },
    {
      "cell_type": "markdown",
      "metadata": {
        "id": "vvRMXVDOoxS2"
      },
      "source": [
        "# Ch4. Getting Started with Neural Networks"
      ]
    },
    {
      "cell_type": "markdown",
      "metadata": {
        "id": "-IcaP2oxoxS2"
      },
      "source": [
        "## 1. Classifying movie reviews: a binary classification example"
      ]
    },
    {
      "cell_type": "markdown",
      "metadata": {
        "id": "i40EWMh1oxS2"
      },
      "source": [
        "### IMDB dataset"
      ]
    },
    {
      "cell_type": "code",
      "execution_count": null,
      "metadata": {
        "colab": {
          "base_uri": "https://localhost:8080/"
        },
        "id": "HM8AMYRUoxS3",
        "outputId": "5ca51b14-e329-4550-8a0a-8a02a3b2fbf4"
      },
      "outputs": [
        {
          "output_type": "stream",
          "name": "stdout",
          "text": [
            "Object `imdb.load_data` not found.\n"
          ]
        }
      ],
      "source": [
        "imdb.load_data?"
      ]
    },
    {
      "cell_type": "code",
      "execution_count": null,
      "metadata": {
        "colab": {
          "base_uri": "https://localhost:8080/"
        },
        "id": "M8Oe3fIYoxS3",
        "outputId": "963ceec3-a724-493b-d56a-4e99603a1f37"
      },
      "outputs": [
        {
          "output_type": "stream",
          "name": "stdout",
          "text": [
            "Downloading data from https://storage.googleapis.com/tensorflow/tf-keras-datasets/imdb.npz\n",
            "17465344/17464789 [==============================] - 0s 0us/step\n",
            "17473536/17464789 [==============================] - 0s 0us/step\n"
          ]
        }
      ],
      "source": [
        "#data\n",
        "\n",
        "from tensorflow.keras.datasets import imdb\n",
        "(train_data, train_labels), (test_data, test_labels) = imdb.load_data(num_words = 10000)\n",
        "\n",
        "#num_words = 10000 : only keep the top 10,000 most frequently occurring words in the training data"
      ]
    },
    {
      "cell_type": "code",
      "execution_count": null,
      "metadata": {
        "colab": {
          "base_uri": "https://localhost:8080/",
          "height": 128
        },
        "id": "dx4ziRt2oxS3",
        "outputId": "9b6490ca-f846-4b05-b901-53f312c24a0b"
      },
      "outputs": [
        {
          "output_type": "stream",
          "name": "stdout",
          "text": [
            "Downloading data from https://storage.googleapis.com/tensorflow/tf-keras-datasets/imdb_word_index.json\n",
            "1646592/1641221 [==============================] - 0s 0us/step\n",
            "1654784/1641221 [==============================] - 0s 0us/step\n",
            "? this film was just brilliant casting location scenery story direction everyone's really suited the part they played and you could just imagine being there robert ? is an amazing actor and now the same being director ? father came from the same scottish island as myself so i loved the fact there was a real connection with this film the witty remarks throughout the film were great it was just brilliant so much that i bought the film as soon as it was released for ? and would recommend it to everyone to watch and the fly fishing was amazing really cried at the end it was so sad and you know what they say if you cry at a film it must have been good and this definitely was also ? to the two little boy's that played the ? of norman and paul they were just brilliant children are often left out of the ? list i think because the stars that play them all grown up are such a big profile for the whole film but these children are amazing and should be praised for what they have done don't you think the whole story was so lovely because it was true and was someone's life after all that was shared with us all\n"
          ]
        },
        {
          "output_type": "execute_result",
          "data": {
            "text/plain": [
              "'Hi good morning'"
            ],
            "application/vnd.google.colaboratory.intrinsic+json": {
              "type": "string"
            }
          },
          "metadata": {},
          "execution_count": 18
        }
      ],
      "source": [
        "#decoding\n",
        "\n",
        "word_index = imdb.get_word_index()\n",
        "reverse_word_index = dict(\n",
        "    [(value, key) for (key, value) in word_index.items()])\n",
        "decoded_review = \" \".join(\n",
        "    [reverse_word_index.get(i - 3, \"?\") for i in train_data[0]])\n",
        "print(decoded_review)\n",
        "\n",
        "\n",
        "# .get() : 딕셔너리의 키를 넣어주면 키 값을 반환해주고 해당 키가 존재하지 않으면 두 번째 인자를 반환.\n",
        "\n",
        "\n",
        "#cf)\n",
        "[i*2 for i in range(3)]\n",
        "\" \".join([\"Hi\", \"good\", \"morning\"])"
      ]
    },
    {
      "cell_type": "code",
      "execution_count": null,
      "metadata": {
        "id": "ZagPQg5ZoxS3"
      },
      "outputs": [],
      "source": [
        "# preparing data(multi hot encoding)\n",
        "# input shape of data shold be the same. so we need to do encoding\n",
        "\n",
        "def vectorize_sequences(sequences, dimension = 10000):\n",
        "    results = np.zeros((len(sequences), dimension))\n",
        "    for i, sequence in enumerate(sequences):\n",
        "        for j in sequence:\n",
        "            results[i, j] = 1.\n",
        "    return results\n",
        "    \n",
        "# enumerate() : 반복문 사용시 몇번째 반복문인지 확인 가능.\n",
        "    \n",
        "x_train = vectorize_sequences(train_data)\n",
        "x_test = vectorize_sequences(test_data)\n",
        "\n",
        "y_train = np.asarray(train_labels).astype(\"float32\")\n",
        "y_test = np.asarray(test_labels).astype(\"float32\")\n",
        "        \n",
        "x_val = x_train[:10000]\n",
        "partial_x_train = x_train[10000:]\n",
        "y_val = y_train[:10000]\n",
        "partial_y_train = y_train[10000:]"
      ]
    },
    {
      "cell_type": "markdown",
      "metadata": {
        "id": "n-HGx544oxS4"
      },
      "source": [
        "### model"
      ]
    },
    {
      "cell_type": "code",
      "execution_count": null,
      "metadata": {
        "colab": {
          "base_uri": "https://localhost:8080/",
          "height": 54
        },
        "id": "U1fCybEtoxS4",
        "outputId": "047b2767-e77a-4045-a5ce-7b9adb4c745b"
      },
      "outputs": [
        {
          "output_type": "execute_result",
          "data": {
            "text/plain": [
              "'\\nif we use Dense layer with output 2, natural extension should be\\nmodel = models.Sequential()\\nmodel.add(layers.Dense(16, activation = \"relu\", input_shape=(10000,)))\\nmodel.add(layers.Dense(16, activation = \"relu\"))\\nmodel.add(layers.Dense(2, activation = \"softmax\"))\\nsoftmax is natural extension of sigmoid\\n\\n'"
            ],
            "application/vnd.google.colaboratory.intrinsic+json": {
              "type": "string"
            }
          },
          "metadata": {},
          "execution_count": 20
        }
      ],
      "source": [
        "model = keras.Sequential([\n",
        "    layers.Dense(16, activation = \"relu\"),\n",
        "    layers.Dense(16, activation = \"relu\"),\n",
        "    layers.Dense(1, activation = \"sigmoid\")\n",
        "])    \n",
        "\n",
        "# relu : max(0, x)\n",
        "# sigmoid : -무한대는 0 무한대는 1의 값을 가짐. \n",
        "# for binary classification, we use sigmoid with single dense output layer\n",
        "\"\"\"\n",
        "if we use Dense layer with output 2, natural extension should be\n",
        "model = models.Sequential()\n",
        "model.add(layers.Dense(16, activation = \"relu\", input_shape=(10000,)))\n",
        "model.add(layers.Dense(16, activation = \"relu\"))\n",
        "model.add(layers.Dense(2, activation = \"softmax\"))\n",
        "softmax is natural extension of sigmoid\n",
        "\n",
        "\"\"\""
      ]
    },
    {
      "cell_type": "markdown",
      "metadata": {
        "id": "zfw9uQiKoxS4"
      },
      "source": [
        "### compile"
      ]
    },
    {
      "cell_type": "code",
      "execution_count": null,
      "metadata": {
        "id": "AVF9rUIwoxS4"
      },
      "outputs": [],
      "source": [
        "model.compile(optimizer = 'rmsprop',\n",
        "              loss = 'binary_crossentropy',\n",
        "              metrics = ['accuracy'])"
      ]
    },
    {
      "cell_type": "markdown",
      "metadata": {
        "id": "_HHRBDL3oxS5"
      },
      "source": [
        "### fit"
      ]
    },
    {
      "cell_type": "code",
      "execution_count": null,
      "metadata": {
        "scrolled": true,
        "colab": {
          "base_uri": "https://localhost:8080/"
        },
        "id": "gAcmgipFoxS5",
        "outputId": "de3b0e48-f515-4262-942e-f69199cafedc"
      },
      "outputs": [
        {
          "output_type": "stream",
          "name": "stdout",
          "text": [
            "Epoch 1/20\n",
            "30/30 [==============================] - 2s 45ms/step - loss: 0.5375 - accuracy: 0.7679 - val_loss: 0.4188 - val_accuracy: 0.8424\n",
            "Epoch 2/20\n",
            "30/30 [==============================] - 1s 21ms/step - loss: 0.3277 - accuracy: 0.8994 - val_loss: 0.3150 - val_accuracy: 0.8882\n",
            "Epoch 3/20\n",
            "30/30 [==============================] - 1s 21ms/step - loss: 0.2393 - accuracy: 0.9261 - val_loss: 0.2886 - val_accuracy: 0.8894\n",
            "Epoch 4/20\n",
            "30/30 [==============================] - 1s 21ms/step - loss: 0.1849 - accuracy: 0.9433 - val_loss: 0.2834 - val_accuracy: 0.8880\n",
            "Epoch 5/20\n",
            "30/30 [==============================] - 1s 22ms/step - loss: 0.1518 - accuracy: 0.9549 - val_loss: 0.2793 - val_accuracy: 0.8889\n",
            "Epoch 6/20\n",
            "30/30 [==============================] - 1s 22ms/step - loss: 0.1251 - accuracy: 0.9625 - val_loss: 0.2892 - val_accuracy: 0.8856\n",
            "Epoch 7/20\n",
            "30/30 [==============================] - 1s 20ms/step - loss: 0.1005 - accuracy: 0.9716 - val_loss: 0.3038 - val_accuracy: 0.8837\n",
            "Epoch 8/20\n",
            "30/30 [==============================] - 1s 21ms/step - loss: 0.0861 - accuracy: 0.9763 - val_loss: 0.3215 - val_accuracy: 0.8801\n",
            "Epoch 9/20\n",
            "30/30 [==============================] - 1s 20ms/step - loss: 0.0668 - accuracy: 0.9840 - val_loss: 0.3417 - val_accuracy: 0.8788\n",
            "Epoch 10/20\n",
            "30/30 [==============================] - 1s 20ms/step - loss: 0.0572 - accuracy: 0.9860 - val_loss: 0.3972 - val_accuracy: 0.8704\n",
            "Epoch 11/20\n",
            "30/30 [==============================] - 1s 21ms/step - loss: 0.0452 - accuracy: 0.9902 - val_loss: 0.3904 - val_accuracy: 0.8775\n",
            "Epoch 12/20\n",
            "30/30 [==============================] - 1s 20ms/step - loss: 0.0339 - accuracy: 0.9937 - val_loss: 0.4175 - val_accuracy: 0.8772\n",
            "Epoch 13/20\n",
            "30/30 [==============================] - 1s 21ms/step - loss: 0.0285 - accuracy: 0.9953 - val_loss: 0.4478 - val_accuracy: 0.8735\n",
            "Epoch 14/20\n",
            "30/30 [==============================] - 1s 21ms/step - loss: 0.0252 - accuracy: 0.9953 - val_loss: 0.4778 - val_accuracy: 0.8725\n",
            "Epoch 15/20\n",
            "30/30 [==============================] - 1s 25ms/step - loss: 0.0147 - accuracy: 0.9989 - val_loss: 0.5598 - val_accuracy: 0.8612\n",
            "Epoch 16/20\n",
            "30/30 [==============================] - 1s 21ms/step - loss: 0.0143 - accuracy: 0.9981 - val_loss: 0.5537 - val_accuracy: 0.8676\n",
            "Epoch 17/20\n",
            "30/30 [==============================] - 1s 20ms/step - loss: 0.0101 - accuracy: 0.9994 - val_loss: 0.5968 - val_accuracy: 0.8641\n",
            "Epoch 18/20\n",
            "30/30 [==============================] - 1s 25ms/step - loss: 0.0093 - accuracy: 0.9989 - val_loss: 0.6199 - val_accuracy: 0.8649\n",
            "Epoch 19/20\n",
            "30/30 [==============================] - 1s 21ms/step - loss: 0.0050 - accuracy: 0.9998 - val_loss: 0.6496 - val_accuracy: 0.8656\n",
            "Epoch 20/20\n",
            "30/30 [==============================] - 1s 20ms/step - loss: 0.0049 - accuracy: 0.9995 - val_loss: 0.7218 - val_accuracy: 0.8611\n"
          ]
        }
      ],
      "source": [
        "history = model.fit(partial_x_train,\n",
        "                    partial_y_train,\n",
        "                    epochs = 20,\n",
        "                    batch_size = 512,\n",
        "                    validation_data = (x_val, y_val))"
      ]
    },
    {
      "cell_type": "markdown",
      "metadata": {
        "id": "7Dr4LxJIoxS5"
      },
      "source": [
        "### loss와 accuracy의 관찰"
      ]
    },
    {
      "cell_type": "code",
      "execution_count": null,
      "metadata": {
        "scrolled": true,
        "colab": {
          "base_uri": "https://localhost:8080/",
          "height": 313
        },
        "id": "yC0JKFVUoxS5",
        "outputId": "258676b3-7811-48ed-994b-b0f7bb90b033"
      },
      "outputs": [
        {
          "output_type": "stream",
          "name": "stdout",
          "text": [
            "dict_keys(['loss', 'accuracy', 'val_loss', 'val_accuracy'])\n"
          ]
        },
        {
          "output_type": "display_data",
          "data": {
            "text/plain": [
              "<Figure size 432x288 with 1 Axes>"
            ],
            "image/png": "[encoded data removed]"
          },
          "metadata": {
            "needs_background": "light"
          }
        }
      ],
      "source": [
        "history_dict = history.history\n",
        "print(history_dict.keys())\n",
        "\n",
        "loss_values = history_dict[\"loss\"]\n",
        "val_loss_values = history_dict[\"val_loss\"]\n",
        "epochs = range(1, len(loss_values) + 1)\n",
        "\n",
        "plt.plot(epochs, loss_values, \"bo\", label = \"training loss\") # bo : blue circle\n",
        "plt.plot(epochs, val_loss_values, \"b\", label = \"validation loss\")\n",
        "\n",
        "plt.title(\"training and validation loss\")\n",
        "plt.xlabel(\"epochs\")\n",
        "plt.ylabel(\"loss\")\n",
        "\n",
        "plt.legend()\n",
        "plt.show()"
      ]
    },
    {
      "cell_type": "markdown",
      "metadata": {
        "id": "jHtqRwn8oxS6"
      },
      "source": [
        "#### loss 그래프 해석\n",
        "\n",
        "training loss는 계속 줄어들지만 validation loss는 어느순간부터 증가하기 시작한다.\n",
        "\n",
        "epoch 4 이후에는 overfitting이 되었다는 의미\n",
        "\n",
        "overfitting : after the epoch4, you're overoptimizing on the training data"
      ]
    },
    {
      "cell_type": "code",
      "execution_count": null,
      "metadata": {
        "colab": {
          "base_uri": "https://localhost:8080/",
          "height": 295
        },
        "id": "BR5W6PK5oxS6",
        "outputId": "287f45d2-02bb-465c-e09f-5212ad2237a6"
      },
      "outputs": [
        {
          "output_type": "display_data",
          "data": {
            "text/plain": [
              "<Figure size 432x288 with 1 Axes>"
            ],
            "image/png": "[encoded data removed]"
          },
          "metadata": {
            "needs_background": "light"
          }
        }
      ],
      "source": [
        "acc = history_dict[\"accuracy\"]\n",
        "val_acc = history_dict[\"val_accuracy\"]\n",
        "\n",
        "plt.plot(epochs, acc, \"bo\", label = \"training acc\")\n",
        "plt.plot(epochs, val_acc, \"b\", label = \"validation acc\")\n",
        "\n",
        "plt.title(\"training and validation accuracy\")\n",
        "plt.xlabel(\"epochs\")\n",
        "plt.ylabel(\"accuracy\")\n",
        "\n",
        "plt.legend()\n",
        "plt.show()"
      ]
    },
    {
      "cell_type": "markdown",
      "metadata": {
        "id": "X0DgdYhgoxS6"
      },
      "source": [
        "#### accuracy 그래프 해석\n",
        "\n",
        "epoch 4 이후에 validation accuracy가 감소한다. overfitting이 되었다는 의미"
      ]
    },
    {
      "cell_type": "markdown",
      "metadata": {
        "id": "BS3w3oLFoxS7"
      },
      "source": [
        "#### 모델 수정"
      ]
    },
    {
      "cell_type": "code",
      "execution_count": null,
      "metadata": {
        "colab": {
          "base_uri": "https://localhost:8080/"
        },
        "id": "GPXSOyRSoxS7",
        "outputId": "e4107404-5e8c-4a35-a135-bc784a8bbe42"
      },
      "outputs": [
        {
          "output_type": "stream",
          "name": "stdout",
          "text": [
            "Epoch 1/4\n",
            "49/49 [==============================] - 1s 13ms/step - loss: 0.4549 - accuracy: 0.8156\n",
            "Epoch 2/4\n",
            "49/49 [==============================] - 1s 13ms/step - loss: 0.2574 - accuracy: 0.9094\n",
            "Epoch 3/4\n",
            "49/49 [==============================] - 1s 14ms/step - loss: 0.1970 - accuracy: 0.9299\n",
            "Epoch 4/4\n",
            "49/49 [==============================] - 1s 14ms/step - loss: 0.1683 - accuracy: 0.9402\n"
          ]
        },
        {
          "output_type": "execute_result",
          "data": {
            "text/plain": [
              "<keras.callbacks.History at 0x7f4bd1da56d0>"
            ]
          },
          "metadata": {},
          "execution_count": 25
        }
      ],
      "source": [
        "# epochs를 4로 제한한 모델\n",
        "\n",
        "model = keras.Sequential([\n",
        "    layers.Dense(16, activation=\"relu\"),\n",
        "    layers.Dense(16, activation=\"relu\"),\n",
        "    layers.Dense(1, activation=\"sigmoid\")\n",
        "])\n",
        "\n",
        "model.compile(optimizer=\"rmsprop\",\n",
        "              loss=\"binary_crossentropy\",\n",
        "              metrics=[\"accuracy\"])\n",
        "\n",
        "model.fit(x_train, y_train, epochs=4, batch_size=512)"
      ]
    },
    {
      "cell_type": "code",
      "execution_count": null,
      "metadata": {
        "colab": {
          "base_uri": "https://localhost:8080/"
        },
        "id": "qgmal6WYoxS7",
        "outputId": "adf2e0fa-397d-4898-bafa-4c354e717149"
      },
      "outputs": [
        {
          "output_type": "stream",
          "name": "stdout",
          "text": [
            "782/782 [==============================] - 3s 3ms/step - loss: 0.2956 - accuracy: 0.8826\n"
          ]
        }
      ],
      "source": [
        "results = model.evaluate(x_test, y_test)\n",
        "\n",
        "# loss : test loss : 0.29\n",
        "# accuracy : test accuracy : 0.88"
      ]
    },
    {
      "cell_type": "code",
      "execution_count": null,
      "metadata": {
        "colab": {
          "base_uri": "https://localhost:8080/"
        },
        "id": "oXCX_YHHoxS8",
        "outputId": "d5330bb4-1ea0-417e-b7ce-6b73230199b7"
      },
      "outputs": [
        {
          "output_type": "execute_result",
          "data": {
            "text/plain": [
              "array([[0.16625142],\n",
              "       [0.9995722 ],\n",
              "       [0.9344622 ],\n",
              "       ...,\n",
              "       [0.09212752],\n",
              "       [0.0510609 ],\n",
              "       [0.5386385 ]], dtype=float32)"
            ]
          },
          "metadata": {},
          "execution_count": 27
        }
      ],
      "source": [
        "model.predict(x_test)"
      ]
    },
    {
      "cell_type": "code",
      "execution_count": null,
      "metadata": {
        "id": "Mvl0o2AioxS9"
      },
      "outputs": [],
      "source": [
        ""
      ]
    },
    {
      "cell_type": "markdown",
      "metadata": {
        "id": "7ccI9k2AoxTC"
      },
      "source": [
        "# 2. Classifying newswires: a multiclass classification example"
      ]
    },
    {
      "cell_type": "markdown",
      "metadata": {
        "id": "bnVm7C46oxTD"
      },
      "source": [
        "### reuters dataset"
      ]
    },
    {
      "cell_type": "code",
      "execution_count": null,
      "metadata": {
        "colab": {
          "base_uri": "https://localhost:8080/"
        },
        "id": "-2xzZPiyoxTD",
        "outputId": "95492e09-e44b-4397-ffcc-5ceab2c85b7d"
      },
      "outputs": [
        {
          "output_type": "stream",
          "name": "stdout",
          "text": [
            "Downloading data from https://storage.googleapis.com/tensorflow/tf-keras-datasets/reuters.npz\n",
            "2113536/2110848 [==============================] - 0s 0us/step\n",
            "2121728/2110848 [==============================] - 0s 0us/step\n"
          ]
        }
      ],
      "source": [
        "# data\n",
        "\n",
        "from tensorflow.keras.datasets import reuters\n",
        "(train_data, train_labels), (test_data, test_labels) = reuters.load_data(num_words = 10000)"
      ]
    },
    {
      "cell_type": "code",
      "execution_count": null,
      "metadata": {
        "colab": {
          "base_uri": "https://localhost:8080/"
        },
        "id": "NLjkAR6ooxTE",
        "outputId": "a354d7d8-5b95-4f77-9a2d-d3ad1e67d6bd"
      },
      "outputs": [
        {
          "output_type": "stream",
          "name": "stdout",
          "text": [
            "Downloading data from https://storage.googleapis.com/tensorflow/tf-keras-datasets/reuters_word_index.json\n",
            "557056/550378 [==============================] - 0s 0us/step\n",
            "565248/550378 [==============================] - 0s 0us/step\n",
            "? ? ? said as a result of its december acquisition of space co it expects earnings per share in 1987 of 1 15 to 1 30 dlrs per share up from 70 cts in 1986 the company said pretax net should rise to nine to 10 mln dlrs from six mln dlrs in 1986 and rental operation revenues to 19 to 22 mln dlrs from 12 5 mln dlrs it said cash flow per share this year should be 2 50 to three dlrs reuter 3\n"
          ]
        }
      ],
      "source": [
        "# decoding\n",
        "\n",
        "word_index = reuters.get_word_index()\n",
        "reverse_word_index = dict([(value, key) for (key, value) in word_index.items()])\n",
        "decoded_newswire = \" \".join([reverse_word_index.get(i-3, \"?\") for i in train_data[0]])\n",
        "\n",
        "print(decoded_newswire)"
      ]
    },
    {
      "cell_type": "code",
      "execution_count": null,
      "metadata": {
        "id": "DIpyS9cjoxTF"
      },
      "outputs": [],
      "source": [
        "#encoding\n",
        "\n",
        "#멀티-핫 인코딩\n",
        "def vectorize_sequences(sequences, dimension = 10000):\n",
        "    results = np.zeros((len(sequences), dimension))\n",
        "    for i, sequence in enumerate(sequences):\n",
        "        for j in sequence:\n",
        "            results[i, j] = 1.\n",
        "    return results\n",
        "\n",
        "x_train = vectorize_sequences(train_data)\n",
        "x_test = vectorize_sequences(test_data)\n",
        "\n",
        "\n",
        "#원-핫 인코딩\n",
        "def to_one_hot(labels, dimension=46): # 뉴스주제가 46가지\n",
        "    results = np.zeros((len(labels), dimension))\n",
        "    for i, label in enumerate(labels):\n",
        "        results[i, label] = 1.\n",
        "    return results\n",
        "\n",
        "y_train = to_one_hot(train_labels)\n",
        "y_test = to_one_hot(test_labels)\n",
        "\n",
        "\n",
        "#케라스에 구현되어있는 원-핫 인코딩\n",
        "y_train = to_categorical(train_labels)\n",
        "y_test = to_categorical(test_labels)\n",
        "\n",
        "\n",
        "#vailidation data 나누기\n",
        "x_val = x_train[:1000]\n",
        "partial_x_train = x_train[1000:]\n",
        "y_val = y_train[:1000]\n",
        "partial_y_train = y_train[1000:]\n",
        "\n",
        "\n",
        "#원-핫 인코딩 대신 사용할 수 있는 방법\n",
        "y_train = np.array(train_labels)\n",
        "y_test = np.array(test_labels)\n",
        "\n",
        "model.compile(optimizer=\"rmsprop\",\n",
        "              loss=\"sparse_categorical_crossentropy\",\n",
        "              metrics=[\"accuracy\"])\n",
        "#그냥 integer 텐서로 남겨두는 대신 loss function을 categorical_crossentropy에서 sparse_categorical_crossentropy로 바꿔야한다."
      ]
    },
    {
      "cell_type": "markdown",
      "metadata": {
        "id": "G-BwaPrOoxTF"
      },
      "source": [
        "### model"
      ]
    },
    {
      "cell_type": "code",
      "execution_count": null,
      "metadata": {
        "id": "U4DIIZNZoxTG"
      },
      "outputs": [],
      "source": [
        "model = keras.Sequential([\n",
        "    layers.Dense(64, activation=\"relu\"),\n",
        "    layers.Dense(64, activation=\"relu\"),\n",
        "    layers.Dense(46, activation=\"softmax\")\n",
        "])\n",
        "\n",
        "# we use softmax function for multi-class classification"
      ]
    },
    {
      "cell_type": "markdown",
      "metadata": {
        "id": "6BGM4W0SoxTG"
      },
      "source": [
        "### compile"
      ]
    },
    {
      "cell_type": "code",
      "execution_count": null,
      "metadata": {
        "id": "Lzw3fRcRoxTH"
      },
      "outputs": [],
      "source": [
        "model.compile(optimizer=\"rmsprop\",\n",
        "              loss=\"categorical_crossentropy\",\n",
        "              metrics=[\"accuracy\"])"
      ]
    },
    {
      "cell_type": "markdown",
      "metadata": {
        "id": "WG8YNVRVoxTH"
      },
      "source": [
        "### fit"
      ]
    },
    {
      "cell_type": "code",
      "execution_count": null,
      "metadata": {
        "colab": {
          "base_uri": "https://localhost:8080/"
        },
        "id": "GJSn9jREoxTI",
        "outputId": "ffc0718a-e41a-4e33-c4f7-383588383582"
      },
      "outputs": [
        {
          "output_type": "stream",
          "name": "stdout",
          "text": [
            "Epoch 1/20\n",
            "16/16 [==============================] - 1s 28ms/step - loss: 2.6279 - accuracy: 0.5432 - val_loss: 1.7250 - val_accuracy: 0.6500\n",
            "Epoch 2/20\n",
            "16/16 [==============================] - 0s 17ms/step - loss: 1.4094 - accuracy: 0.7076 - val_loss: 1.2975 - val_accuracy: 0.7120\n",
            "Epoch 3/20\n",
            "16/16 [==============================] - 0s 18ms/step - loss: 1.0395 - accuracy: 0.7714 - val_loss: 1.1186 - val_accuracy: 0.7560\n",
            "Epoch 4/20\n",
            "16/16 [==============================] - 0s 17ms/step - loss: 0.8236 - accuracy: 0.8224 - val_loss: 1.0218 - val_accuracy: 0.7680\n",
            "Epoch 5/20\n",
            "16/16 [==============================] - 0s 17ms/step - loss: 0.6592 - accuracy: 0.8577 - val_loss: 0.9496 - val_accuracy: 0.7880\n",
            "Epoch 6/20\n",
            "16/16 [==============================] - 0s 17ms/step - loss: 0.5263 - accuracy: 0.8935 - val_loss: 0.9276 - val_accuracy: 0.8050\n",
            "Epoch 7/20\n",
            "16/16 [==============================] - 0s 17ms/step - loss: 0.4262 - accuracy: 0.9128 - val_loss: 0.9030 - val_accuracy: 0.7980\n",
            "Epoch 8/20\n",
            "16/16 [==============================] - 0s 17ms/step - loss: 0.3490 - accuracy: 0.9281 - val_loss: 0.9387 - val_accuracy: 0.7890\n",
            "Epoch 9/20\n",
            "16/16 [==============================] - 0s 18ms/step - loss: 0.2867 - accuracy: 0.9372 - val_loss: 0.8872 - val_accuracy: 0.8050\n",
            "Epoch 10/20\n",
            "16/16 [==============================] - 0s 17ms/step - loss: 0.2440 - accuracy: 0.9442 - val_loss: 0.8792 - val_accuracy: 0.8190\n",
            "Epoch 11/20\n",
            "16/16 [==============================] - 0s 17ms/step - loss: 0.2105 - accuracy: 0.9500 - val_loss: 0.8974 - val_accuracy: 0.8180\n",
            "Epoch 12/20\n",
            "16/16 [==============================] - 0s 18ms/step - loss: 0.1874 - accuracy: 0.9515 - val_loss: 0.8990 - val_accuracy: 0.8160\n",
            "Epoch 13/20\n",
            "16/16 [==============================] - 0s 17ms/step - loss: 0.1679 - accuracy: 0.9519 - val_loss: 0.9550 - val_accuracy: 0.8100\n",
            "Epoch 14/20\n",
            "16/16 [==============================] - 0s 18ms/step - loss: 0.1545 - accuracy: 0.9514 - val_loss: 0.9353 - val_accuracy: 0.8220\n",
            "Epoch 15/20\n",
            "16/16 [==============================] - 0s 17ms/step - loss: 0.1402 - accuracy: 0.9549 - val_loss: 0.9945 - val_accuracy: 0.8020\n",
            "Epoch 16/20\n",
            "16/16 [==============================] - 0s 17ms/step - loss: 0.1321 - accuracy: 0.9563 - val_loss: 1.0308 - val_accuracy: 0.8040\n",
            "Epoch 17/20\n",
            "16/16 [==============================] - 0s 17ms/step - loss: 0.1250 - accuracy: 0.9570 - val_loss: 1.0326 - val_accuracy: 0.8050\n",
            "Epoch 18/20\n",
            "16/16 [==============================] - 0s 17ms/step - loss: 0.1215 - accuracy: 0.9560 - val_loss: 1.0511 - val_accuracy: 0.8130\n",
            "Epoch 19/20\n",
            "16/16 [==============================] - 0s 20ms/step - loss: 0.1155 - accuracy: 0.9583 - val_loss: 1.0149 - val_accuracy: 0.8110\n",
            "Epoch 20/20\n",
            "16/16 [==============================] - 0s 17ms/step - loss: 0.1097 - accuracy: 0.9593 - val_loss: 1.0534 - val_accuracy: 0.8120\n"
          ]
        }
      ],
      "source": [
        "history = model.fit(partial_x_train,\n",
        "                    partial_y_train,\n",
        "                    epochs=20,\n",
        "                    batch_size=512,\n",
        "                    validation_data=(x_val, y_val))"
      ]
    },
    {
      "cell_type": "markdown",
      "metadata": {
        "id": "d8hg3ClmoxTL"
      },
      "source": [
        "### loss와 accuracy의 관찰"
      ]
    },
    {
      "cell_type": "code",
      "execution_count": null,
      "metadata": {
        "scrolled": true,
        "colab": {
          "base_uri": "https://localhost:8080/",
          "height": 295
        },
        "id": "uo_8gxwioxTL",
        "outputId": "09e08806-a287-4fbf-b6f1-0460a008baf8"
      },
      "outputs": [
        {
          "output_type": "display_data",
          "data": {
            "text/plain": [
              "<Figure size 432x288 with 1 Axes>"
            ],
            "image/png": "[encoded data removed]"
          },
          "metadata": {
            "needs_background": "light"
          }
        }
      ],
      "source": [
        "loss = history.history[\"loss\"]\n",
        "val_loss = history.history[\"val_loss\"]\n",
        "epochs = range(1, len(loss) + 1)\n",
        "plt.plot(epochs, loss, \"bo\", label=\"Training loss\")\n",
        "plt.plot(epochs, val_loss, \"b\", label=\"Validation loss\")\n",
        "plt.title(\"Training and validation loss\")\n",
        "plt.xlabel(\"Epochs\")\n",
        "plt.ylabel(\"Loss\")\n",
        "plt.legend()\n",
        "plt.show()"
      ]
    },
    {
      "cell_type": "markdown",
      "metadata": {
        "id": "pXieLl3moxTM"
      },
      "source": [
        "#### loss 그래프 해석\n",
        "\n",
        "9 epoch 이후에 overfitting이 시작된다."
      ]
    },
    {
      "cell_type": "code",
      "execution_count": null,
      "metadata": {
        "colab": {
          "base_uri": "https://localhost:8080/",
          "height": 295
        },
        "id": "PjGKmqdxoxTM",
        "outputId": "fd5571e3-9c70-4b57-d684-37f92e4d345e"
      },
      "outputs": [
        {
          "output_type": "display_data",
          "data": {
            "text/plain": [
              "<Figure size 432x288 with 1 Axes>"
            ],
            "image/png": "[encoded data removed]"
          },
          "metadata": {
            "needs_background": "light"
          }
        }
      ],
      "source": [
        "acc = history.history[\"accuracy\"]\n",
        "val_acc = history.history[\"val_accuracy\"]\n",
        "plt.plot(epochs, acc, \"bo\", label=\"Training accuracy\")\n",
        "plt.plot(epochs, val_acc, \"b\", label=\"Validation accuracy\")\n",
        "plt.title(\"Training and validation accuracy\")\n",
        "plt.xlabel(\"Epochs\")\n",
        "plt.ylabel(\"Accuracy\")\n",
        "plt.legend()\n",
        "plt.show()"
      ]
    },
    {
      "cell_type": "markdown",
      "metadata": {
        "id": "VHDiRpD7oxTN"
      },
      "source": [
        "### 모델 수정"
      ]
    },
    {
      "cell_type": "code",
      "execution_count": null,
      "metadata": {
        "colab": {
          "base_uri": "https://localhost:8080/"
        },
        "id": "b3X_auYdoxTT",
        "outputId": "47191d1d-58ef-43a4-fbeb-23f9cb2a86c8"
      },
      "outputs": [
        {
          "output_type": "stream",
          "name": "stdout",
          "text": [
            "Epoch 1/9\n",
            "16/16 [==============================] - 1s 31ms/step - loss: 2.7115 - accuracy: 0.5208 - val_loss: 1.7732 - val_accuracy: 0.6420\n",
            "Epoch 2/9\n",
            "16/16 [==============================] - 0s 19ms/step - loss: 1.4427 - accuracy: 0.6998 - val_loss: 1.3264 - val_accuracy: 0.6960\n",
            "Epoch 3/9\n",
            "16/16 [==============================] - 0s 20ms/step - loss: 1.0692 - accuracy: 0.7694 - val_loss: 1.1427 - val_accuracy: 0.7540\n",
            "Epoch 4/9\n",
            "16/16 [==============================] - 0s 19ms/step - loss: 0.8460 - accuracy: 0.8201 - val_loss: 1.0297 - val_accuracy: 0.7780\n",
            "Epoch 5/9\n",
            "16/16 [==============================] - 0s 17ms/step - loss: 0.6750 - accuracy: 0.8559 - val_loss: 0.9498 - val_accuracy: 0.7930\n",
            "Epoch 6/9\n",
            "16/16 [==============================] - 0s 20ms/step - loss: 0.5365 - accuracy: 0.8893 - val_loss: 0.9039 - val_accuracy: 0.8140\n",
            "Epoch 7/9\n",
            "16/16 [==============================] - 0s 17ms/step - loss: 0.4322 - accuracy: 0.9090 - val_loss: 0.8701 - val_accuracy: 0.8180\n",
            "Epoch 8/9\n",
            "16/16 [==============================] - 0s 17ms/step - loss: 0.3471 - accuracy: 0.9262 - val_loss: 0.8697 - val_accuracy: 0.8130\n",
            "Epoch 9/9\n",
            "16/16 [==============================] - 0s 16ms/step - loss: 0.2879 - accuracy: 0.9382 - val_loss: 0.8747 - val_accuracy: 0.8210\n"
          ]
        }
      ],
      "source": [
        "# epochs를 9로 제한한 모델\n",
        "model = keras.Sequential([\n",
        "    layers.Dense(64, activation=\"relu\"),\n",
        "    layers.Dense(64, activation=\"relu\"),\n",
        "    layers.Dense(46, activation=\"softmax\")\n",
        "])\n",
        "\n",
        "model.compile(optimizer=\"rmsprop\",\n",
        "              loss=\"categorical_crossentropy\",\n",
        "              metrics=[\"accuracy\"])\n",
        "\n",
        "history = model.fit(partial_x_train,\n",
        "                    partial_y_train,\n",
        "                    epochs=9,\n",
        "                    batch_size=512,\n",
        "                    validation_data=(x_val, y_val))"
      ]
    },
    {
      "cell_type": "code",
      "execution_count": null,
      "metadata": {
        "colab": {
          "base_uri": "https://localhost:8080/",
          "height": 741
        },
        "id": "nD67qacCoxTT",
        "outputId": "fe7ed9b9-ae7e-4e27-a44a-98b17342890a"
      },
      "outputs": [
        {
          "output_type": "error",
          "ename": "ValueError",
          "evalue": "ignored",
          "traceback": [
            "\u001b[0;31m---------------------------------------------------------------------------\u001b[0m",
            "\u001b[0;31mValueError\u001b[0m                                Traceback (most recent call last)",
            "\u001b[0;32m<ipython-input-39-d8b585f2e026>\u001b[0m in \u001b[0;36m<module>\u001b[0;34m()\u001b[0m\n\u001b[0;32m----> 1\u001b[0;31m \u001b[0mresults\u001b[0m \u001b[0;34m=\u001b[0m \u001b[0mmodel\u001b[0m\u001b[0;34m.\u001b[0m\u001b[0mevaluate\u001b[0m\u001b[0;34m(\u001b[0m\u001b[0mx_test\u001b[0m\u001b[0;34m,\u001b[0m \u001b[0my_test\u001b[0m\u001b[0;34m)\u001b[0m\u001b[0;34m\u001b[0m\u001b[0;34m\u001b[0m\u001b[0m\n\u001b[0m",
            "\u001b[0;32m/usr/local/lib/python3.7/dist-packages/keras/utils/traceback_utils.py\u001b[0m in \u001b[0;36merror_handler\u001b[0;34m(*args, **kwargs)\u001b[0m\n\u001b[1;32m     65\u001b[0m     \u001b[0;32mexcept\u001b[0m \u001b[0mException\u001b[0m \u001b[0;32mas\u001b[0m \u001b[0me\u001b[0m\u001b[0;34m:\u001b[0m  \u001b[0;31m# pylint: disable=broad-except\u001b[0m\u001b[0;34m\u001b[0m\u001b[0;34m\u001b[0m\u001b[0m\n\u001b[1;32m     66\u001b[0m       \u001b[0mfiltered_tb\u001b[0m \u001b[0;34m=\u001b[0m \u001b[0m_process_traceback_frames\u001b[0m\u001b[0;34m(\u001b[0m\u001b[0me\u001b[0m\u001b[0;34m.\u001b[0m\u001b[0m__traceback__\u001b[0m\u001b[0;34m)\u001b[0m\u001b[0;34m\u001b[0m\u001b[0;34m\u001b[0m\u001b[0m\n\u001b[0;32m---> 67\u001b[0;31m       \u001b[0;32mraise\u001b[0m \u001b[0me\u001b[0m\u001b[0;34m.\u001b[0m\u001b[0mwith_traceback\u001b[0m\u001b[0;34m(\u001b[0m\u001b[0mfiltered_tb\u001b[0m\u001b[0;34m)\u001b[0m \u001b[0;32mfrom\u001b[0m \u001b[0;32mNone\u001b[0m\u001b[0;34m\u001b[0m\u001b[0;34m\u001b[0m\u001b[0m\n\u001b[0m\u001b[1;32m     68\u001b[0m     \u001b[0;32mfinally\u001b[0m\u001b[0;34m:\u001b[0m\u001b[0;34m\u001b[0m\u001b[0;34m\u001b[0m\u001b[0m\n\u001b[1;32m     69\u001b[0m       \u001b[0;32mdel\u001b[0m \u001b[0mfiltered_tb\u001b[0m\u001b[0;34m\u001b[0m\u001b[0;34m\u001b[0m\u001b[0m\n",
            "\u001b[0;32m/usr/local/lib/python3.7/dist-packages/tensorflow/python/framework/func_graph.py\u001b[0m in \u001b[0;36mautograph_handler\u001b[0;34m(*args, **kwargs)\u001b[0m\n\u001b[1;32m   1145\u001b[0m           \u001b[0;32mexcept\u001b[0m \u001b[0mException\u001b[0m \u001b[0;32mas\u001b[0m \u001b[0me\u001b[0m\u001b[0;34m:\u001b[0m  \u001b[0;31m# pylint:disable=broad-except\u001b[0m\u001b[0;34m\u001b[0m\u001b[0;34m\u001b[0m\u001b[0m\n\u001b[1;32m   1146\u001b[0m             \u001b[0;32mif\u001b[0m \u001b[0mhasattr\u001b[0m\u001b[0;34m(\u001b[0m\u001b[0me\u001b[0m\u001b[0;34m,\u001b[0m \u001b[0;34m\"ag_error_metadata\"\u001b[0m\u001b[0;34m)\u001b[0m\u001b[0;34m:\u001b[0m\u001b[0;34m\u001b[0m\u001b[0;34m\u001b[0m\u001b[0m\n\u001b[0;32m-> 1147\u001b[0;31m               \u001b[0;32mraise\u001b[0m \u001b[0me\u001b[0m\u001b[0;34m.\u001b[0m\u001b[0mag_error_metadata\u001b[0m\u001b[0;34m.\u001b[0m\u001b[0mto_exception\u001b[0m\u001b[0;34m(\u001b[0m\u001b[0me\u001b[0m\u001b[0;34m)\u001b[0m\u001b[0;34m\u001b[0m\u001b[0;34m\u001b[0m\u001b[0m\n\u001b[0m\u001b[1;32m   1148\u001b[0m             \u001b[0;32melse\u001b[0m\u001b[0;34m:\u001b[0m\u001b[0;34m\u001b[0m\u001b[0;34m\u001b[0m\u001b[0m\n\u001b[1;32m   1149\u001b[0m               \u001b[0;32mraise\u001b[0m\u001b[0;34m\u001b[0m\u001b[0;34m\u001b[0m\u001b[0m\n",
            "\u001b[0;31mValueError\u001b[0m: in user code:\n\n    File \"/usr/local/lib/python3.7/dist-packages/keras/engine/training.py\", line 1525, in test_function  *\n        return step_function(self, iterator)\n    File \"/usr/local/lib/python3.7/dist-packages/keras/engine/training.py\", line 1514, in step_function  **\n        outputs = model.distribute_strategy.run(run_step, args=(data,))\n    File \"/usr/local/lib/python3.7/dist-packages/keras/engine/training.py\", line 1507, in run_step  **\n        outputs = model.test_step(data)\n    File \"/usr/local/lib/python3.7/dist-packages/keras/engine/training.py\", line 1473, in test_step\n        self.compute_loss(x, y, y_pred, sample_weight)\n    File \"/usr/local/lib/python3.7/dist-packages/keras/engine/training.py\", line 919, in compute_loss\n        y, y_pred, sample_weight, regularization_losses=self.losses)\n    File \"/usr/local/lib/python3.7/dist-packages/keras/engine/compile_utils.py\", line 201, in __call__\n        loss_value = loss_obj(y_t, y_p, sample_weight=sw)\n    File \"/usr/local/lib/python3.7/dist-packages/keras/losses.py\", line 141, in __call__\n        losses = call_fn(y_true, y_pred)\n    File \"/usr/local/lib/python3.7/dist-packages/keras/losses.py\", line 245, in call  **\n        return ag_fn(y_true, y_pred, **self._fn_kwargs)\n    File \"/usr/local/lib/python3.7/dist-packages/keras/losses.py\", line 1790, in categorical_crossentropy\n        y_true, y_pred, from_logits=from_logits, axis=axis)\n    File \"/usr/local/lib/python3.7/dist-packages/keras/backend.py\", line 5083, in categorical_crossentropy\n        target.shape.assert_is_compatible_with(output.shape)\n\n    ValueError: Shapes (None, 1) and (None, 46) are incompatible\n"
          ]
        }
      ],
      "source": [
        "results = model.evaluate(x_test, y_test)"
      ]
    },
    {
      "cell_type": "code",
      "execution_count": null,
      "metadata": {
        "id": "Ml7mVFhPoxTU"
      },
      "outputs": [],
      "source": [
        "results"
      ]
    },
    {
      "cell_type": "code",
      "execution_count": null,
      "metadata": {
        "colab": {
          "base_uri": "https://localhost:8080/"
        },
        "id": "_oeuiswCoxTU",
        "outputId": "ebc45efb-4bf9-4e14-fadc-2f0ac3b9c3fe"
      },
      "outputs": [
        {
          "output_type": "execute_result",
          "data": {
            "text/plain": [
              "0.19412288512911843"
            ]
          },
          "metadata": {},
          "execution_count": 40
        }
      ],
      "source": [
        "#results from random guess\n",
        "#모델의 수치가 좋은지 알아보려면 random guess와 비교해봐야한다.\n",
        "\n",
        "test_labels_copy = copy.copy(test_labels)\n",
        "np.random.shuffle(test_labels_copy)\n",
        "hits_array = np.array(test_labels) == np.array(test_labels_copy)\n",
        "hits_array.mean()\n",
        "\n",
        "# random classifier의 확률은 19%, 우리 모델은 78%"
      ]
    },
    {
      "cell_type": "code",
      "execution_count": null,
      "metadata": {
        "id": "rdSlhlj7oxTV"
      },
      "outputs": [],
      "source": [
        "predictions = model.predict(x_test)"
      ]
    },
    {
      "cell_type": "code",
      "execution_count": null,
      "metadata": {
        "colab": {
          "base_uri": "https://localhost:8080/"
        },
        "id": "xzs1NrRToxTW",
        "outputId": "34832c49-b3c2-498d-eeb2-fae16b9052f3"
      },
      "outputs": [
        {
          "output_type": "execute_result",
          "data": {
            "text/plain": [
              "3"
            ]
          },
          "metadata": {},
          "execution_count": 42
        }
      ],
      "source": [
        "np.argmax(predictions[0])"
      ]
    },
    {
      "cell_type": "markdown",
      "metadata": {
        "id": "1hLcsz3AoxTW"
      },
      "source": [
        "## 3. Predicting house prices: a regression example"
      ]
    },
    {
      "cell_type": "markdown",
      "metadata": {
        "id": "bLwrt2fNoxTX"
      },
      "source": [
        "### The Boston housing price dataset"
      ]
    },
    {
      "cell_type": "code",
      "execution_count": null,
      "metadata": {
        "colab": {
          "base_uri": "https://localhost:8080/"
        },
        "id": "3BSNH36goxTX",
        "outputId": "7e9c5d04-6d8d-43d4-90af-b9ca4f2ee18b"
      },
      "outputs": [
        {
          "output_type": "stream",
          "name": "stdout",
          "text": [
            "Downloading data from https://storage.googleapis.com/tensorflow/tf-keras-datasets/boston_housing.npz\n",
            "57344/57026 [==============================] - 0s 0us/step\n",
            "65536/57026 [==================================] - 0s 0us/step\n"
          ]
        }
      ],
      "source": [
        "from tensorflow.keras.datasets import boston_housing\n",
        "(train_data, train_targets), (test_data, test_targets) = boston_housing.load_data()"
      ]
    },
    {
      "cell_type": "code",
      "execution_count": null,
      "metadata": {
        "id": "zydOnN5DoxTX"
      },
      "outputs": [],
      "source": [
        "# Normalizing the data\n",
        "\n",
        "mean = train_data.mean(axis=0)\n",
        "train_data -= mean\n",
        "std = train_data.std(axis=0)\n",
        "train_data /= std\n",
        "test_data -= mean\n",
        "test_data /= std\n",
        "\n",
        "#mean을 빼고 std로 나눠서 normalize"
      ]
    },
    {
      "cell_type": "markdown",
      "metadata": {
        "id": "2FUJkixLoxTY"
      },
      "source": [
        "#### why we normalize?\n",
        "\n",
        "Gradient of larger parameter dominates the update.\n",
        "\n",
        "In normalize state, both parameters can be updated in equal proportions"
      ]
    },
    {
      "cell_type": "markdown",
      "metadata": {
        "id": "oPagt8hmoxTY"
      },
      "source": [
        "### model"
      ]
    },
    {
      "cell_type": "code",
      "execution_count": null,
      "metadata": {
        "id": "NpAe5SuLoxTZ"
      },
      "outputs": [],
      "source": [
        "def build_model():\n",
        "    model = keras.Sequential([\n",
        "        layers.Dense(64, activation=\"relu\"),\n",
        "        layers.Dense(64, activation=\"relu\"),\n",
        "        layers.Dense(1)\n",
        "    ])\n",
        "    model.compile(optimizer=\"rmsprop\", loss=\"mse\", metrics=[\"mae\"])\n",
        "    return model\n",
        "\n",
        "# In regression problem, we don't need activation. So output is Dense1 without activation.\n",
        "# In regression proble, we use loss function as MSE"
      ]
    },
    {
      "cell_type": "markdown",
      "metadata": {
        "id": "o2tSLb_woxTZ"
      },
      "source": [
        "### validation"
      ]
    },
    {
      "cell_type": "code",
      "execution_count": null,
      "metadata": {
        "colab": {
          "base_uri": "https://localhost:8080/"
        },
        "id": "8wdJqcOqoxTa",
        "outputId": "c933782a-65c4-43a7-c07a-20e71a1576ba"
      },
      "outputs": [
        {
          "output_type": "stream",
          "name": "stdout",
          "text": [
            "Processing fold #0\n",
            "Processing fold #1\n",
            "Processing fold #2\n",
            "Processing fold #3\n"
          ]
        }
      ],
      "source": [
        "k = 4 #4-fold validation을 사용\n",
        "\n",
        "num_val_samples = len(train_data) // k\n",
        "num_epochs = 500\n",
        "all_scores = [] # validation score 저장\n",
        "all_mae_histories = []\n",
        "\n",
        "\n",
        "for i in range(k):\n",
        "    print(f\"Processing fold #{i}\")\n",
        "    val_data = train_data[i * num_val_samples: (i + 1) * num_val_samples]\n",
        "    val_targets = train_targets[i * num_val_samples: (i + 1) * num_val_samples]\n",
        "    \n",
        "    \n",
        "    partial_train_data = np.concatenate(\n",
        "        [train_data[:i * num_val_samples],\n",
        "         train_data[(i + 1) * num_val_samples:]],\n",
        "        axis=0)\n",
        "    \n",
        "    \n",
        "    partial_train_targets = np.concatenate(\n",
        "        [train_targets[:i * num_val_samples],\n",
        "         train_targets[(i + 1) * num_val_samples:]],\n",
        "        axis=0)\n",
        "    \n",
        "    \n",
        "    model = build_model()\n",
        "    \n",
        "    \n",
        "    history = model.fit(partial_train_data, partial_train_targets,\n",
        "                        validation_data=(val_data, val_targets),\n",
        "                        epochs=num_epochs, batch_size=16, verbose=0)\n",
        "    #verbose=0 : training history를 생략함.\n",
        "    \n",
        "    \n",
        "    mae_history = history.history[\"val_mae\"]\n",
        "    all_mae_histories.append(mae_history)\n",
        "    # save the per epoch validation score log for eash fold\n",
        "    # 4-fold, epochs=500 이므로 4개의 리스트 안에 500개씩 값이 저장되어있다.\n",
        "    \n",
        "    \n",
        "    val_mse, val_mae = model.evaluate(val_data, val_targets, verbose=0)\n",
        "    all_scores.append(val_mae)"
      ]
    },
    {
      "cell_type": "code",
      "execution_count": null,
      "metadata": {
        "colab": {
          "base_uri": "https://localhost:8080/"
        },
        "id": "AEOZU1fLoxTb",
        "outputId": "8a590f66-04e7-418e-be66-5c1d0d43c794"
      },
      "outputs": [
        {
          "output_type": "execute_result",
          "data": {
            "text/plain": [
              "[2.3776612281799316, 2.6985065937042236, 2.8093421459198, 2.3064186573028564]"
            ]
          },
          "metadata": {},
          "execution_count": 47
        }
      ],
      "source": [
        "all_scores"
      ]
    },
    {
      "cell_type": "code",
      "execution_count": null,
      "metadata": {
        "colab": {
          "base_uri": "https://localhost:8080/"
        },
        "id": "NSFS3VeRoxTb",
        "outputId": "e38ae5ac-29ea-4619-812f-f4516106b058"
      },
      "outputs": [
        {
          "output_type": "execute_result",
          "data": {
            "text/plain": [
              "2.547982156276703"
            ]
          },
          "metadata": {},
          "execution_count": 48
        }
      ],
      "source": [
        "np.mean(all_scores)\n",
        "#4-fold cross-validation mae"
      ]
    },
    {
      "cell_type": "code",
      "execution_count": null,
      "metadata": {
        "id": "kixT870soxTc"
      },
      "outputs": [],
      "source": [
        "average_mae_history = [\n",
        "    np.mean([x[i] for x in all_mae_histories]) for i in range(num_epochs)]"
      ]
    },
    {
      "cell_type": "code",
      "execution_count": null,
      "metadata": {
        "colab": {
          "base_uri": "https://localhost:8080/"
        },
        "id": "_K6g9fR5oxTc",
        "outputId": "33bbb2ea-21d6-425c-8fe9-108d14c63888"
      },
      "outputs": [
        {
          "output_type": "execute_result",
          "data": {
            "text/plain": [
              "[19.20121192932129,\n",
              " 15.52596378326416,\n",
              " 11.173136234283447,\n",
              " 7.790324091911316,\n",
              " 5.829473972320557,\n",
              " 4.747176289558411,\n",
              " 4.083718478679657,\n",
              " 3.6783644556999207,\n",
              " 3.397306442260742,\n",
              " 3.313815474510193,\n",
              " 3.191123366355896,\n",
              " 3.094294309616089,\n",
              " 3.039156436920166,\n",
              " 2.9557955265045166,\n",
              " 2.8957177996635437,\n",
              " 2.8172261118888855,\n",
              " 2.729818046092987,\n",
              " 2.7288809418678284,\n",
              " 2.702553629875183,\n",
              " 2.7083972096443176,\n",
              " 2.680286407470703,\n",
              " 2.6025373339653015,\n",
              " 2.576624572277069,\n",
              " 2.5049808621406555,\n",
              " 2.5215683579444885,\n",
              " 2.4945849776268005,\n",
              " 2.510852098464966,\n",
              " 2.531791925430298,\n",
              " 2.5401936173439026,\n",
              " 2.4781014919281006,\n",
              " 2.488138794898987,\n",
              " 2.4667872190475464,\n",
              " 2.412149727344513,\n",
              " 2.431893050670624,\n",
              " 2.4680256843566895,\n",
              " 2.3840168714523315,\n",
              " 2.4266037344932556,\n",
              " 2.4836347699165344,\n",
              " 2.395408272743225,\n",
              " 2.396501123905182,\n",
              " 2.3742863535881042,\n",
              " 2.4580076932907104,\n",
              " 2.4295494556427,\n",
              " 2.3627399504184723,\n",
              " 2.3529610633850098,\n",
              " 2.382555663585663,\n",
              " 2.392361104488373,\n",
              " 2.395753502845764,\n",
              " 2.4249977469444275,\n",
              " 2.3963447213172913,\n",
              " 2.3835530281066895,\n",
              " 2.3577739000320435,\n",
              " 2.347402900457382,\n",
              " 2.362097918987274,\n",
              " 2.465108335018158,\n",
              " 2.3550944328308105,\n",
              " 2.3530322909355164,\n",
              " 2.3963367342948914,\n",
              " 2.378808617591858,\n",
              " 2.3748907446861267,\n",
              " 2.342369109392166,\n",
              " 2.381232261657715,\n",
              " 2.3291649520397186,\n",
              " 2.477124571800232,\n",
              " 2.3498592376708984,\n",
              " 2.3570758998394012,\n",
              " 2.2890018224716187,\n",
              " 2.3787108659744263,\n",
              " 2.2906633913517,\n",
              " 2.305959641933441,\n",
              " 2.3069941699504852,\n",
              " 2.342327833175659,\n",
              " 2.3532909750938416,\n",
              " 2.3005030751228333,\n",
              " 2.3712128400802612,\n",
              " 2.307750254869461,\n",
              " 2.3656493425369263,\n",
              " 2.3076059222221375,\n",
              " 2.32793128490448,\n",
              " 2.3592487573623657,\n",
              " 2.336516112089157,\n",
              " 2.30501389503479,\n",
              " 2.3548709750175476,\n",
              " 2.3454670310020447,\n",
              " 2.335980087518692,\n",
              " 2.309147149324417,\n",
              " 2.343753755092621,\n",
              " 2.3280224204063416,\n",
              " 2.290692448616028,\n",
              " 2.331975221633911,\n",
              " 2.2792947590351105,\n",
              " 2.381867289543152,\n",
              " 2.307389587163925,\n",
              " 2.353251665830612,\n",
              " 2.361176311969757,\n",
              " 2.3475341200828552,\n",
              " 2.302766054868698,\n",
              " 2.2814013063907623,\n",
              " 2.3701369166374207,\n",
              " 2.2957949936389923,\n",
              " 2.3938658237457275,\n",
              " 2.3382062911987305,\n",
              " 2.366697072982788,\n",
              " 2.3157761693000793,\n",
              " 2.261563539505005,\n",
              " 2.3217782080173492,\n",
              " 2.2717903554439545,\n",
              " 2.3775752186775208,\n",
              " 2.2934981286525726,\n",
              " 2.3921539783477783,\n",
              " 2.32449871301651,\n",
              " 2.2574358880519867,\n",
              " 2.277689605951309,\n",
              " 2.349601626396179,\n",
              " 2.2888054847717285,\n",
              " 2.2990460097789764,\n",
              " 2.362683653831482,\n",
              " 2.3117330074310303,\n",
              " 2.3409457206726074,\n",
              " 2.333974599838257,\n",
              " 2.3349003195762634,\n",
              " 2.303027868270874,\n",
              " 2.313046395778656,\n",
              " 2.30616158246994,\n",
              " 2.278339147567749,\n",
              " 2.369968593120575,\n",
              " 2.285360813140869,\n",
              " 2.3142183423042297,\n",
              " 2.3306050896644592,\n",
              " 2.3403976559638977,\n",
              " 2.3181487321853638,\n",
              " 2.287299156188965,\n",
              " 2.3143813610076904,\n",
              " 2.2392947673797607,\n",
              " 2.290013015270233,\n",
              " 2.29715234041214,\n",
              " 2.2728328108787537,\n",
              " 2.2915695309638977,\n",
              " 2.3081878423690796,\n",
              " 2.3408696055412292,\n",
              " 2.3123116493225098,\n",
              " 2.4014302492141724,\n",
              " 2.270294427871704,\n",
              " 2.3648895621299744,\n",
              " 2.292356550693512,\n",
              " 2.2747318148612976,\n",
              " 2.302763521671295,\n",
              " 2.329728662967682,\n",
              " 2.3365657329559326,\n",
              " 2.337605357170105,\n",
              " 2.259036600589752,\n",
              " 2.3573023080825806,\n",
              " 2.322698473930359,\n",
              " 2.2997342944145203,\n",
              " 2.3587775826454163,\n",
              " 2.3188307881355286,\n",
              " 2.3844051361083984,\n",
              " 2.3122182488441467,\n",
              " 2.3037452697753906,\n",
              " 2.463471829891205,\n",
              " 2.366088032722473,\n",
              " 2.3516299724578857,\n",
              " 2.2905575037002563,\n",
              " 2.366853177547455,\n",
              " 2.3042001724243164,\n",
              " 2.378040909767151,\n",
              " 2.3853132128715515,\n",
              " 2.3905097246170044,\n",
              " 2.2812801003456116,\n",
              " 2.2927876114845276,\n",
              " 2.292913019657135,\n",
              " 2.3715627193450928,\n",
              " 2.292154014110565,\n",
              " 2.2821248173713684,\n",
              " 2.3180190920829773,\n",
              " 2.360702693462372,\n",
              " 2.2765034437179565,\n",
              " 2.4276812076568604,\n",
              " 2.3212941884994507,\n",
              " 2.3258023858070374,\n",
              " 2.4158142805099487,\n",
              " 2.397783875465393,\n",
              " 2.3378084301948547,\n",
              " 2.345244586467743,\n",
              " 2.311417579650879,\n",
              " 2.388028562068939,\n",
              " 2.360448956489563,\n",
              " 2.3289483785629272,\n",
              " 2.3058011531829834,\n",
              " 2.3138498663902283,\n",
              " 2.379127264022827,\n",
              " 2.3468623757362366,\n",
              " 2.359514594078064,\n",
              " 2.355957269668579,\n",
              " 2.3264139890670776,\n",
              " 2.2982531785964966,\n",
              " 2.3458014130592346,\n",
              " 2.3910731077194214,\n",
              " 2.3402353525161743,\n",
              " 2.3427153825759888,\n",
              " 2.34295916557312,\n",
              " 2.346460998058319,\n",
              " 2.316328465938568,\n",
              " 2.337115526199341,\n",
              " 2.333119571208954,\n",
              " 2.347082734107971,\n",
              " 2.3562185764312744,\n",
              " 2.33610999584198,\n",
              " 2.2790281176567078,\n",
              " 2.394773006439209,\n",
              " 2.345518410205841,\n",
              " 2.3450629711151123,\n",
              " 2.3313856720924377,\n",
              " 2.350398540496826,\n",
              " 2.36912602186203,\n",
              " 2.368303120136261,\n",
              " 2.368488907814026,\n",
              " 2.3210209012031555,\n",
              " 2.315038561820984,\n",
              " 2.328465759754181,\n",
              " 2.3400123715400696,\n",
              " 2.332780599594116,\n",
              " 2.368212044239044,\n",
              " 2.378258764743805,\n",
              " 2.3761196732521057,\n",
              " 2.3897706270217896,\n",
              " 2.3616883158683777,\n",
              " 2.308846890926361,\n",
              " 2.33514142036438,\n",
              " 2.3699349761009216,\n",
              " 2.4436704516410828,\n",
              " 2.3788284063339233,\n",
              " 2.394934833049774,\n",
              " 2.3985108733177185,\n",
              " 2.4082143902778625,\n",
              " 2.3482441306114197,\n",
              " 2.3474788665771484,\n",
              " 2.3608261346817017,\n",
              " 2.3814026713371277,\n",
              " 2.3991751670837402,\n",
              " 2.371683359146118,\n",
              " 2.4022483229637146,\n",
              " 2.3765258193016052,\n",
              " 2.4349732398986816,\n",
              " 2.4390209913253784,\n",
              " 2.393676459789276,\n",
              " 2.3465059399604797,\n",
              " 2.366317570209503,\n",
              " 2.3760600090026855,\n",
              " 2.389205276966095,\n",
              " 2.4104908108711243,\n",
              " 2.3600139021873474,\n",
              " 2.4519445300102234,\n",
              " 2.351121425628662,\n",
              " 2.4080647230148315,\n",
              " 2.3987826108932495,\n",
              " 2.3458171486854553,\n",
              " 2.3803293704986572,\n",
              " 2.447703540325165,\n",
              " 2.3679381608963013,\n",
              " 2.4372923970222473,\n",
              " 2.438271462917328,\n",
              " 2.395802080631256,\n",
              " 2.4110994935035706,\n",
              " 2.358608663082123,\n",
              " 2.433443069458008,\n",
              " 2.3991506695747375,\n",
              " 2.4237180352211,\n",
              " 2.386054277420044,\n",
              " 2.4201276302337646,\n",
              " 2.399087905883789,\n",
              " 2.446358025074005,\n",
              " 2.3647404313087463,\n",
              " 2.4240723848342896,\n",
              " 2.3767369985580444,\n",
              " 2.4038135409355164,\n",
              " 2.3837481141090393,\n",
              " 2.4667104482650757,\n",
              " 2.422412097454071,\n",
              " 2.4450988173484802,\n",
              " 2.539118230342865,\n",
              " 2.45563668012619,\n",
              " 2.483275592327118,\n",
              " 2.4735530018806458,\n",
              " 2.377964496612549,\n",
              " 2.3909413814544678,\n",
              " 2.3687244653701782,\n",
              " 2.3965442776679993,\n",
              " 2.4328681230545044,\n",
              " 2.4344619512557983,\n",
              " 2.430247187614441,\n",
              " 2.524247467517853,\n",
              " 2.5073323845863342,\n",
              " 2.4301369190216064,\n",
              " 2.4509710669517517,\n",
              " 2.400732457637787,\n",
              " 2.4367929697036743,\n",
              " 2.440568685531616,\n",
              " 2.449363052845001,\n",
              " 2.4151294231414795,\n",
              " 2.4089961647987366,\n",
              " 2.3885916471481323,\n",
              " 2.427828788757324,\n",
              " 2.4834840893745422,\n",
              " 2.402604579925537,\n",
              " 2.4747721552848816,\n",
              " 2.526489555835724,\n",
              " 2.485592782497406,\n",
              " 2.4108431935310364,\n",
              " 2.465466260910034,\n",
              " 2.4771130681037903,\n",
              " 2.461473524570465,\n",
              " 2.481464385986328,\n",
              " 2.3970521092414856,\n",
              " 2.436558485031128,\n",
              " 2.4388752579689026,\n",
              " 2.507122278213501,\n",
              " 2.4329371452331543,\n",
              " 2.4318066835403442,\n",
              " 2.5028879046440125,\n",
              " 2.443330705165863,\n",
              " 2.4556121826171875,\n",
              " 2.427336812019348,\n",
              " 2.4487715363502502,\n",
              " 2.4137917160987854,\n",
              " 2.43111515045166,\n",
              " 2.441726863384247,\n",
              " 2.4910316467285156,\n",
              " 2.447915196418762,\n",
              " 2.517839014530182,\n",
              " 2.42594975233078,\n",
              " 2.4842023253440857,\n",
              " 2.464368760585785,\n",
              " 2.425809144973755,\n",
              " 2.424433171749115,\n",
              " 2.529114007949829,\n",
              " 2.4471206665039062,\n",
              " 2.469246804714203,\n",
              " 2.4504400491714478,\n",
              " 2.414512276649475,\n",
              " 2.4182833433151245,\n",
              " 2.4846825003623962,\n",
              " 2.450188159942627,\n",
              " 2.46663099527359,\n",
              " 2.4605259895324707,\n",
              " 2.4628127813339233,\n",
              " 2.4866102933883667,\n",
              " 2.4770618677139282,\n",
              " 2.445627987384796,\n",
              " 2.4637416005134583,\n",
              " 2.4795051217079163,\n",
              " 2.513856589794159,\n",
              " 2.4954352378845215,\n",
              " 2.473395526409149,\n",
              " 2.513855457305908,\n",
              " 2.522094428539276,\n",
              " 2.497983396053314,\n",
              " 2.4896636605262756,\n",
              " 2.44982248544693,\n",
              " 2.52619069814682,\n",
              " 2.4916470646858215,\n",
              " 2.547651171684265,\n",
              " 2.534756302833557,\n",
              " 2.513069987297058,\n",
              " 2.5585030913352966,\n",
              " 2.548616647720337,\n",
              " 2.500650107860565,\n",
              " 2.5309919714927673,\n",
              " 2.519015312194824,\n",
              " 2.436921775341034,\n",
              " 2.506836712360382,\n",
              " 2.4539798498153687,\n",
              " 2.5709304213523865,\n",
              " 2.4736141562461853,\n",
              " 2.4456146955490112,\n",
              " 2.478862762451172,\n",
              " 2.4849905967712402,\n",
              " 2.5253393054008484,\n",
              " 2.517313241958618,\n",
              " 2.5259110927581787,\n",
              " 2.493583083152771,\n",
              " 2.4647498726844788,\n",
              " 2.4967548847198486,\n",
              " 2.474200665950775,\n",
              " 2.5375033617019653,\n",
              " 2.5108824968338013,\n",
              " 2.5143170952796936,\n",
              " 2.4726483821868896,\n",
              " 2.462822377681732,\n",
              " 2.4875478744506836,\n",
              " 2.5337899923324585,\n",
              " 2.4606881141662598,\n",
              " 2.5289547443389893,\n",
              " 2.490172028541565,\n",
              " 2.465637743473053,\n",
              " 2.624905526638031,\n",
              " 2.4718489050865173,\n",
              " 2.526955306529999,\n",
              " 2.496856391429901,\n",
              " 2.5103002190589905,\n",
              " 2.433831214904785,\n",
              " 2.4647743105888367,\n",
              " 2.487811863422394,\n",
              " 2.568219006061554,\n",
              " 2.4823890924453735,\n",
              " 2.501868486404419,\n",
              " 2.503485321998596,\n",
              " 2.519940137863159,\n",
              " 2.544773042201996,\n",
              " 2.512591004371643,\n",
              " 2.56872820854187,\n",
              " 2.536929666996002,\n",
              " 2.4835256934165955,\n",
              " 2.501596689224243,\n",
              " 2.5374229550361633,\n",
              " 2.49238657951355,\n",
              " 2.551185667514801,\n",
              " 2.5430625677108765,\n",
              " 2.5532750487327576,\n",
              " 2.5188750624656677,\n",
              " 2.4949350357055664,\n",
              " 2.53057998418808,\n",
              " 2.455509662628174,\n",
              " 2.522060215473175,\n",
              " 2.4901573061943054,\n",
              " 2.549223780632019,\n",
              " 2.58301442861557,\n",
              " 2.602703094482422,\n",
              " 2.4999678134918213,\n",
              " 2.5484309792518616,\n",
              " 2.5623138546943665,\n",
              " 2.5432947278022766,\n",
              " 2.477622628211975,\n",
              " 2.526367664337158,\n",
              " 2.5761220455169678,\n",
              " 2.530091166496277,\n",
              " 2.560552418231964,\n",
              " 2.511531114578247,\n",
              " 2.5427271723747253,\n",
              " 2.5541624426841736,\n",
              " 2.5754787921905518,\n",
              " 2.5155680775642395,\n",
              " 2.646979510784149,\n",
              " 2.5960034132003784,\n",
              " 2.5288589000701904,\n",
              " 2.6414591670036316,\n",
              " 2.523348569869995,\n",
              " 2.516696274280548,\n",
              " 2.6021921038627625,\n",
              " 2.5311047434806824,\n",
              " 2.528864562511444,\n",
              " 2.502597749233246,\n",
              " 2.4632213711738586,\n",
              " 2.6106923818588257,\n",
              " 2.5281976461410522,\n",
              " 2.5443299412727356,\n",
              " 2.523699641227722,\n",
              " 2.536232054233551,\n",
              " 2.5750362277030945,\n",
              " 2.5009949803352356,\n",
              " 2.6274848580360413,\n",
              " 2.5739538073539734,\n",
              " 2.5508918166160583,\n",
              " 2.5295382738113403,\n",
              " 2.473780035972595,\n",
              " 2.526877224445343,\n",
              " 2.5785406827926636,\n",
              " 2.526725709438324,\n",
              " 2.507211208343506,\n",
              " 2.53090238571167,\n",
              " 2.6498236060142517,\n",
              " 2.5702362060546875,\n",
              " 2.5781209468841553,\n",
              " 2.525766611099243,\n",
              " 2.5750345587730408,\n",
              " 2.6564956307411194,\n",
              " 2.537605106830597,\n",
              " 2.614201784133911,\n",
              " 2.54661101102829,\n",
              " 2.503451108932495,\n",
              " 2.5379146337509155,\n",
              " 2.58521568775177,\n",
              " 2.540051758289337,\n",
              " 2.620550751686096,\n",
              " 2.511880934238434,\n",
              " 2.650388538837433,\n",
              " 2.5392536520957947,\n",
              " 2.6399829983711243,\n",
              " 2.5951011180877686,\n",
              " 2.58716481924057,\n",
              " 2.5298590660095215,\n",
              " 2.611263930797577,\n",
              " 2.571665108203888,\n",
              " 2.564749598503113,\n",
              " 2.545303523540497,\n",
              " 2.5820226669311523,\n",
              " 2.5790563225746155,\n",
              " 2.5404322743415833,\n",
              " 2.575093686580658,\n",
              " 2.5479822158813477]"
            ]
          },
          "metadata": {},
          "execution_count": 50
        }
      ],
      "source": [
        "average_mae_history"
      ]
    },
    {
      "cell_type": "markdown",
      "metadata": {
        "id": "QyY68c9hoxTd"
      },
      "source": [
        "### validationMAE의 관찰"
      ]
    },
    {
      "cell_type": "code",
      "execution_count": null,
      "metadata": {
        "colab": {
          "base_uri": "https://localhost:8080/",
          "height": 279
        },
        "id": "7l3dAFPzoxTd",
        "outputId": "6e2b134f-6397-4c98-e731-39cbfb08533c"
      },
      "outputs": [
        {
          "output_type": "display_data",
          "data": {
            "text/plain": [
              "<Figure size 432x288 with 1 Axes>"
            ],
            "image/png": "[encoded data removed]"
          },
          "metadata": {
            "needs_background": "light"
          }
        }
      ],
      "source": [
        "truncated_mae_history = average_mae_history[10:]\n",
        "plt.plot(range(1, len(truncated_mae_history) + 1), truncated_mae_history)\n",
        "plt.xlabel(\"Epochs\")\n",
        "plt.ylabel(\"Validation MAE\")\n",
        "plt.show()\n",
        "\n",
        "# scaling issue때문에 값을 관찰할 수 없어서 처음 10개의 데이터 생략\n",
        "# validation MAE stops improving significantly after 120-140 epochs"
      ]
    },
    {
      "cell_type": "markdown",
      "metadata": {
        "id": "5sjqecmRoxTe"
      },
      "source": [
        "### 모델 수정"
      ]
    },
    {
      "cell_type": "code",
      "execution_count": null,
      "metadata": {
        "colab": {
          "base_uri": "https://localhost:8080/"
        },
        "id": "KlHCIn8MoxTe",
        "outputId": "61b790bb-820b-46e4-faf8-58863e543e14"
      },
      "outputs": [
        {
          "output_type": "stream",
          "name": "stdout",
          "text": [
            "4/4 [==============================] - 0s 4ms/step - loss: 13.5801 - mae: 2.4216\n"
          ]
        }
      ],
      "source": [
        "model = build_model()\n",
        "model.fit(train_data, train_targets,\n",
        "          epochs=130, batch_size=16, verbose=0)\n",
        "test_mse_score, test_mae_score = model.evaluate(test_data, test_targets)"
      ]
    },
    {
      "cell_type": "code",
      "execution_count": null,
      "metadata": {
        "colab": {
          "base_uri": "https://localhost:8080/"
        },
        "id": "KEoaqxjYoxTf",
        "outputId": "b235cdb2-d85c-45ee-df32-7c523571d5db"
      },
      "outputs": [
        {
          "output_type": "execute_result",
          "data": {
            "text/plain": [
              "2.4216158390045166"
            ]
          },
          "metadata": {},
          "execution_count": 53
        }
      ],
      "source": [
        "test_mae_score"
      ]
    },
    {
      "cell_type": "code",
      "execution_count": null,
      "metadata": {
        "colab": {
          "base_uri": "https://localhost:8080/"
        },
        "id": "7hKAgrEEoxTf",
        "outputId": "83aa594b-5017-43e4-adec-f62609499d11"
      },
      "outputs": [
        {
          "output_type": "execute_result",
          "data": {
            "text/plain": [
              "array([7.749985], dtype=float32)"
            ]
          },
          "metadata": {},
          "execution_count": 54
        }
      ],
      "source": [
        "predictions = model.predict(test_data)\n",
        "predictions[0]"
      ]
    },
    {
      "cell_type": "code",
      "execution_count": null,
      "metadata": {
        "colab": {
          "base_uri": "https://localhost:8080/"
        },
        "id": "wWrqPOY5oxTg",
        "outputId": "1e498160-9f6e-4689-eddf-fcbebf2a1be7"
      },
      "outputs": [
        {
          "output_type": "execute_result",
          "data": {
            "text/plain": [
              "7.2"
            ]
          },
          "metadata": {},
          "execution_count": 55
        }
      ],
      "source": [
        "test_targets[0]"
      ]
    },
    {
      "cell_type": "markdown",
      "metadata": {
        "id": "QynVFIs4oxTh"
      },
      "source": [
        "# Ch5. Fundamentals of Machine Learning"
      ]
    },
    {
      "cell_type": "markdown",
      "metadata": {
        "id": "eahkkQZ1oxTh"
      },
      "source": [
        "#### Optimization\n",
        "\n",
        "Refers to the process of adjusting a model to get the best performance possible on the training data\n",
        "\n",
        "#### Generalization\n",
        "Refers to how well the trained model performs on data it has never seen before\n",
        "\n",
        "#### Regulaization\n",
        "The processing of fighting overfitting"
      ]
    },
    {
      "cell_type": "markdown",
      "metadata": {
        "id": "BsGlCttcoxTi"
      },
      "source": [
        "## Suspicious correlations"
      ]
    },
    {
      "cell_type": "markdown",
      "metadata": {
        "id": "Q3rKukoboxTi"
      },
      "source": [
        "### mnist에 white noise channels, all zeros channels 추가하기"
      ]
    },
    {
      "cell_type": "code",
      "execution_count": null,
      "metadata": {
        "id": "LvL6qcXVoxTi",
        "outputId": "f6831d09-16c5-43e9-fcbb-462825c82191",
        "colab": {
          "base_uri": "https://localhost:8080/"
        }
      },
      "outputs": [
        {
          "output_type": "stream",
          "name": "stdout",
          "text": [
            "Downloading data from https://storage.googleapis.com/tensorflow/tf-keras-datasets/mnist.npz\n",
            "11493376/11490434 [==============================] - 0s 0us/step\n",
            "11501568/11490434 [==============================] - 0s 0us/step\n"
          ]
        }
      ],
      "source": [
        "from tensorflow.keras.datasets import mnist\n",
        "\n",
        "(train_images, train_labels), _ = mnist.load_data()\n",
        "train_images = train_images.reshape((60000, 28 * 28))\n",
        "train_images = train_images.astype(\"float32\") / 255\n",
        "\n",
        "train_images_with_noise_channels = np.concatenate(\n",
        "    [train_images, np.random.random((len(train_images), 784))], axis=1)\n",
        "#train_images와 같은 shape의 noise를 삽입\n",
        "\n",
        "train_images_with_zeros_channels = np.concatenate(\n",
        "    [train_images, np.zeros((len(train_images), 784))], axis=1)\n",
        "\n",
        "# np.concatenate : 넘파이 배열을 하나로 합쳐주는 함수\n",
        "# axis=0 : 2차원의 경우 행에 대해 결합이 이뤄짐(세로로 쌓임)\n",
        "# axis=1 : 2차원의 경우 열에 대해 결합이 이뤄짐(가로로 쌓임)"
      ]
    },
    {
      "cell_type": "markdown",
      "metadata": {
        "id": "tUfDT0lioxTl"
      },
      "source": [
        "### model, fit"
      ]
    },
    {
      "cell_type": "code",
      "execution_count": null,
      "metadata": {
        "colab": {
          "base_uri": "https://localhost:8080/"
        },
        "id": "Y6OBbydyoxTl",
        "outputId": "9b58cfe9-6035-496c-de70-61c58762f9cd"
      },
      "outputs": [
        {
          "output_type": "stream",
          "name": "stdout",
          "text": [
            "Epoch 1/10\n",
            "375/375 [==============================] - 2s 4ms/step - loss: 0.6315 - accuracy: 0.8103 - val_loss: 0.3330 - val_accuracy: 0.8980\n",
            "Epoch 2/10\n",
            "375/375 [==============================] - 1s 3ms/step - loss: 0.2575 - accuracy: 0.9210 - val_loss: 0.2106 - val_accuracy: 0.9357\n",
            "Epoch 3/10\n",
            "375/375 [==============================] - 1s 3ms/step - loss: 0.1663 - accuracy: 0.9483 - val_loss: 0.1455 - val_accuracy: 0.9572\n",
            "Epoch 4/10\n",
            "375/375 [==============================] - 1s 3ms/step - loss: 0.1196 - accuracy: 0.9627 - val_loss: 0.1257 - val_accuracy: 0.9627\n",
            "Epoch 5/10\n",
            "375/375 [==============================] - 1s 3ms/step - loss: 0.0888 - accuracy: 0.9726 - val_loss: 0.1193 - val_accuracy: 0.9657\n",
            "Epoch 6/10\n",
            "375/375 [==============================] - 1s 3ms/step - loss: 0.0654 - accuracy: 0.9793 - val_loss: 0.1330 - val_accuracy: 0.9612\n",
            "Epoch 7/10\n",
            "375/375 [==============================] - 1s 3ms/step - loss: 0.0496 - accuracy: 0.9841 - val_loss: 0.1273 - val_accuracy: 0.9640\n",
            "Epoch 8/10\n",
            "375/375 [==============================] - 1s 4ms/step - loss: 0.0379 - accuracy: 0.9879 - val_loss: 0.1617 - val_accuracy: 0.9591\n",
            "Epoch 9/10\n",
            "375/375 [==============================] - 1s 4ms/step - loss: 0.0298 - accuracy: 0.9903 - val_loss: 0.1587 - val_accuracy: 0.9593\n",
            "Epoch 10/10\n",
            "375/375 [==============================] - 1s 4ms/step - loss: 0.0216 - accuracy: 0.9931 - val_loss: 0.1401 - val_accuracy: 0.9672\n",
            "Epoch 1/10\n",
            "375/375 [==============================] - 2s 4ms/step - loss: 0.2903 - accuracy: 0.9149 - val_loss: 0.1493 - val_accuracy: 0.9567\n",
            "Epoch 2/10\n",
            "375/375 [==============================] - 1s 4ms/step - loss: 0.1191 - accuracy: 0.9657 - val_loss: 0.1076 - val_accuracy: 0.9693\n",
            "Epoch 3/10\n",
            "375/375 [==============================] - 1s 3ms/step - loss: 0.0780 - accuracy: 0.9769 - val_loss: 0.0893 - val_accuracy: 0.9737\n",
            "Epoch 4/10\n",
            "375/375 [==============================] - 1s 4ms/step - loss: 0.0568 - accuracy: 0.9830 - val_loss: 0.0841 - val_accuracy: 0.9749\n",
            "Epoch 5/10\n",
            "375/375 [==============================] - 1s 3ms/step - loss: 0.0411 - accuracy: 0.9878 - val_loss: 0.0868 - val_accuracy: 0.9753\n",
            "Epoch 6/10\n",
            "375/375 [==============================] - 1s 4ms/step - loss: 0.0317 - accuracy: 0.9905 - val_loss: 0.0868 - val_accuracy: 0.9778\n",
            "Epoch 7/10\n",
            "375/375 [==============================] - 1s 3ms/step - loss: 0.0238 - accuracy: 0.9929 - val_loss: 0.0795 - val_accuracy: 0.9780\n",
            "Epoch 8/10\n",
            "375/375 [==============================] - 1s 3ms/step - loss: 0.0179 - accuracy: 0.9948 - val_loss: 0.0755 - val_accuracy: 0.9799\n",
            "Epoch 9/10\n",
            "375/375 [==============================] - 1s 3ms/step - loss: 0.0137 - accuracy: 0.9960 - val_loss: 0.0908 - val_accuracy: 0.9793\n",
            "Epoch 10/10\n",
            "375/375 [==============================] - 1s 3ms/step - loss: 0.0105 - accuracy: 0.9970 - val_loss: 0.0906 - val_accuracy: 0.9787\n",
            "Epoch 1/10\n",
            "375/375 [==============================] - 2s 4ms/step - loss: 0.2841 - accuracy: 0.9174 - val_loss: 0.1589 - val_accuracy: 0.9528\n",
            "Epoch 2/10\n",
            "375/375 [==============================] - 1s 3ms/step - loss: 0.1166 - accuracy: 0.9657 - val_loss: 0.1076 - val_accuracy: 0.9682\n",
            "Epoch 3/10\n",
            "375/375 [==============================] - 1s 3ms/step - loss: 0.0781 - accuracy: 0.9768 - val_loss: 0.0873 - val_accuracy: 0.9744\n",
            "Epoch 4/10\n",
            "375/375 [==============================] - 1s 3ms/step - loss: 0.0564 - accuracy: 0.9831 - val_loss: 0.0877 - val_accuracy: 0.9735\n",
            "Epoch 5/10\n",
            "375/375 [==============================] - 1s 3ms/step - loss: 0.0424 - accuracy: 0.9872 - val_loss: 0.0801 - val_accuracy: 0.9768\n",
            "Epoch 6/10\n",
            "375/375 [==============================] - 1s 3ms/step - loss: 0.0313 - accuracy: 0.9907 - val_loss: 0.0777 - val_accuracy: 0.9776\n",
            "Epoch 7/10\n",
            "375/375 [==============================] - 1s 3ms/step - loss: 0.0241 - accuracy: 0.9929 - val_loss: 0.0830 - val_accuracy: 0.9783\n",
            "Epoch 8/10\n",
            "375/375 [==============================] - 1s 3ms/step - loss: 0.0180 - accuracy: 0.9949 - val_loss: 0.0850 - val_accuracy: 0.9789\n",
            "Epoch 9/10\n",
            "375/375 [==============================] - 1s 3ms/step - loss: 0.0133 - accuracy: 0.9962 - val_loss: 0.0869 - val_accuracy: 0.9790\n",
            "Epoch 10/10\n",
            "375/375 [==============================] - 1s 3ms/step - loss: 0.0103 - accuracy: 0.9970 - val_loss: 0.0917 - val_accuracy: 0.9792\n"
          ]
        }
      ],
      "source": [
        "def get_model():\n",
        "    model = keras.Sequential([\n",
        "        layers.Dense(512, activation=\"relu\"),\n",
        "        layers.Dense(10, activation=\"softmax\")\n",
        "    ])\n",
        "    model.compile(optimizer=\"rmsprop\",\n",
        "                  loss=\"sparse_categorical_crossentropy\",\n",
        "                  metrics=[\"accuracy\"])\n",
        "    return model\n",
        "\n",
        "# training noise dataset \n",
        "model = get_model()\n",
        "history_noise = model.fit(\n",
        "    train_images_with_noise_channels, train_labels,\n",
        "    epochs=10,\n",
        "    batch_size=128,\n",
        "    validation_split=0.2)\n",
        "\n",
        "# training zeros dataset\n",
        "model = get_model()\n",
        "history_zeros = model.fit(\n",
        "    train_images_with_zeros_channels, train_labels,\n",
        "    epochs=10,\n",
        "    batch_size=128,\n",
        "    validation_split=0.2)\n",
        "\n",
        "# training only train dataset(original data)\n",
        "model = get_model()\n",
        "history = model.fit(\n",
        "    train_images, train_labels,\n",
        "    epochs=10,\n",
        "    batch_size=128,\n",
        "    validation_split=0.2)"
      ]
    },
    {
      "cell_type": "markdown",
      "metadata": {
        "id": "zfdXsEQVoxTl"
      },
      "source": [
        "### noise와 zeros channel의 validation accuracy 관찰하기"
      ]
    },
    {
      "cell_type": "code",
      "execution_count": null,
      "metadata": {
        "colab": {
          "base_uri": "https://localhost:8080/",
          "height": 313
        },
        "id": "bMkveooWoxTy",
        "outputId": "f20b350b-a302-457c-f937-14176935340c"
      },
      "outputs": [
        {
          "output_type": "execute_result",
          "data": {
            "text/plain": [
              "<matplotlib.legend.Legend at 0x7fea0a094fd0>"
            ]
          },
          "metadata": {},
          "execution_count": 13
        },
        {
          "output_type": "display_data",
          "data": {
            "text/plain": [
              "<Figure size 432x288 with 1 Axes>"
            ],
            "image/png": "[encoded data removed]"
          },
          "metadata": {
            "needs_background": "light"
          }
        }
      ],
      "source": [
        "val_acc_noise = history_noise.history[\"val_accuracy\"]\n",
        "val_acc_zeros = history_zeros.history[\"val_accuracy\"]\n",
        "val_acc_train = history.history[\"val_accuracy\"]\n",
        "\n",
        "epochs = range(1, 11)\n",
        "\n",
        "plt.plot(epochs, val_acc_noise, \"b-\",\n",
        "         label=\"Validation accuracy with noise channels\")\n",
        "plt.plot(epochs, val_acc_zeros, \"b--\",\n",
        "         label=\"Validation accuracy with zeros channels\")\n",
        "plt.plot(epochs, val_acc_train, \"r-\",\n",
        "         label=\"Validation accuracy with original data\")\n",
        "\n",
        "plt.title(\"Effect of noise channels on validation accuracy\")\n",
        "plt.xlabel(\"Epochs\")\n",
        "plt.ylabel(\"Accuracy\")\n",
        "plt.legend()"
      ]
    },
    {
      "cell_type": "markdown",
      "metadata": {
        "id": "t2a6IqSkoxTz"
      },
      "source": [
        "* zeros에 비해 noise의 validation_accuracy가 좋지 않다. suspicious correlation이 발생\n",
        "\n",
        "* noise channels가 overfittng 되었다는 의미.\n",
        "\n",
        "* zeros와 original data의 결과는 거의 같다.\n",
        "\n",
        "* Noisy features inevitably lead to overfitting. As such, in cases where you aren't sure whether the features you have are informative for distracting, it's common to do feature selection before training"
      ]
    },
    {
      "cell_type": "markdown",
      "metadata": {
        "id": "lqf4EFDVoxT2"
      },
      "source": [
        "## The nature of generalization in deep learning"
      ]
    },
    {
      "cell_type": "markdown",
      "metadata": {
        "id": "hKAI4iHSoxT3"
      },
      "source": [
        "A remarkable fact about deep learning models is that they can be trained to fit anything, as long as they have enough representational power"
      ]
    },
    {
      "cell_type": "code",
      "execution_count": null,
      "metadata": {
        "colab": {
          "base_uri": "https://localhost:8080/"
        },
        "id": "2nZh2-R5oxT4",
        "outputId": "97c0137d-e2b0-4564-d66b-e568b88bf48f"
      },
      "outputs": [
        {
          "output_type": "stream",
          "name": "stdout",
          "text": [
            "Epoch 1/100\n",
            "375/375 [==============================] - 2s 5ms/step - loss: 2.3163 - accuracy: 0.1041 - val_loss: 2.3059 - val_accuracy: 0.1026\n",
            "Epoch 2/100\n",
            "375/375 [==============================] - 2s 4ms/step - loss: 2.3003 - accuracy: 0.1163 - val_loss: 2.3117 - val_accuracy: 0.1042\n",
            "Epoch 3/100\n",
            "375/375 [==============================] - 2s 4ms/step - loss: 2.2911 - accuracy: 0.1287 - val_loss: 2.3192 - val_accuracy: 0.1058\n",
            "Epoch 4/100\n",
            "375/375 [==============================] - 2s 4ms/step - loss: 2.2772 - accuracy: 0.1416 - val_loss: 2.3277 - val_accuracy: 0.1007\n",
            "Epoch 5/100\n",
            "375/375 [==============================] - 2s 4ms/step - loss: 2.2596 - accuracy: 0.1564 - val_loss: 2.3406 - val_accuracy: 0.0967\n",
            "Epoch 6/100\n",
            "375/375 [==============================] - 2s 4ms/step - loss: 2.2390 - accuracy: 0.1694 - val_loss: 2.3524 - val_accuracy: 0.0977\n",
            "Epoch 7/100\n",
            "375/375 [==============================] - 2s 4ms/step - loss: 2.2150 - accuracy: 0.1817 - val_loss: 2.3619 - val_accuracy: 0.0988\n",
            "Epoch 8/100\n",
            "375/375 [==============================] - 2s 4ms/step - loss: 2.1883 - accuracy: 0.1993 - val_loss: 2.3914 - val_accuracy: 0.0997\n",
            "Epoch 9/100\n",
            "375/375 [==============================] - 2s 4ms/step - loss: 2.1582 - accuracy: 0.2159 - val_loss: 2.4090 - val_accuracy: 0.1018\n",
            "Epoch 10/100\n",
            "375/375 [==============================] - 2s 4ms/step - loss: 2.1288 - accuracy: 0.2312 - val_loss: 2.4258 - val_accuracy: 0.0969\n",
            "Epoch 11/100\n",
            "375/375 [==============================] - 2s 5ms/step - loss: 2.0961 - accuracy: 0.2468 - val_loss: 2.4535 - val_accuracy: 0.0970\n",
            "Epoch 12/100\n",
            "375/375 [==============================] - 2s 4ms/step - loss: 2.0640 - accuracy: 0.2619 - val_loss: 2.4796 - val_accuracy: 0.1005\n",
            "Epoch 13/100\n",
            "375/375 [==============================] - 2s 4ms/step - loss: 2.0303 - accuracy: 0.2758 - val_loss: 2.5202 - val_accuracy: 0.0954\n",
            "Epoch 14/100\n",
            "375/375 [==============================] - 2s 4ms/step - loss: 1.9964 - accuracy: 0.2910 - val_loss: 2.5315 - val_accuracy: 0.0974\n",
            "Epoch 15/100\n",
            "375/375 [==============================] - 2s 4ms/step - loss: 1.9626 - accuracy: 0.3058 - val_loss: 2.5715 - val_accuracy: 0.0962\n",
            "Epoch 16/100\n",
            "375/375 [==============================] - 2s 4ms/step - loss: 1.9307 - accuracy: 0.3162 - val_loss: 2.6010 - val_accuracy: 0.0963\n",
            "Epoch 17/100\n",
            "375/375 [==============================] - 2s 4ms/step - loss: 1.8978 - accuracy: 0.3311 - val_loss: 2.6249 - val_accuracy: 0.0981\n",
            "Epoch 18/100\n",
            "375/375 [==============================] - 2s 4ms/step - loss: 1.8663 - accuracy: 0.3434 - val_loss: 2.6726 - val_accuracy: 0.0962\n",
            "Epoch 19/100\n",
            "375/375 [==============================] - 2s 4ms/step - loss: 1.8320 - accuracy: 0.3587 - val_loss: 2.7107 - val_accuracy: 0.0933\n",
            "Epoch 20/100\n",
            "375/375 [==============================] - 2s 4ms/step - loss: 1.7996 - accuracy: 0.3718 - val_loss: 2.7518 - val_accuracy: 0.0972\n",
            "Epoch 21/100\n",
            "375/375 [==============================] - 2s 4ms/step - loss: 1.7688 - accuracy: 0.3837 - val_loss: 2.7699 - val_accuracy: 0.0954\n",
            "Epoch 22/100\n",
            "375/375 [==============================] - 2s 4ms/step - loss: 1.7378 - accuracy: 0.3966 - val_loss: 2.8372 - val_accuracy: 0.0980\n",
            "Epoch 23/100\n",
            "375/375 [==============================] - 2s 5ms/step - loss: 1.7077 - accuracy: 0.4069 - val_loss: 2.8762 - val_accuracy: 0.0951\n",
            "Epoch 24/100\n",
            "375/375 [==============================] - 2s 4ms/step - loss: 1.6799 - accuracy: 0.4167 - val_loss: 2.9020 - val_accuracy: 0.0957\n",
            "Epoch 25/100\n",
            "375/375 [==============================] - 2s 4ms/step - loss: 1.6512 - accuracy: 0.4279 - val_loss: 2.9360 - val_accuracy: 0.0988\n",
            "Epoch 26/100\n",
            "375/375 [==============================] - 2s 4ms/step - loss: 1.6226 - accuracy: 0.4389 - val_loss: 2.9541 - val_accuracy: 0.0990\n",
            "Epoch 27/100\n",
            "375/375 [==============================] - 2s 4ms/step - loss: 1.5929 - accuracy: 0.4519 - val_loss: 3.0240 - val_accuracy: 0.0964\n",
            "Epoch 28/100\n",
            "375/375 [==============================] - 2s 4ms/step - loss: 1.5668 - accuracy: 0.4596 - val_loss: 3.0487 - val_accuracy: 0.0972\n",
            "Epoch 29/100\n",
            "375/375 [==============================] - 2s 4ms/step - loss: 1.5401 - accuracy: 0.4696 - val_loss: 3.1073 - val_accuracy: 0.0948\n",
            "Epoch 30/100\n",
            "375/375 [==============================] - 2s 4ms/step - loss: 1.5137 - accuracy: 0.4808 - val_loss: 3.1426 - val_accuracy: 0.0999\n",
            "Epoch 31/100\n",
            "375/375 [==============================] - 2s 4ms/step - loss: 1.4898 - accuracy: 0.4896 - val_loss: 3.1912 - val_accuracy: 0.0991\n",
            "Epoch 32/100\n",
            "375/375 [==============================] - 2s 5ms/step - loss: 1.4647 - accuracy: 0.4985 - val_loss: 3.2181 - val_accuracy: 0.0973\n",
            "Epoch 33/100\n",
            "375/375 [==============================] - 2s 4ms/step - loss: 1.4402 - accuracy: 0.5094 - val_loss: 3.2806 - val_accuracy: 0.0981\n",
            "Epoch 34/100\n",
            "375/375 [==============================] - 2s 4ms/step - loss: 1.4172 - accuracy: 0.5148 - val_loss: 3.3189 - val_accuracy: 0.0976\n",
            "Epoch 35/100\n",
            "375/375 [==============================] - 2s 5ms/step - loss: 1.3915 - accuracy: 0.5261 - val_loss: 3.3876 - val_accuracy: 0.0995\n",
            "Epoch 36/100\n",
            "375/375 [==============================] - 2s 4ms/step - loss: 1.3704 - accuracy: 0.5301 - val_loss: 3.4083 - val_accuracy: 0.0999\n",
            "Epoch 37/100\n",
            "375/375 [==============================] - 2s 5ms/step - loss: 1.3485 - accuracy: 0.5414 - val_loss: 3.4446 - val_accuracy: 0.0993\n",
            "Epoch 38/100\n",
            "375/375 [==============================] - 2s 5ms/step - loss: 1.3262 - accuracy: 0.5498 - val_loss: 3.5424 - val_accuracy: 0.0960\n",
            "Epoch 39/100\n",
            "375/375 [==============================] - 2s 4ms/step - loss: 1.3052 - accuracy: 0.5551 - val_loss: 3.5749 - val_accuracy: 0.0983\n",
            "Epoch 40/100\n",
            "375/375 [==============================] - 2s 4ms/step - loss: 1.2847 - accuracy: 0.5676 - val_loss: 3.6305 - val_accuracy: 0.0988\n",
            "Epoch 41/100\n",
            "375/375 [==============================] - 2s 4ms/step - loss: 1.2648 - accuracy: 0.5701 - val_loss: 3.6543 - val_accuracy: 0.0974\n",
            "Epoch 42/100\n",
            "375/375 [==============================] - 2s 4ms/step - loss: 1.2417 - accuracy: 0.5781 - val_loss: 3.7128 - val_accuracy: 0.0969\n",
            "Epoch 43/100\n",
            "375/375 [==============================] - 2s 4ms/step - loss: 1.2241 - accuracy: 0.5864 - val_loss: 3.7696 - val_accuracy: 0.0967\n",
            "Epoch 44/100\n",
            "375/375 [==============================] - 2s 4ms/step - loss: 1.2069 - accuracy: 0.5898 - val_loss: 3.7930 - val_accuracy: 0.0997\n",
            "Epoch 45/100\n",
            "375/375 [==============================] - 2s 4ms/step - loss: 1.1879 - accuracy: 0.5966 - val_loss: 3.8801 - val_accuracy: 0.0942\n",
            "Epoch 46/100\n",
            "375/375 [==============================] - 2s 5ms/step - loss: 1.1669 - accuracy: 0.6062 - val_loss: 3.8971 - val_accuracy: 0.1006\n",
            "Epoch 47/100\n",
            "375/375 [==============================] - 2s 4ms/step - loss: 1.1503 - accuracy: 0.6138 - val_loss: 3.9779 - val_accuracy: 0.0976\n",
            "Epoch 48/100\n",
            "375/375 [==============================] - 2s 4ms/step - loss: 1.1320 - accuracy: 0.6185 - val_loss: 4.0344 - val_accuracy: 0.0969\n",
            "Epoch 49/100\n",
            "375/375 [==============================] - 2s 4ms/step - loss: 1.1165 - accuracy: 0.6235 - val_loss: 4.0894 - val_accuracy: 0.0979\n",
            "Epoch 50/100\n",
            "375/375 [==============================] - 2s 4ms/step - loss: 1.0965 - accuracy: 0.6290 - val_loss: 4.1268 - val_accuracy: 0.0963\n",
            "Epoch 51/100\n",
            "375/375 [==============================] - 2s 4ms/step - loss: 1.0823 - accuracy: 0.6394 - val_loss: 4.2003 - val_accuracy: 0.0973\n",
            "Epoch 52/100\n",
            "375/375 [==============================] - 2s 4ms/step - loss: 1.0666 - accuracy: 0.6440 - val_loss: 4.2319 - val_accuracy: 0.0974\n",
            "Epoch 53/100\n",
            "375/375 [==============================] - 2s 4ms/step - loss: 1.0490 - accuracy: 0.6503 - val_loss: 4.2957 - val_accuracy: 0.1021\n",
            "Epoch 54/100\n",
            "375/375 [==============================] - 2s 4ms/step - loss: 1.0322 - accuracy: 0.6545 - val_loss: 4.3769 - val_accuracy: 0.0968\n",
            "Epoch 55/100\n",
            "375/375 [==============================] - 2s 4ms/step - loss: 1.0184 - accuracy: 0.6607 - val_loss: 4.4150 - val_accuracy: 0.0977\n",
            "Epoch 56/100\n",
            "375/375 [==============================] - 2s 4ms/step - loss: 1.0027 - accuracy: 0.6644 - val_loss: 4.4705 - val_accuracy: 0.0973\n",
            "Epoch 57/100\n",
            "375/375 [==============================] - 2s 4ms/step - loss: 0.9867 - accuracy: 0.6726 - val_loss: 4.5347 - val_accuracy: 0.0978\n",
            "Epoch 58/100\n",
            "375/375 [==============================] - 2s 5ms/step - loss: 0.9733 - accuracy: 0.6775 - val_loss: 4.5626 - val_accuracy: 0.0940\n",
            "Epoch 59/100\n",
            "375/375 [==============================] - 2s 4ms/step - loss: 0.9557 - accuracy: 0.6843 - val_loss: 4.6563 - val_accuracy: 0.0973\n",
            "Epoch 60/100\n",
            "375/375 [==============================] - 2s 4ms/step - loss: 0.9436 - accuracy: 0.6870 - val_loss: 4.7011 - val_accuracy: 0.0953\n",
            "Epoch 61/100\n",
            "375/375 [==============================] - 2s 4ms/step - loss: 0.9294 - accuracy: 0.6916 - val_loss: 4.7562 - val_accuracy: 0.0971\n",
            "Epoch 62/100\n",
            "375/375 [==============================] - 2s 4ms/step - loss: 0.9153 - accuracy: 0.6959 - val_loss: 4.8243 - val_accuracy: 0.0952\n",
            "Epoch 63/100\n",
            "375/375 [==============================] - 2s 4ms/step - loss: 0.9038 - accuracy: 0.6999 - val_loss: 4.8745 - val_accuracy: 0.0982\n",
            "Epoch 64/100\n",
            "375/375 [==============================] - 2s 4ms/step - loss: 0.8886 - accuracy: 0.7060 - val_loss: 4.9493 - val_accuracy: 0.0994\n",
            "Epoch 65/100\n",
            "375/375 [==============================] - 2s 4ms/step - loss: 0.8775 - accuracy: 0.7099 - val_loss: 5.0164 - val_accuracy: 0.0987\n",
            "Epoch 66/100\n",
            "375/375 [==============================] - 2s 4ms/step - loss: 0.8638 - accuracy: 0.7136 - val_loss: 5.0497 - val_accuracy: 0.0970\n",
            "Epoch 67/100\n",
            "375/375 [==============================] - 2s 4ms/step - loss: 0.8493 - accuracy: 0.7207 - val_loss: 5.1237 - val_accuracy: 0.0970\n",
            "Epoch 68/100\n",
            "375/375 [==============================] - 2s 4ms/step - loss: 0.8371 - accuracy: 0.7260 - val_loss: 5.1882 - val_accuracy: 0.1002\n",
            "Epoch 69/100\n",
            "375/375 [==============================] - 2s 4ms/step - loss: 0.8254 - accuracy: 0.7285 - val_loss: 5.2710 - val_accuracy: 0.0966\n",
            "Epoch 70/100\n",
            "375/375 [==============================] - 2s 5ms/step - loss: 0.8144 - accuracy: 0.7322 - val_loss: 5.3100 - val_accuracy: 0.0973\n",
            "Epoch 71/100\n",
            "375/375 [==============================] - 2s 4ms/step - loss: 0.8046 - accuracy: 0.7349 - val_loss: 5.3443 - val_accuracy: 0.0988\n",
            "Epoch 72/100\n",
            "375/375 [==============================] - 2s 4ms/step - loss: 0.7896 - accuracy: 0.7398 - val_loss: 5.4451 - val_accuracy: 0.1014\n",
            "Epoch 73/100\n",
            "375/375 [==============================] - 2s 4ms/step - loss: 0.7813 - accuracy: 0.7440 - val_loss: 5.4952 - val_accuracy: 0.0983\n",
            "Epoch 74/100\n",
            "375/375 [==============================] - 2s 5ms/step - loss: 0.7688 - accuracy: 0.7473 - val_loss: 5.5298 - val_accuracy: 0.1002\n",
            "Epoch 75/100\n",
            "375/375 [==============================] - 2s 4ms/step - loss: 0.7586 - accuracy: 0.7499 - val_loss: 5.6040 - val_accuracy: 0.0969\n",
            "Epoch 76/100\n",
            "375/375 [==============================] - 2s 4ms/step - loss: 0.7474 - accuracy: 0.7530 - val_loss: 5.6883 - val_accuracy: 0.0973\n",
            "Epoch 77/100\n",
            "375/375 [==============================] - 2s 4ms/step - loss: 0.7373 - accuracy: 0.7582 - val_loss: 5.7442 - val_accuracy: 0.1023\n",
            "Epoch 78/100\n",
            "375/375 [==============================] - 2s 4ms/step - loss: 0.7265 - accuracy: 0.7614 - val_loss: 5.8072 - val_accuracy: 0.1007\n",
            "Epoch 79/100\n",
            "375/375 [==============================] - 2s 5ms/step - loss: 0.7173 - accuracy: 0.7656 - val_loss: 5.8363 - val_accuracy: 0.0998\n",
            "Epoch 80/100\n",
            "375/375 [==============================] - 2s 4ms/step - loss: 0.7088 - accuracy: 0.7669 - val_loss: 5.9474 - val_accuracy: 0.0973\n",
            "Epoch 81/100\n",
            "375/375 [==============================] - 2s 4ms/step - loss: 0.6946 - accuracy: 0.7724 - val_loss: 6.0202 - val_accuracy: 0.1000\n",
            "Epoch 82/100\n",
            "375/375 [==============================] - 2s 5ms/step - loss: 0.6866 - accuracy: 0.7759 - val_loss: 6.0414 - val_accuracy: 0.0991\n",
            "Epoch 83/100\n",
            "375/375 [==============================] - 2s 4ms/step - loss: 0.6775 - accuracy: 0.7767 - val_loss: 6.1148 - val_accuracy: 0.0978\n",
            "Epoch 84/100\n",
            "375/375 [==============================] - 2s 4ms/step - loss: 0.6690 - accuracy: 0.7808 - val_loss: 6.1742 - val_accuracy: 0.1014\n",
            "Epoch 85/100\n",
            "375/375 [==============================] - 2s 4ms/step - loss: 0.6600 - accuracy: 0.7858 - val_loss: 6.2756 - val_accuracy: 0.0980\n",
            "Epoch 86/100\n",
            "375/375 [==============================] - 2s 4ms/step - loss: 0.6492 - accuracy: 0.7887 - val_loss: 6.3039 - val_accuracy: 0.0982\n",
            "Epoch 87/100\n",
            "375/375 [==============================] - 2s 4ms/step - loss: 0.6399 - accuracy: 0.7910 - val_loss: 6.4177 - val_accuracy: 0.0964\n",
            "Epoch 88/100\n",
            "375/375 [==============================] - 2s 4ms/step - loss: 0.6321 - accuracy: 0.7946 - val_loss: 6.4411 - val_accuracy: 0.0968\n",
            "Epoch 89/100\n",
            "375/375 [==============================] - 2s 4ms/step - loss: 0.6221 - accuracy: 0.7964 - val_loss: 6.5371 - val_accuracy: 0.0994\n",
            "Epoch 90/100\n",
            "375/375 [==============================] - 2s 5ms/step - loss: 0.6153 - accuracy: 0.8004 - val_loss: 6.6069 - val_accuracy: 0.0977\n",
            "Epoch 91/100\n",
            "375/375 [==============================] - 2s 5ms/step - loss: 0.6067 - accuracy: 0.8042 - val_loss: 6.6231 - val_accuracy: 0.0960\n",
            "Epoch 92/100\n",
            "375/375 [==============================] - 2s 4ms/step - loss: 0.5984 - accuracy: 0.8069 - val_loss: 6.7420 - val_accuracy: 0.0976\n",
            "Epoch 93/100\n",
            "375/375 [==============================] - 2s 4ms/step - loss: 0.5917 - accuracy: 0.8101 - val_loss: 6.8122 - val_accuracy: 0.0968\n",
            "Epoch 94/100\n",
            "375/375 [==============================] - 2s 5ms/step - loss: 0.5808 - accuracy: 0.8126 - val_loss: 6.8642 - val_accuracy: 0.1014\n",
            "Epoch 95/100\n",
            "375/375 [==============================] - 2s 5ms/step - loss: 0.5734 - accuracy: 0.8150 - val_loss: 6.9032 - val_accuracy: 0.0967\n",
            "Epoch 96/100\n",
            "375/375 [==============================] - 2s 5ms/step - loss: 0.5668 - accuracy: 0.8179 - val_loss: 7.0122 - val_accuracy: 0.0939\n",
            "Epoch 97/100\n",
            "375/375 [==============================] - 2s 4ms/step - loss: 0.5601 - accuracy: 0.8184 - val_loss: 7.0293 - val_accuracy: 0.0990\n",
            "Epoch 98/100\n",
            "375/375 [==============================] - 2s 4ms/step - loss: 0.5507 - accuracy: 0.8228 - val_loss: 7.1230 - val_accuracy: 0.1006\n",
            "Epoch 99/100\n",
            "375/375 [==============================] - 2s 4ms/step - loss: 0.5447 - accuracy: 0.8243 - val_loss: 7.2599 - val_accuracy: 0.0948\n",
            "Epoch 100/100\n",
            "375/375 [==============================] - 2s 5ms/step - loss: 0.5351 - accuracy: 0.8291 - val_loss: 7.2683 - val_accuracy: 0.1000\n"
          ]
        },
        {
          "output_type": "execute_result",
          "data": {
            "text/plain": [
              "<keras.callbacks.History at 0x7f4bd3acf1d0>"
            ]
          },
          "metadata": {},
          "execution_count": 61
        }
      ],
      "source": [
        "(train_images, train_labels), _ = mnist.load_data()\n",
        "train_images = train_images.reshape((60000, 28 * 28))\n",
        "train_images = train_images.astype(\"float32\") / 255\n",
        "\n",
        "random_train_labels = train_labels[:]\n",
        "np.random.shuffle(random_train_labels)\n",
        "\n",
        "model = keras.Sequential([\n",
        "    layers.Dense(512, activation=\"relu\"),\n",
        "    layers.Dense(10, activation=\"softmax\")\n",
        "])\n",
        "model.compile(optimizer=\"rmsprop\",\n",
        "              loss=\"sparse_categorical_crossentropy\",\n",
        "              metrics=[\"accuracy\"])\n",
        "model.fit(train_images, random_train_labels,\n",
        "          epochs=100,\n",
        "          batch_size=128,\n",
        "          validation_split=0.2)"
      ]
    },
    {
      "cell_type": "markdown",
      "metadata": {
        "id": "GAfcWqoIoxT5"
      },
      "source": [
        "Even though there is no relationship whatsover between the inputs and the shuffled labels, the training loss goes down just fine.\n",
        "\n",
        "Naturally, the validation loss does not improve at all over time\n",
        "\n",
        "In this case, your model fitting something but validation accuracy does not improve very well.\n",
        "\n",
        "val_accuracy는 random walk를 따르지만 accuracy는 epoch을 거듭할수록 계속 올라감."
      ]
    },
    {
      "cell_type": "markdown",
      "metadata": {
        "id": "yKiXUtFioxT6"
      },
      "source": [
        "## The maniford hypothesis"
      ]
    },
    {
      "cell_type": "markdown",
      "metadata": {
        "id": "6jhPX75NoxT6"
      },
      "source": [
        "Actual handwritten digits only occupy a tiny subspace of the parent space of all possible 28*28 unit8 array\n",
        "\n",
        "All samples in the valid subspace are connected by smooth paths that run through the subspace.\n",
        "\n",
        "Manifold : 고차원 공간에서 휘어지거나 뒤틀린 2D 모양의 데이터셋"
      ]
    },
    {
      "cell_type": "markdown",
      "metadata": {
        "id": "ZfbMGiJcoxT7"
      },
      "source": [
        "Manifold hypothesis : \n",
        "\n",
        "* 높은 차원에 존재하는 데이터들의 경우, 실제로는 해당 데이터들을 아우르는 낮은 차원의 다양체 역시 존재한다는 가설\n",
        "\n",
        "* All natural data lies on a low-dimensional manifold within the high-dimensional space where it is encoded.\n",
        "\n",
        "The manifold hypothesis implies that :\n",
        "\n",
        "* Machine learning models only have to fit relatively simple, low-dimensional,\n",
        "highly structured subspaces within their potential input space (latent manifolds).\n",
        "* Within one of these manifolds, it’s always possible to interpolate between two\n",
        "inputs, that is to say, morph one into another via a continuous path along which\n",
        "all points fall on the manifold."
      ]
    },
    {
      "cell_type": "markdown",
      "metadata": {
        "id": "h3Q4uhE3oxT7"
      },
      "source": [
        "## Interpolation as a source of generalization\n",
        "\n",
        "Deep learning achieves generalization via interpolation(보간법) on a learned approximation of the data manifold"
      ]
    },
    {
      "cell_type": "markdown",
      "metadata": {
        "id": "rYVqAONqoxT7"
      },
      "source": [
        "## Why deep learning works\n",
        "\n",
        "A sheet of paper represents a 2D manifold within 3D space.\n",
        "\n",
        "A deep learning model is a tool for uncrumpling paper balls, that is, for disentangling latent manifolds."
      ]
    },
    {
      "cell_type": "markdown",
      "metadata": {
        "id": "YLB2Sy2DoxT7"
      },
      "source": [
        "## Training data is paramount\n",
        "\n",
        "Deep learning is curve fitting, for a model to perform well it needs to be trained on a dense sampling of its input space\n",
        "\n",
        "Sparse sampling이 아니라 Dense sampling이 필요하다"
      ]
    },
    {
      "cell_type": "markdown",
      "metadata": {
        "id": "aUEVIwz9oxT8"
      },
      "source": [
        "## Evaluating machine-learning models\n",
        "\n",
        "Goal is to achieve models that generalize\n",
        "\n",
        "It's essential to be able to reliably measure the generalization power of your model"
      ]
    },
    {
      "cell_type": "markdown",
      "metadata": {
        "id": "L4JgRr1BoxT8"
      },
      "source": [
        "## Training, validation, and test sets\n",
        "\n",
        "Tuning parameters and hyperparameters is a from of learning\n",
        "\n",
        "* A model parameter is a configuration variable that is internal to the model and whose value can be estimated from data.\n",
        "\n",
        "* A model hyperparameter is a configuration that is external to the model and whose value cannot be estimated from data.\n",
        "\n",
        "Tuning is based on its performance on validation set\n",
        "\n",
        "Tuning a lot would cuase information leak\n",
        "\n",
        "Thus, you need never-before-seen test dataset"
      ]
    },
    {
      "cell_type": "markdown",
      "metadata": {
        "id": "Kh8Py6TgoxT8"
      },
      "source": [
        "\n",
        "## Hold-out validation"
      ]
    },
    {
      "cell_type": "code",
      "execution_count": null,
      "metadata": {
        "colab": {
          "base_uri": "https://localhost:8080/"
        },
        "id": "2ObR-6PLoxT9",
        "outputId": "3efd9750-80f6-4ae3-ee21-d19338335153"
      },
      "outputs": [
        {
          "output_type": "stream",
          "name": "stdout",
          "text": [
            "10000 10000\n"
          ]
        }
      ],
      "source": [
        "data = np.random.random(size = [20000])\n",
        "\n",
        "\n",
        "num_validation_data = 10000\n",
        "\n",
        "np.random.shuffle(data)\n",
        "\n",
        "training_data = data[num_validation_data:]\n",
        "\n",
        "validtaion_data = data[:num_validation_data]"
      ]
    },
    {
      "cell_type": "markdown",
      "metadata": {
        "id": "2QeH3sRdoxT-"
      },
      "source": [
        "## K fold validation\n",
        "\n",
        "## Iterated(반복하다) K fold validation\n",
        "\n",
        "* Applying K-fold validation multiple times, shuffling the data every time before splitting it K-ways"
      ]
    },
    {
      "cell_type": "code",
      "execution_count": null,
      "metadata": {
        "colab": {
          "base_uri": "https://localhost:8080/",
          "height": 181
        },
        "id": "CP8iv8n7oxT-",
        "outputId": "9d703644-cfa9-44a9-e61f-f56d9b86cf3d"
      },
      "outputs": [
        {
          "output_type": "execute_result",
          "data": {
            "text/plain": [
              "'\\n\\nk = 3\\n\\nnum_validation_samples = len(data) // k\\n\\nnp.random.shuffle(data)\\n\\nvalidation_scores = []\\n\\nfor fold in range(k):\\n    validation_data = data[num_validation_samples * fold:\\n                           num_validation_samples * (fold + 1)]\\n    \\n    training_data = np.concatenate(\\n        data[:num_validation_samples * fold],\\n        data[num_validation_samples * (fold + 1):])\\n    \\n    model = get_model()\\n    \\n    model.fit(training_data, ...) # train data\\n    \\n    validation_score = model.evaluate(validation_data, ...)\\n    validation_scores.append(validation_score)\\n    \\nvalidation_score = np.average(validation_scores)\\n\\nmodel = get_model()\\nmodel.fit(data, ...) # test data\\ntest_score = model.evaluate(test_data, ...)\\n\\n'"
            ],
            "application/vnd.google.colaboratory.intrinsic+json": {
              "type": "string"
            }
          },
          "metadata": {},
          "execution_count": 10
        }
      ],
      "source": [
        "# K fold validation\n",
        "\n",
        "\"\"\"\n",
        "\n",
        "k = 3\n",
        "\n",
        "num_validation_samples = len(data) // k\n",
        "\n",
        "np.random.shuffle(data)\n",
        "\n",
        "validation_scores = []\n",
        "\n",
        "for fold in range(k):\n",
        "    validation_data = data[num_validation_samples * fold:\n",
        "                           num_validation_samples * (fold + 1)]\n",
        "    \n",
        "    training_data = np.concatenate(\n",
        "        data[:num_validation_samples * fold],\n",
        "        data[num_validation_samples * (fold + 1):])\n",
        "    \n",
        "    model = get_model()\n",
        "    \n",
        "    model.fit(training_data, ...) # train data\n",
        "    \n",
        "    validation_score = model.evaluate(validation_data, ...)\n",
        "    validation_scores.append(validation_score)\n",
        "    \n",
        "validation_score = np.average(validation_scores)\n",
        "\n",
        "model = get_model()\n",
        "model.fit(data, ...) # test data\n",
        "test_score = model.evaluate(test_data, ...)\n",
        "\n",
        "\"\"\""
      ]
    },
    {
      "cell_type": "markdown",
      "metadata": {
        "id": "TOJanN71oxT_"
      },
      "source": [
        "## Things to keep in mind\n",
        "\n",
        "Data representativeness\n",
        "* Randomly shuffle data before splitting it\n",
        "\n",
        "The arrow of time\n",
        "* If you are predicting future event, don't shuffle. Use future data as test set\n",
        "\n",
        "Redundancy in your data\n",
        "* Remove redundant data before the start"
      ]
    },
    {
      "cell_type": "markdown",
      "metadata": {
        "id": "E96QUaYWoxT_"
      },
      "source": [
        "## Improving model fit\n",
        "\n",
        "To achieve the perfect fit, you must first overfit. Since you don't know in advance where the boundary lies, you must cross it to find it.\n",
        "\n",
        "Once you have such a model, you'll focus on refining generalization by fighting overfitting.\n",
        "\n",
        "Three common problems:\n",
        "* 1) training loss doesn’t go down.\n",
        "* 2) model doesn’t meaningfully generalize.(It means training loss is going down but validation accuracy doesn't going down)\n",
        "* 3) training and validation loss both go down but model still underfitting."
      ]
    },
    {
      "cell_type": "markdown",
      "metadata": {
        "id": "aTGJytzkoxT_"
      },
      "source": [
        "## Tuning key gradient descent parameters\n",
        "\n",
        "* Sometimes training doesn't get started\n",
        "\n",
        "* When this happens, it’s always a problem with the configuration of the gradient descent process\n",
        "\n",
        "* Training accuracy가 나아지지 않는다면 (model이 아무것도 improve하지 못한다면) gradient descent parameter를 수정해보거나 batch size를 증가시킬 것"
      ]
    },
    {
      "cell_type": "code",
      "execution_count": null,
      "metadata": {
        "id": "lRn1e5kaoxUA"
      },
      "outputs": [],
      "source": [
        "from tensorflow.keras.datasets import mnist\n",
        "\n",
        "(train_images, train_labels), _ = mnist.load_data()\n",
        "train_images = train_images.reshape((60000, 28 * 28))\n",
        "train_images = train_images.astype(\"float32\") / 255"
      ]
    },
    {
      "cell_type": "code",
      "execution_count": null,
      "metadata": {
        "colab": {
          "base_uri": "https://localhost:8080/"
        },
        "id": "fgePeW73oxUA",
        "outputId": "ee08e1cc-7dd8-4f7f-cc22-29f85e6c687e"
      },
      "outputs": [
        {
          "output_type": "stream",
          "name": "stdout",
          "text": [
            "Epoch 1/10\n",
            "375/375 [==============================] - 2s 5ms/step - loss: 858.6198 - accuracy: 0.4302 - val_loss: 2.0945 - val_accuracy: 0.3064\n",
            "Epoch 2/10\n",
            "375/375 [==============================] - 2s 4ms/step - loss: 6.0507 - accuracy: 0.3031 - val_loss: 2.2000 - val_accuracy: 0.3186\n",
            "Epoch 3/10\n",
            "375/375 [==============================] - 2s 4ms/step - loss: 4.9113 - accuracy: 0.3033 - val_loss: 2.5934 - val_accuracy: 0.3333\n",
            "Epoch 4/10\n",
            "375/375 [==============================] - 2s 4ms/step - loss: 2.9968 - accuracy: 0.2844 - val_loss: 3.2320 - val_accuracy: 0.4285\n",
            "Epoch 5/10\n",
            "375/375 [==============================] - 2s 4ms/step - loss: 3.0285 - accuracy: 0.3333 - val_loss: 2.2080 - val_accuracy: 0.3597\n",
            "Epoch 6/10\n",
            "375/375 [==============================] - 2s 5ms/step - loss: 2.6800 - accuracy: 0.2965 - val_loss: 2.0003 - val_accuracy: 0.2966\n",
            "Epoch 7/10\n",
            "375/375 [==============================] - 2s 4ms/step - loss: 2.7519 - accuracy: 0.2923 - val_loss: 1.9869 - val_accuracy: 0.2611\n",
            "Epoch 8/10\n",
            "375/375 [==============================] - 2s 4ms/step - loss: 2.7337 - accuracy: 0.3076 - val_loss: 1.9955 - val_accuracy: 0.3773\n",
            "Epoch 9/10\n",
            "375/375 [==============================] - 2s 4ms/step - loss: 2.4816 - accuracy: 0.3090 - val_loss: 2.1843 - val_accuracy: 0.3506\n",
            "Epoch 10/10\n",
            "375/375 [==============================] - 2s 4ms/step - loss: 2.4601 - accuracy: 0.3470 - val_loss: 1.9892 - val_accuracy: 0.3223\n"
          ]
        },
        {
          "output_type": "execute_result",
          "data": {
            "text/plain": [
              "<keras.callbacks.History at 0x7f4bd3a85fd0>"
            ]
          },
          "metadata": {},
          "execution_count": 65
        }
      ],
      "source": [
        "model = keras.Sequential([\n",
        "    layers.Dense(512, activation=\"relu\"),\n",
        "    layers.Dense(10, activation=\"softmax\")\n",
        "])\n",
        "model.compile(optimizer=keras.optimizers.RMSprop(1.), # learning rate가 너무 높음\n",
        "              loss=\"sparse_categorical_crossentropy\",\n",
        "              metrics=[\"accuracy\"])\n",
        "model.fit(train_images, train_labels,\n",
        "          epochs=10,\n",
        "          batch_size=128,\n",
        "          validation_split=0.2)\n",
        "\n",
        "# lr이 너무 높으면 어떠한 accuracy도 나아지지 않는다."
      ]
    },
    {
      "cell_type": "code",
      "execution_count": null,
      "metadata": {
        "colab": {
          "base_uri": "https://localhost:8080/"
        },
        "id": "_LzMIrSooxUA",
        "outputId": "049d6c31-2d6f-41eb-f1dc-f8c776ff10be"
      },
      "outputs": [
        {
          "output_type": "stream",
          "name": "stdout",
          "text": [
            "Epoch 1/10\n",
            "375/375 [==============================] - 2s 5ms/step - loss: 0.3853 - accuracy: 0.9108 - val_loss: 0.1917 - val_accuracy: 0.9503\n",
            "Epoch 2/10\n",
            "375/375 [==============================] - 2s 4ms/step - loss: 0.1406 - accuracy: 0.9641 - val_loss: 0.1597 - val_accuracy: 0.9664\n",
            "Epoch 3/10\n",
            "375/375 [==============================] - 2s 4ms/step - loss: 0.1168 - accuracy: 0.9729 - val_loss: 0.1838 - val_accuracy: 0.9675\n",
            "Epoch 4/10\n",
            "375/375 [==============================] - 2s 4ms/step - loss: 0.1006 - accuracy: 0.9785 - val_loss: 0.2363 - val_accuracy: 0.9613\n",
            "Epoch 5/10\n",
            "375/375 [==============================] - 2s 4ms/step - loss: 0.0838 - accuracy: 0.9822 - val_loss: 0.1951 - val_accuracy: 0.9729\n",
            "Epoch 6/10\n",
            "375/375 [==============================] - 2s 4ms/step - loss: 0.0733 - accuracy: 0.9850 - val_loss: 0.2406 - val_accuracy: 0.9702\n",
            "Epoch 7/10\n",
            "375/375 [==============================] - 2s 4ms/step - loss: 0.0699 - accuracy: 0.9870 - val_loss: 0.2983 - val_accuracy: 0.9701\n",
            "Epoch 8/10\n",
            "375/375 [==============================] - 2s 4ms/step - loss: 0.0687 - accuracy: 0.9876 - val_loss: 0.2658 - val_accuracy: 0.9738\n",
            "Epoch 9/10\n",
            "375/375 [==============================] - 2s 4ms/step - loss: 0.0694 - accuracy: 0.9886 - val_loss: 0.4096 - val_accuracy: 0.9602\n",
            "Epoch 10/10\n",
            "375/375 [==============================] - 2s 4ms/step - loss: 0.0643 - accuracy: 0.9899 - val_loss: 0.3324 - val_accuracy: 0.9714\n"
          ]
        },
        {
          "output_type": "execute_result",
          "data": {
            "text/plain": [
              "<keras.callbacks.History at 0x7f4bcff07f50>"
            ]
          },
          "metadata": {},
          "execution_count": 66
        }
      ],
      "source": [
        "model = keras.Sequential([\n",
        "    layers.Dense(512, activation=\"relu\"),\n",
        "    layers.Dense(10, activation=\"softmax\")\n",
        "])\n",
        "model.compile(optimizer=keras.optimizers.RMSprop(1e-2), # 적절한 수준의  learning rate\n",
        "              loss=\"sparse_categorical_crossentropy\",\n",
        "              metrics=[\"accuracy\"])\n",
        "model.fit(train_images, train_labels,\n",
        "          epochs=10,\n",
        "          batch_size=128,\n",
        "          validation_split=0.2)\n",
        "\n",
        "# 단, lr이 너무 작으면 minimum validation loss에 도달할 수 없다."
      ]
    },
    {
      "cell_type": "markdown",
      "metadata": {
        "id": "vNoTPJgJoxUB"
      },
      "source": [
        "## Leveraging better architecture priors\n",
        "\n",
        "Model trains but doesn’t generalize. What’s going on?\n",
        "* input data you’re using simply doesn’t contain sufficient information to predict your targets\n",
        "* The kind of model you’re using is not suited for the problem"
      ]
    },
    {
      "cell_type": "markdown",
      "metadata": {
        "id": "A2HGIF9YoxUB"
      },
      "source": [
        "## Increasing model capacity\n",
        "If you manage to get to a model that fits, you need to get your model to start overfitting."
      ]
    },
    {
      "cell_type": "code",
      "execution_count": null,
      "metadata": {
        "id": "3tHORCOXoxUB"
      },
      "outputs": [],
      "source": [
        "from tensorflow.keras.datasets import mnist\n",
        "\n",
        "(train_images, train_labels), _ = mnist.load_data()\n",
        "train_images = train_images.reshape((60000, 28 * 28))\n",
        "train_images = train_images.astype(\"float32\") / 255"
      ]
    },
    {
      "cell_type": "code",
      "execution_count": null,
      "metadata": {
        "colab": {
          "base_uri": "https://localhost:8080/"
        },
        "id": "jb0reirjoxUC",
        "outputId": "b8786096-c5df-45fd-8c3a-0e9027b840ee"
      },
      "outputs": [
        {
          "output_type": "stream",
          "name": "stdout",
          "text": [
            "Epoch 1/20\n",
            "375/375 [==============================] - 2s 4ms/step - loss: 0.6658 - accuracy: 0.8365 - val_loss: 0.3601 - val_accuracy: 0.9043\n",
            "Epoch 2/20\n",
            "375/375 [==============================] - 1s 4ms/step - loss: 0.3514 - accuracy: 0.9038 - val_loss: 0.3082 - val_accuracy: 0.9133\n",
            "Epoch 3/20\n",
            "375/375 [==============================] - 1s 3ms/step - loss: 0.3159 - accuracy: 0.9124 - val_loss: 0.2916 - val_accuracy: 0.9187\n",
            "Epoch 4/20\n",
            "375/375 [==============================] - 1s 4ms/step - loss: 0.2997 - accuracy: 0.9167 - val_loss: 0.2812 - val_accuracy: 0.9216\n",
            "Epoch 5/20\n",
            "375/375 [==============================] - 1s 3ms/step - loss: 0.2900 - accuracy: 0.9191 - val_loss: 0.2786 - val_accuracy: 0.9228\n",
            "Epoch 6/20\n",
            "375/375 [==============================] - 1s 3ms/step - loss: 0.2837 - accuracy: 0.9209 - val_loss: 0.2731 - val_accuracy: 0.9247\n",
            "Epoch 7/20\n",
            "375/375 [==============================] - 1s 4ms/step - loss: 0.2784 - accuracy: 0.9217 - val_loss: 0.2690 - val_accuracy: 0.9262\n",
            "Epoch 8/20\n",
            "375/375 [==============================] - 1s 4ms/step - loss: 0.2749 - accuracy: 0.9232 - val_loss: 0.2680 - val_accuracy: 0.9269\n",
            "Epoch 9/20\n",
            "375/375 [==============================] - 1s 4ms/step - loss: 0.2720 - accuracy: 0.9246 - val_loss: 0.2668 - val_accuracy: 0.9273\n",
            "Epoch 10/20\n",
            "375/375 [==============================] - 1s 4ms/step - loss: 0.2689 - accuracy: 0.9247 - val_loss: 0.2643 - val_accuracy: 0.9289\n",
            "Epoch 11/20\n",
            "375/375 [==============================] - 1s 4ms/step - loss: 0.2671 - accuracy: 0.9262 - val_loss: 0.2655 - val_accuracy: 0.9275\n",
            "Epoch 12/20\n",
            "375/375 [==============================] - 1s 3ms/step - loss: 0.2651 - accuracy: 0.9272 - val_loss: 0.2629 - val_accuracy: 0.9286\n",
            "Epoch 13/20\n",
            "375/375 [==============================] - 1s 3ms/step - loss: 0.2633 - accuracy: 0.9279 - val_loss: 0.2629 - val_accuracy: 0.9293\n",
            "Epoch 14/20\n",
            "375/375 [==============================] - 1s 3ms/step - loss: 0.2620 - accuracy: 0.9281 - val_loss: 0.2649 - val_accuracy: 0.9272\n",
            "Epoch 15/20\n",
            "375/375 [==============================] - 1s 3ms/step - loss: 0.2606 - accuracy: 0.9283 - val_loss: 0.2629 - val_accuracy: 0.9295\n",
            "Epoch 16/20\n",
            "375/375 [==============================] - 1s 3ms/step - loss: 0.2596 - accuracy: 0.9294 - val_loss: 0.2616 - val_accuracy: 0.9298\n",
            "Epoch 17/20\n",
            "375/375 [==============================] - 1s 3ms/step - loss: 0.2584 - accuracy: 0.9296 - val_loss: 0.2637 - val_accuracy: 0.9298\n",
            "Epoch 18/20\n",
            "375/375 [==============================] - 1s 4ms/step - loss: 0.2573 - accuracy: 0.9295 - val_loss: 0.2619 - val_accuracy: 0.9292\n",
            "Epoch 19/20\n",
            "375/375 [==============================] - 1s 3ms/step - loss: 0.2567 - accuracy: 0.9301 - val_loss: 0.2618 - val_accuracy: 0.9303\n",
            "Epoch 20/20\n",
            "375/375 [==============================] - 1s 3ms/step - loss: 0.2557 - accuracy: 0.9299 - val_loss: 0.2608 - val_accuracy: 0.9315\n"
          ]
        }
      ],
      "source": [
        "# only 1 layer\n",
        "\n",
        "model = keras.Sequential([layers.Dense(10, activation=\"softmax\")])\n",
        "\n",
        "model.compile(optimizer=\"rmsprop\",\n",
        "              loss=\"sparse_categorical_crossentropy\",\n",
        "              metrics=[\"accuracy\"])\n",
        "\n",
        "history_small_model = model.fit(\n",
        "    train_images, train_labels,\n",
        "    epochs=20,\n",
        "    batch_size=128,\n",
        "    validation_split=0.2)\n",
        "\n",
        "# deeplearning model with 1 simple dense layer with softmax activation is same as the logistic regression"
      ]
    },
    {
      "cell_type": "code",
      "execution_count": null,
      "metadata": {
        "colab": {
          "base_uri": "https://localhost:8080/",
          "height": 313
        },
        "id": "chOsuhKQoxUD",
        "outputId": "3523ca04-813f-40a6-8296-4145a6ce5782"
      },
      "outputs": [
        {
          "output_type": "execute_result",
          "data": {
            "text/plain": [
              "<matplotlib.legend.Legend at 0x7f4bd050bb10>"
            ]
          },
          "metadata": {},
          "execution_count": 69
        },
        {
          "output_type": "display_data",
          "data": {
            "text/plain": [
              "<Figure size 432x288 with 1 Axes>"
            ],
            "image/png": "[encoded data removed]"
          },
          "metadata": {
            "needs_background": "light"
          }
        }
      ],
      "source": [
        "val_loss = history_small_model.history[\"val_loss\"]\n",
        "epochs = range(1, 21)\n",
        "\n",
        "plt.plot(epochs, val_loss, \"b--\",\n",
        "         label=\"Validation loss\")\n",
        "\n",
        "plt.title(\"Effect of insufficient model capacity on validation loss\")\n",
        "plt.xlabel(\"Epochs\")\n",
        "plt.ylabel(\"Loss\")\n",
        "plt.legend()"
      ]
    },
    {
      "cell_type": "markdown",
      "metadata": {
        "id": "512MSMBGoxUD"
      },
      "source": [
        "모델이 너무 단순하기 때문에 epochs가 많아도\n",
        "\n",
        "* overfitting이 나타나지 않고\n",
        "\n",
        "* validation accuracy도 그닥 좋지 않으며\n",
        "\n",
        "* validation loss도 크다.\n",
        "\n",
        "더 좋은 모델을 만들 수 있다는 의미"
      ]
    },
    {
      "cell_type": "code",
      "execution_count": null,
      "metadata": {
        "colab": {
          "base_uri": "https://localhost:8080/"
        },
        "id": "mFtBz_skoxUE",
        "outputId": "b13e3aff-384a-4b14-910e-aa91f00eff73"
      },
      "outputs": [
        {
          "output_type": "stream",
          "name": "stdout",
          "text": [
            "Epoch 1/20\n",
            "375/375 [==============================] - 3s 5ms/step - loss: 0.3577 - accuracy: 0.8987 - val_loss: 0.1839 - val_accuracy: 0.9461\n",
            "Epoch 2/20\n",
            "375/375 [==============================] - 2s 4ms/step - loss: 0.1604 - accuracy: 0.9530 - val_loss: 0.1516 - val_accuracy: 0.9541\n",
            "Epoch 3/20\n",
            "375/375 [==============================] - 2s 4ms/step - loss: 0.1123 - accuracy: 0.9668 - val_loss: 0.1182 - val_accuracy: 0.9645\n",
            "Epoch 4/20\n",
            "375/375 [==============================] - 1s 4ms/step - loss: 0.0873 - accuracy: 0.9733 - val_loss: 0.1086 - val_accuracy: 0.9696\n",
            "Epoch 5/20\n",
            "375/375 [==============================] - 1s 4ms/step - loss: 0.0695 - accuracy: 0.9790 - val_loss: 0.0921 - val_accuracy: 0.9731\n",
            "Epoch 6/20\n",
            "375/375 [==============================] - 2s 4ms/step - loss: 0.0561 - accuracy: 0.9829 - val_loss: 0.0974 - val_accuracy: 0.9720\n",
            "Epoch 7/20\n",
            "375/375 [==============================] - 2s 4ms/step - loss: 0.0468 - accuracy: 0.9852 - val_loss: 0.0966 - val_accuracy: 0.9728\n",
            "Epoch 8/20\n",
            "375/375 [==============================] - 2s 4ms/step - loss: 0.0383 - accuracy: 0.9879 - val_loss: 0.0990 - val_accuracy: 0.9727\n",
            "Epoch 9/20\n",
            "375/375 [==============================] - 1s 4ms/step - loss: 0.0317 - accuracy: 0.9903 - val_loss: 0.0925 - val_accuracy: 0.9746\n",
            "Epoch 10/20\n",
            "375/375 [==============================] - 2s 4ms/step - loss: 0.0266 - accuracy: 0.9917 - val_loss: 0.0971 - val_accuracy: 0.9745\n",
            "Epoch 11/20\n",
            "375/375 [==============================] - 1s 4ms/step - loss: 0.0222 - accuracy: 0.9934 - val_loss: 0.1039 - val_accuracy: 0.9749\n",
            "Epoch 12/20\n",
            "375/375 [==============================] - 2s 4ms/step - loss: 0.0186 - accuracy: 0.9943 - val_loss: 0.0969 - val_accuracy: 0.9765\n",
            "Epoch 13/20\n",
            "375/375 [==============================] - 2s 4ms/step - loss: 0.0154 - accuracy: 0.9950 - val_loss: 0.1103 - val_accuracy: 0.9765\n",
            "Epoch 14/20\n",
            "375/375 [==============================] - 2s 4ms/step - loss: 0.0134 - accuracy: 0.9959 - val_loss: 0.1153 - val_accuracy: 0.9757\n",
            "Epoch 15/20\n",
            "375/375 [==============================] - 1s 4ms/step - loss: 0.0115 - accuracy: 0.9963 - val_loss: 0.1111 - val_accuracy: 0.9771\n",
            "Epoch 16/20\n",
            "375/375 [==============================] - 2s 4ms/step - loss: 0.0099 - accuracy: 0.9970 - val_loss: 0.1220 - val_accuracy: 0.9760\n",
            "Epoch 17/20\n",
            "375/375 [==============================] - 2s 4ms/step - loss: 0.0090 - accuracy: 0.9970 - val_loss: 0.1339 - val_accuracy: 0.9746\n",
            "Epoch 18/20\n",
            "375/375 [==============================] - 1s 4ms/step - loss: 0.0071 - accuracy: 0.9977 - val_loss: 0.1281 - val_accuracy: 0.9768\n",
            "Epoch 19/20\n",
            "375/375 [==============================] - 2s 4ms/step - loss: 0.0057 - accuracy: 0.9983 - val_loss: 0.1473 - val_accuracy: 0.9735\n",
            "Epoch 20/20\n",
            "375/375 [==============================] - 1s 4ms/step - loss: 0.0054 - accuracy: 0.9983 - val_loss: 0.1494 - val_accuracy: 0.9760\n"
          ]
        }
      ],
      "source": [
        "# model with 3 layers = bigger model\n",
        "\n",
        "model = keras.Sequential([\n",
        "    layers.Dense(96, activation=\"relu\"),\n",
        "    layers.Dense(96, activation=\"relu\"),\n",
        "    layers.Dense(10, activation=\"softmax\"),\n",
        "])\n",
        "\n",
        "model.compile(optimizer=\"rmsprop\",\n",
        "              loss=\"sparse_categorical_crossentropy\",\n",
        "              metrics=[\"accuracy\"])\n",
        "\n",
        "history_large_model = model.fit(\n",
        "    train_images, train_labels,\n",
        "    epochs=20,\n",
        "    batch_size=128,\n",
        "    validation_split=0.2)"
      ]
    },
    {
      "cell_type": "code",
      "execution_count": null,
      "metadata": {
        "colab": {
          "base_uri": "https://localhost:8080/",
          "height": 297
        },
        "id": "SUhSlRj_oxUE",
        "outputId": "ba9ace73-249b-4784-8a16-f6a8720225c6"
      },
      "outputs": [
        {
          "output_type": "execute_result",
          "data": {
            "text/plain": [
              "<matplotlib.legend.Legend at 0x7f4bdad61550>"
            ]
          },
          "metadata": {},
          "execution_count": 71
        },
        {
          "output_type": "display_data",
          "data": {
            "text/plain": [
              "<Figure size 432x288 with 1 Axes>"
            ],
            "image/png": "[encoded data removed]"
          },
          "metadata": {
            "needs_background": "light"
          }
        }
      ],
      "source": [
        "val_loss = history_large_model.history[\"val_loss\"]\n",
        "epochs = range(1, 21)\n",
        "\n",
        "plt.plot(epochs, val_loss, \"b--\",\n",
        "         label=\"Validation loss\")\n",
        "\n",
        "plt.xlabel(\"Epochs\")\n",
        "plt.ylabel(\"Loss\")\n",
        "plt.legend()"
      ]
    },
    {
      "cell_type": "markdown",
      "metadata": {
        "id": "38--PL5yoxUF"
      },
      "source": [
        "small model 보다 validation loss 도 줄고 validation accuracy도 좋아졌다.\n",
        "\n",
        "그러나 overfitting이 나타났기 때문에 overfitting과 fight해야한다."
      ]
    },
    {
      "cell_type": "markdown",
      "metadata": {
        "id": "wXJL-R2eoxUF"
      },
      "source": [
        "## Improving generalization\n",
        "\n",
        "Once your model has shown itself to have some generalization power and to be able to overfit, it’s time to switch your focus to maximizing generalization.\n",
        "\n",
        "Dataset curation: Make sure you have enough data, Minimize labeling errors, Clean your data and deal with missing values, Feature selection, etc"
      ]
    },
    {
      "cell_type": "markdown",
      "metadata": {
        "id": "8Juxx7heoxUG"
      },
      "source": [
        "## Feature engineering\n",
        "\n",
        "Feature engineering is the process of using your own knowledge about the data to make the algorithm work better by applying hardcoded (non-learned) transformations to the data.\n",
        "\n",
        "Good features allow you to solve problems using fewer resources\n",
        "\n",
        "Good features let you solve a problem with far less data"
      ]
    },
    {
      "cell_type": "markdown",
      "metadata": {
        "id": "3aIettWvoxUH"
      },
      "source": [
        "## Using early stopping\n",
        "\n",
        "In deep learning, we always use models that are vastly overparameterized.\n",
        "\n",
        "Interrupt training long before you’ve reached the minimum possible training loss.\n",
        "\n",
        "In Keras, it’s typical to do this with an EarlyStopping callback"
      ]
    },
    {
      "cell_type": "markdown",
      "metadata": {
        "id": "F1uRq6R5oxUI"
      },
      "source": [
        "## Regularizing your model\n",
        "\n",
        "Regularization techniques are a set of best practices that actively impede the model’s ability to fit perfectly to the training data, with the goal of making the model perform better during validation."
      ]
    },
    {
      "cell_type": "markdown",
      "metadata": {
        "id": "t6su8lAnoxUJ"
      },
      "source": [
        "## Reducing the network's size\n",
        "\n",
        "The simplest way to prevent overfitting is to reduce the size of the model"
      ]
    },
    {
      "cell_type": "code",
      "execution_count": null,
      "metadata": {
        "id": "uS8RBhXsoxUJ"
      },
      "outputs": [],
      "source": [
        "# Using IMDB dataset\n",
        "\n",
        "from tensorflow.keras.datasets import imdb\n",
        "(train_data, train_labels), _ = imdb.load_data(num_words=10000)"
      ]
    },
    {
      "cell_type": "code",
      "execution_count": null,
      "metadata": {
        "id": "qxlbJYE3oxUK"
      },
      "outputs": [],
      "source": [
        "def vectorize_sequences(sequences, dimension=10000):\n",
        "    results = np.zeros((len(sequences), dimension))\n",
        "    for i, sequence in enumerate(sequences):\n",
        "        results[i, sequence] = 1.\n",
        "    return results\n",
        "\n",
        "train_data = vectorize_sequences(train_data)"
      ]
    },
    {
      "cell_type": "code",
      "execution_count": null,
      "metadata": {
        "colab": {
          "base_uri": "https://localhost:8080/"
        },
        "id": "5vKhhX6VoxUK",
        "outputId": "d76154a8-7432-4358-b836-2a1406b49ad6"
      },
      "outputs": [
        {
          "output_type": "stream",
          "name": "stdout",
          "text": [
            "Epoch 1/20\n",
            "30/30 [==============================] - 2s 37ms/step - loss: 0.5418 - accuracy: 0.7895 - val_loss: 0.4215 - val_accuracy: 0.8621\n",
            "Epoch 2/20\n",
            "30/30 [==============================] - 1s 21ms/step - loss: 0.3325 - accuracy: 0.8989 - val_loss: 0.3311 - val_accuracy: 0.8747\n",
            "Epoch 3/20\n",
            "30/30 [==============================] - 1s 20ms/step - loss: 0.2373 - accuracy: 0.9253 - val_loss: 0.2824 - val_accuracy: 0.8914\n",
            "Epoch 4/20\n",
            "30/30 [==============================] - 1s 21ms/step - loss: 0.1863 - accuracy: 0.9389 - val_loss: 0.2952 - val_accuracy: 0.8818\n",
            "Epoch 5/20\n",
            "30/30 [==============================] - 1s 24ms/step - loss: 0.1524 - accuracy: 0.9513 - val_loss: 0.2825 - val_accuracy: 0.8891\n",
            "Epoch 6/20\n",
            "30/30 [==============================] - 1s 25ms/step - loss: 0.1269 - accuracy: 0.9621 - val_loss: 0.2976 - val_accuracy: 0.8862\n",
            "Epoch 7/20\n",
            "30/30 [==============================] - 1s 21ms/step - loss: 0.1065 - accuracy: 0.9681 - val_loss: 0.3041 - val_accuracy: 0.8861\n",
            "Epoch 8/20\n",
            "30/30 [==============================] - 1s 21ms/step - loss: 0.0908 - accuracy: 0.9729 - val_loss: 0.3229 - val_accuracy: 0.8844\n",
            "Epoch 9/20\n",
            "30/30 [==============================] - 1s 21ms/step - loss: 0.0746 - accuracy: 0.9793 - val_loss: 0.3647 - val_accuracy: 0.8774\n",
            "Epoch 10/20\n",
            "30/30 [==============================] - 1s 21ms/step - loss: 0.0633 - accuracy: 0.9826 - val_loss: 0.3691 - val_accuracy: 0.8795\n",
            "Epoch 11/20\n",
            "30/30 [==============================] - 1s 21ms/step - loss: 0.0519 - accuracy: 0.9871 - val_loss: 0.4282 - val_accuracy: 0.8705\n",
            "Epoch 12/20\n",
            "30/30 [==============================] - 1s 21ms/step - loss: 0.0424 - accuracy: 0.9899 - val_loss: 0.4362 - val_accuracy: 0.8748\n",
            "Epoch 13/20\n",
            "30/30 [==============================] - 1s 21ms/step - loss: 0.0347 - accuracy: 0.9917 - val_loss: 0.4639 - val_accuracy: 0.8736\n",
            "Epoch 14/20\n",
            "30/30 [==============================] - 1s 25ms/step - loss: 0.0254 - accuracy: 0.9949 - val_loss: 0.5035 - val_accuracy: 0.8720\n",
            "Epoch 15/20\n",
            "30/30 [==============================] - 1s 22ms/step - loss: 0.0200 - accuracy: 0.9963 - val_loss: 0.5352 - val_accuracy: 0.8716\n",
            "Epoch 16/20\n",
            "30/30 [==============================] - 1s 22ms/step - loss: 0.0166 - accuracy: 0.9971 - val_loss: 0.5706 - val_accuracy: 0.8683\n",
            "Epoch 17/20\n",
            "30/30 [==============================] - 1s 21ms/step - loss: 0.0120 - accuracy: 0.9983 - val_loss: 0.6527 - val_accuracy: 0.8614\n",
            "Epoch 18/20\n",
            "30/30 [==============================] - 1s 25ms/step - loss: 0.0105 - accuracy: 0.9989 - val_loss: 0.6386 - val_accuracy: 0.8680\n",
            "Epoch 19/20\n",
            "30/30 [==============================] - 1s 21ms/step - loss: 0.0072 - accuracy: 0.9995 - val_loss: 0.6773 - val_accuracy: 0.8669\n",
            "Epoch 20/20\n",
            "30/30 [==============================] - 1s 25ms/step - loss: 0.0068 - accuracy: 0.9991 - val_loss: 0.7117 - val_accuracy: 0.8653\n"
          ]
        }
      ],
      "source": [
        "# Original model\n",
        "\n",
        "model = keras.Sequential([\n",
        "    layers.Dense(16, activation=\"relu\"),\n",
        "    layers.Dense(16, activation=\"relu\"),\n",
        "    layers.Dense(1, activation=\"sigmoid\")\n",
        "])\n",
        "\n",
        "model.compile(optimizer=\"rmsprop\",\n",
        "              loss=\"binary_crossentropy\",\n",
        "              metrics=[\"accuracy\"])\n",
        "\n",
        "history_original = model.fit(train_data, train_labels,\n",
        "                             epochs=20, batch_size=512, validation_split=0.4)"
      ]
    },
    {
      "cell_type": "code",
      "execution_count": null,
      "metadata": {
        "colab": {
          "base_uri": "https://localhost:8080/"
        },
        "id": "3WXvz-kXoxUK",
        "outputId": "339cca28-daca-42e0-a2ce-de418fbdfa87"
      },
      "outputs": [
        {
          "output_type": "stream",
          "name": "stdout",
          "text": [
            "Epoch 1/20\n",
            "30/30 [==============================] - 2s 37ms/step - loss: 0.6058 - accuracy: 0.7633 - val_loss: 0.5261 - val_accuracy: 0.8434\n",
            "Epoch 2/20\n",
            "30/30 [==============================] - 1s 22ms/step - loss: 0.4629 - accuracy: 0.8717 - val_loss: 0.4298 - val_accuracy: 0.8640\n",
            "Epoch 3/20\n",
            "30/30 [==============================] - 1s 23ms/step - loss: 0.3688 - accuracy: 0.8953 - val_loss: 0.3641 - val_accuracy: 0.8774\n",
            "Epoch 4/20\n",
            "30/30 [==============================] - 1s 25ms/step - loss: 0.3027 - accuracy: 0.9080 - val_loss: 0.3237 - val_accuracy: 0.8844\n",
            "Epoch 5/20\n",
            "30/30 [==============================] - 1s 21ms/step - loss: 0.2552 - accuracy: 0.9217 - val_loss: 0.2982 - val_accuracy: 0.8897\n",
            "Epoch 6/20\n",
            "30/30 [==============================] - 1s 21ms/step - loss: 0.2203 - accuracy: 0.9311 - val_loss: 0.2839 - val_accuracy: 0.8920\n",
            "Epoch 7/20\n",
            "30/30 [==============================] - 1s 21ms/step - loss: 0.1927 - accuracy: 0.9403 - val_loss: 0.2773 - val_accuracy: 0.8912\n",
            "Epoch 8/20\n",
            "30/30 [==============================] - 1s 21ms/step - loss: 0.1718 - accuracy: 0.9460 - val_loss: 0.2718 - val_accuracy: 0.8925\n",
            "Epoch 9/20\n",
            "30/30 [==============================] - 1s 22ms/step - loss: 0.1526 - accuracy: 0.9530 - val_loss: 0.2721 - val_accuracy: 0.8924\n",
            "Epoch 10/20\n",
            "30/30 [==============================] - 1s 21ms/step - loss: 0.1364 - accuracy: 0.9594 - val_loss: 0.2755 - val_accuracy: 0.8917\n",
            "Epoch 11/20\n",
            "30/30 [==============================] - 1s 22ms/step - loss: 0.1223 - accuracy: 0.9634 - val_loss: 0.2826 - val_accuracy: 0.8903\n",
            "Epoch 12/20\n",
            "30/30 [==============================] - 1s 25ms/step - loss: 0.1102 - accuracy: 0.9673 - val_loss: 0.2892 - val_accuracy: 0.8884\n",
            "Epoch 13/20\n",
            "30/30 [==============================] - 1s 22ms/step - loss: 0.0996 - accuracy: 0.9715 - val_loss: 0.2966 - val_accuracy: 0.8888\n",
            "Epoch 14/20\n",
            "30/30 [==============================] - 1s 25ms/step - loss: 0.0898 - accuracy: 0.9750 - val_loss: 0.3090 - val_accuracy: 0.8851\n",
            "Epoch 15/20\n",
            "30/30 [==============================] - 1s 21ms/step - loss: 0.0807 - accuracy: 0.9780 - val_loss: 0.3242 - val_accuracy: 0.8819\n",
            "Epoch 16/20\n",
            "30/30 [==============================] - 1s 22ms/step - loss: 0.0728 - accuracy: 0.9803 - val_loss: 0.3364 - val_accuracy: 0.8816\n",
            "Epoch 17/20\n",
            "30/30 [==============================] - 1s 22ms/step - loss: 0.0654 - accuracy: 0.9839 - val_loss: 0.3453 - val_accuracy: 0.8835\n",
            "Epoch 18/20\n",
            "30/30 [==============================] - 1s 22ms/step - loss: 0.0583 - accuracy: 0.9863 - val_loss: 0.3603 - val_accuracy: 0.8817\n",
            "Epoch 19/20\n",
            "30/30 [==============================] - 1s 21ms/step - loss: 0.0521 - accuracy: 0.9879 - val_loss: 0.3763 - val_accuracy: 0.8800\n",
            "Epoch 20/20\n",
            "30/30 [==============================] - 1s 21ms/step - loss: 0.0466 - accuracy: 0.9895 - val_loss: 0.3932 - val_accuracy: 0.8785\n"
          ]
        }
      ],
      "source": [
        "# Lower capacity model\n",
        "\n",
        "model = keras.Sequential([\n",
        "    layers.Dense(4, activation=\"relu\"),\n",
        "    layers.Dense(4, activation=\"relu\"),\n",
        "    layers.Dense(1, activation=\"sigmoid\")\n",
        "])\n",
        "\n",
        "model.compile(optimizer=\"rmsprop\",\n",
        "              loss=\"binary_crossentropy\",\n",
        "              metrics=[\"accuracy\"])\n",
        "\n",
        "history_small = model.fit(train_data, train_labels,\n",
        "                             epochs=20, batch_size=512, validation_split=0.4)"
      ]
    },
    {
      "cell_type": "code",
      "execution_count": null,
      "metadata": {
        "colab": {
          "base_uri": "https://localhost:8080/"
        },
        "id": "dT6QDhzhoxUL",
        "outputId": "fdfe04b3-cf38-42d2-fbf4-8d63c6e6b71c"
      },
      "outputs": [
        {
          "output_type": "stream",
          "name": "stdout",
          "text": [
            "Epoch 1/20\n",
            "30/30 [==============================] - 2s 52ms/step - loss: 0.5448 - accuracy: 0.7527 - val_loss: 0.2926 - val_accuracy: 0.8886\n",
            "Epoch 2/20\n",
            "30/30 [==============================] - 1s 33ms/step - loss: 0.2606 - accuracy: 0.8975 - val_loss: 0.4315 - val_accuracy: 0.8153\n",
            "Epoch 3/20\n",
            "30/30 [==============================] - 1s 34ms/step - loss: 0.1514 - accuracy: 0.9418 - val_loss: 0.3050 - val_accuracy: 0.8875\n",
            "Epoch 4/20\n",
            "30/30 [==============================] - 1s 33ms/step - loss: 0.0880 - accuracy: 0.9689 - val_loss: 0.4086 - val_accuracy: 0.8822\n",
            "Epoch 5/20\n",
            "30/30 [==============================] - 1s 35ms/step - loss: 0.0926 - accuracy: 0.9779 - val_loss: 0.3666 - val_accuracy: 0.8870\n",
            "Epoch 6/20\n",
            "30/30 [==============================] - 1s 35ms/step - loss: 0.0054 - accuracy: 0.9992 - val_loss: 0.5301 - val_accuracy: 0.8856\n",
            "Epoch 7/20\n",
            "30/30 [==============================] - 1s 34ms/step - loss: 8.3314e-04 - accuracy: 0.9999 - val_loss: 0.6443 - val_accuracy: 0.8863\n",
            "Epoch 8/20\n",
            "30/30 [==============================] - 1s 33ms/step - loss: 1.0459e-04 - accuracy: 1.0000 - val_loss: 0.7631 - val_accuracy: 0.8844\n",
            "Epoch 9/20\n",
            "30/30 [==============================] - 1s 32ms/step - loss: 1.6341e-05 - accuracy: 1.0000 - val_loss: 0.8752 - val_accuracy: 0.8842\n",
            "Epoch 10/20\n",
            "30/30 [==============================] - 1s 34ms/step - loss: 0.4151 - accuracy: 0.9787 - val_loss: 0.7994 - val_accuracy: 0.8612\n",
            "Epoch 11/20\n",
            "30/30 [==============================] - 1s 34ms/step - loss: 1.2806e-04 - accuracy: 1.0000 - val_loss: 0.6769 - val_accuracy: 0.8850\n",
            "Epoch 12/20\n",
            "30/30 [==============================] - 1s 35ms/step - loss: 2.6892e-05 - accuracy: 1.0000 - val_loss: 0.7068 - val_accuracy: 0.8854\n",
            "Epoch 13/20\n",
            "30/30 [==============================] - 1s 33ms/step - loss: 1.4198e-05 - accuracy: 1.0000 - val_loss: 0.7424 - val_accuracy: 0.8864\n",
            "Epoch 14/20\n",
            "30/30 [==============================] - 1s 34ms/step - loss: 7.0880e-06 - accuracy: 1.0000 - val_loss: 0.7991 - val_accuracy: 0.8855\n",
            "Epoch 15/20\n",
            "30/30 [==============================] - 1s 33ms/step - loss: 2.9952e-06 - accuracy: 1.0000 - val_loss: 0.8698 - val_accuracy: 0.8854\n",
            "Epoch 16/20\n",
            "30/30 [==============================] - 1s 33ms/step - loss: 1.1098e-06 - accuracy: 1.0000 - val_loss: 0.9490 - val_accuracy: 0.8848\n",
            "Epoch 17/20\n",
            "30/30 [==============================] - 1s 34ms/step - loss: 3.9461e-07 - accuracy: 1.0000 - val_loss: 1.0326 - val_accuracy: 0.8848\n",
            "Epoch 18/20\n",
            "30/30 [==============================] - 1s 34ms/step - loss: 1.5414e-07 - accuracy: 1.0000 - val_loss: 1.1079 - val_accuracy: 0.8833\n",
            "Epoch 19/20\n",
            "30/30 [==============================] - 1s 35ms/step - loss: 6.3968e-08 - accuracy: 1.0000 - val_loss: 1.1683 - val_accuracy: 0.8843\n",
            "Epoch 20/20\n",
            "30/30 [==============================] - 1s 34ms/step - loss: 3.3698e-08 - accuracy: 1.0000 - val_loss: 1.2067 - val_accuracy: 0.8838\n"
          ]
        }
      ],
      "source": [
        "# Higher capacity model\n",
        "\n",
        "model = keras.Sequential([\n",
        "    layers.Dense(512, activation=\"relu\"),\n",
        "    layers.Dense(512, activation=\"relu\"),\n",
        "    layers.Dense(1, activation=\"sigmoid\")\n",
        "])\n",
        "\n",
        "model.compile(optimizer=\"rmsprop\",\n",
        "              loss=\"binary_crossentropy\",\n",
        "              metrics=[\"accuracy\"])\n",
        "\n",
        "history_large = model.fit(train_data, train_labels,\n",
        "                             epochs=20, batch_size=512, validation_split=0.4)"
      ]
    },
    {
      "cell_type": "code",
      "execution_count": null,
      "metadata": {
        "colab": {
          "base_uri": "https://localhost:8080/",
          "height": 297
        },
        "id": "UFDhCRGeoxUL",
        "outputId": "c3302e8e-dc91-4a59-a739-594974a62be0"
      },
      "outputs": [
        {
          "output_type": "execute_result",
          "data": {
            "text/plain": [
              "<matplotlib.legend.Legend at 0x7f4bbee311d0>"
            ]
          },
          "metadata": {},
          "execution_count": 77
        },
        {
          "output_type": "display_data",
          "data": {
            "text/plain": [
              "<Figure size 432x288 with 1 Axes>"
            ],
            "image/png": "[encoded data removed]"
          },
          "metadata": {
            "needs_background": "light"
          }
        }
      ],
      "source": [
        "val_loss_original = history_original.history[\"val_loss\"]\n",
        "val_loss_small = history_small.history[\"val_loss\"]\n",
        "val_loss_large = history_large.history[\"val_loss\"]\n",
        "epochs = range(1, 21)\n",
        "\n",
        "plt.plot(epochs, val_loss_original, \"blue\",\n",
        "         label=\"Validation loss_original\")\n",
        "plt.plot(epochs, val_loss_small, \"green\",\n",
        "         label=\"Validation loss_small\")\n",
        "plt.plot(epochs, val_loss_large, \"red\",\n",
        "         label=\"Validation loss_large\")\n",
        "\n",
        "plt.xlabel(\"Epochs\")\n",
        "plt.ylabel(\"Loss\")\n",
        "plt.legend()"
      ]
    },
    {
      "cell_type": "markdown",
      "metadata": {
        "id": "SLI3tAK4oxUL"
      },
      "source": [
        "smaller model이 original model보다 validation loss가 낮으며 overfitting이 발생하는 eopoch도 뒤에 있다. Reducing network's size를 통해 overfitting을 막고 더 좋은 model을 만들었음을 알 수 있다.\n",
        "\n",
        "반면 larger model은 너무 빨리 overfitting이 발생하며 validation_loss도 좋지 않다."
      ]
    },
    {
      "cell_type": "markdown",
      "metadata": {
        "id": "SmDXb7XdoxUM"
      },
      "source": [
        "## Adding weight regularization\n",
        "\n",
        "Simpler models are less likely to overfit than complex ones\n",
        "\n",
        "Simple model is a model where the parameter values has less entropy\n",
        "\n",
        "L1 regularization : Lasso penalty\n",
        "\n",
        "L2 regularization : Lidge penalty\n",
        "\n",
        "L1, L2 regularization을 통해 entropy를 control할 수 있다.\n",
        "\n",
        "Loss function안에 L1, L2규제를 삽입한다."
      ]
    },
    {
      "cell_type": "code",
      "execution_count": null,
      "metadata": {
        "colab": {
          "base_uri": "https://localhost:8080/"
        },
        "id": "53cmzBoxoxUM",
        "outputId": "392b539a-4502-4b59-9081-a062f30a5edf"
      },
      "outputs": [
        {
          "output_type": "stream",
          "name": "stdout",
          "text": [
            "Epoch 1/20\n",
            "30/30 [==============================] - 2s 43ms/step - loss: 1.0652 - accuracy: 0.7739 - val_loss: 0.7166 - val_accuracy: 0.8212\n",
            "Epoch 2/20\n",
            "30/30 [==============================] - 1s 21ms/step - loss: 0.6647 - accuracy: 0.8417 - val_loss: 0.6437 - val_accuracy: 0.8556\n",
            "Epoch 3/20\n",
            "30/30 [==============================] - 1s 21ms/step - loss: 0.6163 - accuracy: 0.8529 - val_loss: 0.6394 - val_accuracy: 0.8281\n",
            "Epoch 4/20\n",
            "30/30 [==============================] - 1s 21ms/step - loss: 0.5852 - accuracy: 0.8618 - val_loss: 0.5930 - val_accuracy: 0.8568\n",
            "Epoch 5/20\n",
            "30/30 [==============================] - 1s 21ms/step - loss: 0.5661 - accuracy: 0.8656 - val_loss: 0.5905 - val_accuracy: 0.8468\n",
            "Epoch 6/20\n",
            "30/30 [==============================] - 1s 21ms/step - loss: 0.5504 - accuracy: 0.8676 - val_loss: 0.5778 - val_accuracy: 0.8549\n",
            "Epoch 7/20\n",
            "30/30 [==============================] - 1s 21ms/step - loss: 0.5348 - accuracy: 0.8747 - val_loss: 0.5601 - val_accuracy: 0.8620\n",
            "Epoch 8/20\n",
            "30/30 [==============================] - 1s 24ms/step - loss: 0.5299 - accuracy: 0.8757 - val_loss: 0.5417 - val_accuracy: 0.8667\n",
            "Epoch 9/20\n",
            "30/30 [==============================] - 1s 24ms/step - loss: 0.5168 - accuracy: 0.8775 - val_loss: 0.5366 - val_accuracy: 0.8663\n",
            "Epoch 10/20\n",
            "30/30 [==============================] - 1s 21ms/step - loss: 0.5158 - accuracy: 0.8760 - val_loss: 0.5305 - val_accuracy: 0.8682\n",
            "Epoch 11/20\n",
            "30/30 [==============================] - 1s 21ms/step - loss: 0.5096 - accuracy: 0.8761 - val_loss: 0.5253 - val_accuracy: 0.8687\n",
            "Epoch 12/20\n",
            "30/30 [==============================] - 1s 22ms/step - loss: 0.5036 - accuracy: 0.8815 - val_loss: 0.5255 - val_accuracy: 0.8684\n",
            "Epoch 13/20\n",
            "30/30 [==============================] - 1s 22ms/step - loss: 0.4960 - accuracy: 0.8840 - val_loss: 0.5264 - val_accuracy: 0.8682\n",
            "Epoch 14/20\n",
            "30/30 [==============================] - 1s 21ms/step - loss: 0.4947 - accuracy: 0.8843 - val_loss: 0.5353 - val_accuracy: 0.8606\n",
            "Epoch 15/20\n",
            "30/30 [==============================] - 1s 22ms/step - loss: 0.4930 - accuracy: 0.8831 - val_loss: 0.5152 - val_accuracy: 0.8722\n",
            "Epoch 16/20\n",
            "30/30 [==============================] - 1s 24ms/step - loss: 0.4811 - accuracy: 0.8908 - val_loss: 0.5158 - val_accuracy: 0.8724\n",
            "Epoch 17/20\n",
            "30/30 [==============================] - 1s 25ms/step - loss: 0.4851 - accuracy: 0.8881 - val_loss: 0.5115 - val_accuracy: 0.8719\n",
            "Epoch 18/20\n",
            "30/30 [==============================] - 1s 22ms/step - loss: 0.4719 - accuracy: 0.8922 - val_loss: 0.5096 - val_accuracy: 0.8720\n",
            "Epoch 19/20\n",
            "30/30 [==============================] - 1s 21ms/step - loss: 0.4779 - accuracy: 0.8889 - val_loss: 0.5115 - val_accuracy: 0.8721\n",
            "Epoch 20/20\n",
            "30/30 [==============================] - 1s 20ms/step - loss: 0.4735 - accuracy: 0.8905 - val_loss: 0.5530 - val_accuracy: 0.8538\n"
          ]
        }
      ],
      "source": [
        "model = keras.Sequential([\n",
        "    layers.Dense(16,\n",
        "                 kernel_regularizer=regularizers.l1(0.001), # l1규제의 삽입\n",
        "                 activation=\"relu\"),\n",
        "    layers.Dense(16,\n",
        "                 kernel_regularizer=regularizers.l1(0.001), # l1규제의 삽입\n",
        "                 activation=\"relu\"),\n",
        "    layers.Dense(1, activation=\"sigmoid\")\n",
        "])\n",
        "\n",
        "model.compile(optimizer=\"rmsprop\",\n",
        "              loss=\"binary_crossentropy\",\n",
        "              metrics=[\"accuracy\"])\n",
        "\n",
        "history_l1_reg = model.fit(\n",
        "    train_data, train_labels,\n",
        "    epochs=20, batch_size=512, validation_split=0.4)"
      ]
    },
    {
      "cell_type": "code",
      "execution_count": null,
      "metadata": {
        "scrolled": true,
        "colab": {
          "base_uri": "https://localhost:8080/"
        },
        "id": "PXveUd9BoxUP",
        "outputId": "644aa191-ce1b-454d-b50b-d3cb111f26ea"
      },
      "outputs": [
        {
          "output_type": "stream",
          "name": "stdout",
          "text": [
            "Epoch 1/20\n",
            "30/30 [==============================] - 2s 56ms/step - loss: 0.6066 - accuracy: 0.7974 - val_loss: 0.4899 - val_accuracy: 0.8668\n",
            "Epoch 2/20\n",
            "30/30 [==============================] - 1s 21ms/step - loss: 0.4224 - accuracy: 0.8928 - val_loss: 0.4032 - val_accuracy: 0.8824\n",
            "Epoch 3/20\n",
            "30/30 [==============================] - 1s 21ms/step - loss: 0.3518 - accuracy: 0.9093 - val_loss: 0.3726 - val_accuracy: 0.8870\n",
            "Epoch 4/20\n",
            "30/30 [==============================] - 1s 22ms/step - loss: 0.3135 - accuracy: 0.9202 - val_loss: 0.3805 - val_accuracy: 0.8767\n",
            "Epoch 5/20\n",
            "30/30 [==============================] - 1s 21ms/step - loss: 0.2938 - accuracy: 0.9258 - val_loss: 0.3757 - val_accuracy: 0.8780\n",
            "Epoch 6/20\n",
            "30/30 [==============================] - 1s 25ms/step - loss: 0.2793 - accuracy: 0.9312 - val_loss: 0.3612 - val_accuracy: 0.8855\n",
            "Epoch 7/20\n",
            "30/30 [==============================] - 1s 21ms/step - loss: 0.2642 - accuracy: 0.9386 - val_loss: 0.3837 - val_accuracy: 0.8748\n",
            "Epoch 8/20\n",
            "30/30 [==============================] - 1s 20ms/step - loss: 0.2571 - accuracy: 0.9404 - val_loss: 0.3640 - val_accuracy: 0.8834\n",
            "Epoch 9/20\n",
            "30/30 [==============================] - 1s 21ms/step - loss: 0.2497 - accuracy: 0.9425 - val_loss: 0.4326 - val_accuracy: 0.8567\n",
            "Epoch 10/20\n",
            "30/30 [==============================] - 1s 22ms/step - loss: 0.2485 - accuracy: 0.9447 - val_loss: 0.3931 - val_accuracy: 0.8762\n",
            "Epoch 11/20\n",
            "30/30 [==============================] - 1s 21ms/step - loss: 0.2368 - accuracy: 0.9486 - val_loss: 0.3736 - val_accuracy: 0.8789\n",
            "Epoch 12/20\n",
            "30/30 [==============================] - 1s 22ms/step - loss: 0.2335 - accuracy: 0.9485 - val_loss: 0.3839 - val_accuracy: 0.8792\n",
            "Epoch 13/20\n",
            "30/30 [==============================] - 1s 25ms/step - loss: 0.2324 - accuracy: 0.9481 - val_loss: 0.4077 - val_accuracy: 0.8747\n",
            "Epoch 14/20\n",
            "30/30 [==============================] - 1s 21ms/step - loss: 0.2242 - accuracy: 0.9525 - val_loss: 0.3990 - val_accuracy: 0.8737\n",
            "Epoch 15/20\n",
            "30/30 [==============================] - 1s 22ms/step - loss: 0.2267 - accuracy: 0.9495 - val_loss: 0.3891 - val_accuracy: 0.8794\n",
            "Epoch 16/20\n",
            "30/30 [==============================] - 1s 21ms/step - loss: 0.2189 - accuracy: 0.9545 - val_loss: 0.4042 - val_accuracy: 0.8751\n",
            "Epoch 17/20\n",
            "30/30 [==============================] - 1s 25ms/step - loss: 0.2143 - accuracy: 0.9566 - val_loss: 0.4087 - val_accuracy: 0.8761\n",
            "Epoch 18/20\n",
            "30/30 [==============================] - 1s 21ms/step - loss: 0.2191 - accuracy: 0.9521 - val_loss: 0.4013 - val_accuracy: 0.8758\n",
            "Epoch 19/20\n",
            "30/30 [==============================] - 1s 25ms/step - loss: 0.2100 - accuracy: 0.9565 - val_loss: 0.4075 - val_accuracy: 0.8753\n",
            "Epoch 20/20\n",
            "30/30 [==============================] - 1s 21ms/step - loss: 0.2083 - accuracy: 0.9576 - val_loss: 0.5188 - val_accuracy: 0.8407\n"
          ]
        }
      ],
      "source": [
        "model = keras.Sequential([\n",
        "    layers.Dense(16,\n",
        "                 kernel_regularizer=regularizers.l2(0.002), # l2규제의 삽입\n",
        "                 activation=\"relu\"),\n",
        "    layers.Dense(16,\n",
        "                 kernel_regularizer=regularizers.l2(0.002), # l2규제의 삽입\n",
        "                 activation=\"relu\"),\n",
        "    layers.Dense(1, activation=\"sigmoid\")\n",
        "])\n",
        "\n",
        "model.compile(optimizer=\"rmsprop\",\n",
        "              loss=\"binary_crossentropy\",\n",
        "              metrics=[\"accuracy\"])\n",
        "\n",
        "history_l2_reg = model.fit(\n",
        "    train_data, train_labels,\n",
        "    epochs=20, batch_size=512, validation_split=0.4)"
      ]
    },
    {
      "cell_type": "code",
      "execution_count": null,
      "metadata": {
        "colab": {
          "base_uri": "https://localhost:8080/",
          "height": 297
        },
        "id": "on3ndTmmoxUP",
        "outputId": "759a58bb-c618-4225-de9a-9966093e845a"
      },
      "outputs": [
        {
          "output_type": "execute_result",
          "data": {
            "text/plain": [
              "<matplotlib.legend.Legend at 0x7f4bd3755850>"
            ]
          },
          "metadata": {},
          "execution_count": 80
        },
        {
          "output_type": "display_data",
          "data": {
            "text/plain": [
              "<Figure size 432x288 with 1 Axes>"
            ],
            "image/png": "[encoded data removed]"
          },
          "metadata": {
            "needs_background": "light"
          }
        }
      ],
      "source": [
        "val_loss_original = history_original.history[\"val_loss\"]\n",
        "val_loss_l1 = history_l1_reg.history[\"val_loss\"]\n",
        "val_loss_l2 = history_l2_reg.history[\"val_loss\"]\n",
        "epochs = range(1, 21)\n",
        "\n",
        "plt.plot(epochs, val_loss_original, \"blue\",\n",
        "         label=\"Validation loss_original\")\n",
        "plt.plot(epochs, val_loss_l1, \"green\",\n",
        "         label=\"Validation loss_l1\")\n",
        "plt.plot(epochs, val_loss_l2, \"red\",\n",
        "         label=\"Validation loss_l2\")\n",
        "\n",
        "plt.xlabel(\"Epochs\")\n",
        "plt.ylabel(\"Loss\")\n",
        "plt.legend()"
      ]
    },
    {
      "cell_type": "markdown",
      "metadata": {
        "id": "KsxTuSFJoxUQ"
      },
      "source": [
        "l1, l2 regularization을 통해 overfitting을 prevent했음을 확인할 수 있다.\n",
        "\n",
        "그러나 l1, l2 regularization을 통해 validation loss는 더 증가해 lower performance를 보여주고 있다.\n",
        "\n",
        "경험적으로 딥러닝에서 l1, l2 regularization을 사용하는 것보다 dropout을 사용하는 것이 better performance를 보여준다."
      ]
    },
    {
      "cell_type": "markdown",
      "metadata": {
        "id": "4Jx-Q8aJoxUQ"
      },
      "source": [
        "## Adding dropout\n",
        "Randomly dropping out (setting to zero) a number of output features of the layer during training\n",
        "\n",
        "Drop out이 없다면 모델이 heavy node에만 집중해서 높은 weight를 부여할 수도 있다. 이 경우 몇 개의 노드로만 결과를 내므로 좋지 않은 결과를 가져온다.\n",
        "\n",
        "Keras의 dropout에서는 자동으로 train할 때만 dropout을 적용하고 test할 때는 dropout을 적용하지 않는다."
      ]
    },
    {
      "cell_type": "code",
      "execution_count": null,
      "metadata": {
        "colab": {
          "base_uri": "https://localhost:8080/"
        },
        "id": "rTzNVavjoxUR",
        "outputId": "12752bf2-da7b-454d-846f-beeb68666aac"
      },
      "outputs": [
        {
          "output_type": "stream",
          "name": "stdout",
          "text": [
            "Epoch 1/20\n",
            "30/30 [==============================] - 4s 109ms/step - loss: 0.6425 - accuracy: 0.6247 - val_loss: 0.5451 - val_accuracy: 0.8483\n",
            "Epoch 2/20\n",
            "30/30 [==============================] - 1s 21ms/step - loss: 0.5296 - accuracy: 0.7539 - val_loss: 0.4423 - val_accuracy: 0.8669\n",
            "Epoch 3/20\n",
            "30/30 [==============================] - 1s 21ms/step - loss: 0.4414 - accuracy: 0.8179 - val_loss: 0.3634 - val_accuracy: 0.8801\n",
            "Epoch 4/20\n",
            "30/30 [==============================] - 1s 21ms/step - loss: 0.3722 - accuracy: 0.8560 - val_loss: 0.3137 - val_accuracy: 0.8824\n",
            "Epoch 5/20\n",
            "30/30 [==============================] - 1s 22ms/step - loss: 0.3198 - accuracy: 0.8809 - val_loss: 0.2847 - val_accuracy: 0.8889\n",
            "Epoch 6/20\n",
            "30/30 [==============================] - 1s 22ms/step - loss: 0.2808 - accuracy: 0.9043 - val_loss: 0.2771 - val_accuracy: 0.8909\n",
            "Epoch 7/20\n",
            "30/30 [==============================] - 1s 25ms/step - loss: 0.2476 - accuracy: 0.9194 - val_loss: 0.2767 - val_accuracy: 0.8929\n",
            "Epoch 8/20\n",
            "30/30 [==============================] - 1s 22ms/step - loss: 0.2198 - accuracy: 0.9289 - val_loss: 0.2811 - val_accuracy: 0.8915\n",
            "Epoch 9/20\n",
            "30/30 [==============================] - 1s 22ms/step - loss: 0.1894 - accuracy: 0.9381 - val_loss: 0.2924 - val_accuracy: 0.8888\n",
            "Epoch 10/20\n",
            "30/30 [==============================] - 1s 21ms/step - loss: 0.1724 - accuracy: 0.9459 - val_loss: 0.3103 - val_accuracy: 0.8895\n",
            "Epoch 11/20\n",
            "30/30 [==============================] - 1s 21ms/step - loss: 0.1535 - accuracy: 0.9527 - val_loss: 0.3518 - val_accuracy: 0.8874\n",
            "Epoch 12/20\n",
            "30/30 [==============================] - 1s 21ms/step - loss: 0.1410 - accuracy: 0.9545 - val_loss: 0.3592 - val_accuracy: 0.8859\n",
            "Epoch 13/20\n",
            "30/30 [==============================] - 1s 21ms/step - loss: 0.1255 - accuracy: 0.9593 - val_loss: 0.3947 - val_accuracy: 0.8859\n",
            "Epoch 14/20\n",
            "30/30 [==============================] - 1s 21ms/step - loss: 0.1168 - accuracy: 0.9649 - val_loss: 0.4078 - val_accuracy: 0.8794\n",
            "Epoch 15/20\n",
            "30/30 [==============================] - 1s 22ms/step - loss: 0.1042 - accuracy: 0.9656 - val_loss: 0.4238 - val_accuracy: 0.8840\n",
            "Epoch 16/20\n",
            "30/30 [==============================] - 1s 22ms/step - loss: 0.0931 - accuracy: 0.9704 - val_loss: 0.4847 - val_accuracy: 0.8842\n",
            "Epoch 17/20\n",
            "30/30 [==============================] - 1s 21ms/step - loss: 0.0962 - accuracy: 0.9701 - val_loss: 0.4624 - val_accuracy: 0.8833\n",
            "Epoch 18/20\n",
            "30/30 [==============================] - 1s 21ms/step - loss: 0.0875 - accuracy: 0.9706 - val_loss: 0.5039 - val_accuracy: 0.8810\n",
            "Epoch 19/20\n",
            "30/30 [==============================] - 1s 25ms/step - loss: 0.0797 - accuracy: 0.9736 - val_loss: 0.5356 - val_accuracy: 0.8822\n",
            "Epoch 20/20\n",
            "30/30 [==============================] - 1s 25ms/step - loss: 0.0786 - accuracy: 0.9755 - val_loss: 0.5431 - val_accuracy: 0.8819\n"
          ]
        }
      ],
      "source": [
        "model = keras.Sequential([\n",
        "    layers.Dense(16, activation=\"relu\"),\n",
        "    layers.Dropout(0.5),\n",
        "    layers.Dense(16, activation=\"relu\"),\n",
        "    layers.Dropout(0.5),\n",
        "    layers.Dense(1, activation=\"sigmoid\")\n",
        "])\n",
        "\n",
        "model.compile(optimizer=\"rmsprop\",\n",
        "              loss=\"binary_crossentropy\",\n",
        "              metrics=[\"accuracy\"])\n",
        "\n",
        "history_dropout = model.fit(\n",
        "    train_data, train_labels,\n",
        "    epochs=20, batch_size=512, validation_split=0.4)"
      ]
    },
    {
      "cell_type": "code",
      "execution_count": null,
      "metadata": {
        "colab": {
          "base_uri": "https://localhost:8080/",
          "height": 297
        },
        "id": "kU5DaRAaoxUR",
        "outputId": "2181e64b-aa2f-4342-9f7f-363bfe56e147"
      },
      "outputs": [
        {
          "output_type": "execute_result",
          "data": {
            "text/plain": [
              "<matplotlib.legend.Legend at 0x7f4bce061bd0>"
            ]
          },
          "metadata": {},
          "execution_count": 82
        },
        {
          "output_type": "display_data",
          "data": {
            "text/plain": [
              "<Figure size 432x288 with 1 Axes>"
            ],
            "image/png": "[encoded data removed]"
          },
          "metadata": {
            "needs_background": "light"
          }
        }
      ],
      "source": [
        "val_loss_original = history_original.history[\"val_loss\"]\n",
        "val_loss_dropout = history_dropout.history[\"val_loss\"]\n",
        "epochs = range(1, 21)\n",
        "\n",
        "plt.plot(epochs, val_loss_original, \"blue\",\n",
        "         label=\"Validation loss_original\")\n",
        "plt.plot(epochs, val_loss_dropout, \"red\",\n",
        "         label=\"Validation loss_dropout\")\n",
        "\n",
        "plt.xlabel(\"Epochs\")\n",
        "plt.ylabel(\"Loss\")\n",
        "plt.legend()"
      ]
    },
    {
      "cell_type": "markdown",
      "metadata": {
        "id": "LJM0TmPKoxUR"
      },
      "source": [
        "dropout한 model이 더 좋은 결과를 보여주고 있다.\n",
        "\n",
        "validation loss가 작으며 overfitting도 늦게 되고 있다."
      ]
    },
    {
      "cell_type": "markdown",
      "metadata": {
        "id": "JJFt0n16oxUS"
      },
      "source": [
        "# Ch6. The universal workflow of machine learning"
      ]
    },
    {
      "cell_type": "markdown",
      "metadata": {
        "id": "WMTtWd6foxUS"
      },
      "source": [
        "1. Define a task\n",
        "\n",
        "2. Develop a model\n",
        "\n",
        "3. Deploy(배치하다) the model"
      ]
    },
    {
      "cell_type": "markdown",
      "metadata": {
        "id": "VzETTsF_oxUS"
      },
      "source": [
        "## 1. Define a task\n",
        "\n",
        "#### 1. Frame the problem\n",
        "\n",
        "* What will the input data? What we want to predict?\n",
        "* What type of machine learning task are you facing?\n",
        "* What do existing solutions look like?\n",
        "* Are there particular constraints you will need to deal with?\n",
        "\n",
        "#### 2. Collect a dataset:\n",
        "* Inputs and targets are decided, Time for data collection the most arduous(고된), time consuming part of most machine learning projects.\n",
        "\n",
        "* Beaware of non representative data. It’s critical that the data used for training should be representative of the production data\n",
        "\n",
        "#### 3. Understand your data\n",
        "* Before you start training models, you should explore and visualize your data to gain insights about what makes it predictive\n",
        "\n",
        "#### 4. Choose a measure of success\n",
        "* Define what you mean by success. Define the evaluation metric and business requirement for the solution"
      ]
    },
    {
      "cell_type": "markdown",
      "metadata": {
        "id": "4EVyFlzRoxUS"
      },
      "source": [
        "## 2. Develop a model\n",
        "\n",
        "Prepare the data\n",
        "\n",
        "Choose an evaluation protocol\n",
        "\n",
        "Beat a baseline(다른 model에서도 많이 사용되는 유명하고 쉬운 모델)\n",
        "\n",
        "Scale up: Develop a model that overfits\n",
        "\n",
        "Regularize and tune your model"
      ]
    },
    {
      "cell_type": "markdown",
      "metadata": {
        "id": "COr05er_oxUT"
      },
      "source": [
        "## 3. Deploy the model\n",
        "\n",
        "Explain your work to stakeholders(주주) and set expectations\n",
        "\n",
        "Ship an inference model\n",
        "\n",
        "Monitor your model in the wild\n",
        "\n",
        "Maintain your model"
      ]
    },
    {
      "cell_type": "markdown",
      "metadata": {
        "id": "zDWFDJwuoxUT"
      },
      "source": [
        "# Ch7. Working with Keras: A deep dive\n",
        "1. A spectrum of workflows\n",
        "2. Different ways to build Keras models\n",
        "3. Using built-in training and evaluation loops\n",
        "4. Writing your own training and evaluation loops"
      ]
    },
    {
      "cell_type": "markdown",
      "metadata": {
        "id": "o1IhpjruoxUT"
      },
      "source": [
        "## 1. A spectrum of workflows\n",
        "The design of the Keras API: make it easy to get started, yet make it possible to handle high complexity use cases, only requiring incremental learning at each step\n",
        "\n",
        "Simple use cases should be easy and approachable, and arbitrarily advanced workflows should be possible"
      ]
    },
    {
      "cell_type": "markdown",
      "metadata": {
        "id": "rAjMLhU_oxUT"
      },
      "source": [
        "## 2. 3 Different ways to build Keras models\n",
        "\n",
        "Three APIs for building models:\n",
        "\n",
        "* Sequential model : simple stacks of layers\n",
        "* Functional API : focuses on graph like model architectures\n",
        "* Model subclassing : a low level option where you write everything yourself."
      ]
    },
    {
      "cell_type": "markdown",
      "metadata": {
        "id": "sC_TTtVQoxUU"
      },
      "source": [
        "## The sequential model"
      ]
    },
    {
      "cell_type": "code",
      "execution_count": null,
      "metadata": {
        "id": "meDlqtTooxUU"
      },
      "outputs": [],
      "source": [
        "# model을 만드는 2가지 방법(결과는 동일)\n",
        "\n",
        "#layer의 list를 만드는 방법\n",
        "model = keras.Sequential([\n",
        "    layers.Dense(64, activation=\"relu\"),\n",
        "    layers.Dense(10, activation=\"softmax\")\n",
        "])\n",
        "\n",
        "\n",
        "#.add를 이용하는 방법\n",
        "model = keras.Sequential(name = \"my_example_model\") # model의 이름을 붙여줄 수 있다.\n",
        "model.add(layers.Dense(64, activation=\"relu\", name = \"my_first_layer\")) # layer의 이름을 붙여줄 수 있다.\n",
        "model.add(layers.Dense(10, activation=\"softmax\"))"
      ]
    },
    {
      "cell_type": "markdown",
      "metadata": {
        "id": "8h5ZOuqNoxUU"
      },
      "source": [
        "Sequential model does not have any weights until you actually call it on some data, or call its build() method with an input shape"
      ]
    },
    {
      "cell_type": "code",
      "execution_count": null,
      "metadata": {
        "colab": {
          "base_uri": "https://localhost:8080/"
        },
        "id": "gjaMwdVOoxUU",
        "outputId": "ca431149-0a72-4f5f-de9e-dae4f6d79170"
      },
      "outputs": [
        {
          "output_type": "stream",
          "name": "stdout",
          "text": [
            "4\n",
            "[<tf.Variable 'my_first_layer/kernel:0' shape=(3, 64) dtype=float32, numpy=\n",
            "array([[-0.21272065,  0.26392627, -0.25496376, -0.09774798,  0.17665488,\n",
            "        -0.28593454,  0.08608139, -0.2425164 , -0.20228687,  0.05694395,\n",
            "        -0.1334615 , -0.26475483, -0.29133373,  0.16018704,  0.01695064,\n",
            "         0.10185322, -0.07131925,  0.11687458, -0.24227539, -0.08386812,\n",
            "        -0.1811696 ,  0.05446762, -0.12766032, -0.2859822 ,  0.24592662,\n",
            "        -0.13564959,  0.07928926, -0.25910974, -0.223955  , -0.28712752,\n",
            "         0.023231  ,  0.12583247, -0.21603802, -0.15053166, -0.06911425,\n",
            "        -0.27561563, -0.28727758,  0.18741858,  0.133335  , -0.12708175,\n",
            "         0.19140604, -0.18015018,  0.22559828,  0.09808737, -0.26115748,\n",
            "         0.03779402,  0.2258538 , -0.27009276, -0.23908088, -0.10693218,\n",
            "         0.28111553, -0.17373292,  0.03077373,  0.14095014,  0.06655374,\n",
            "         0.20096272,  0.01328796,  0.04689488, -0.22135776,  0.01131678,\n",
            "        -0.20107019, -0.2255216 ,  0.29386735, -0.08814861],\n",
            "       [-0.07544598,  0.2452625 ,  0.08875129,  0.10761169, -0.11526148,\n",
            "        -0.01051718, -0.13320251, -0.02598494,  0.0320853 ,  0.10959613,\n",
            "         0.2746995 ,  0.1775142 ,  0.16738191,  0.09759614,  0.02337947,\n",
            "         0.00126627, -0.26334643,  0.27600962,  0.19394216, -0.18623477,\n",
            "         0.0307219 ,  0.05649909, -0.06473395,  0.19151676,  0.12067518,\n",
            "         0.08533481,  0.15032282, -0.13213144, -0.1538994 ,  0.25935435,\n",
            "         0.2257188 ,  0.21416467,  0.02143511,  0.05956689,  0.15551999,\n",
            "        -0.20552641, -0.06503825, -0.00389123, -0.1143481 ,  0.23647344,\n",
            "        -0.28880525,  0.02836445,  0.2180298 ,  0.13131416,  0.01168329,\n",
            "        -0.12054184, -0.17894384,  0.2110548 , -0.1446238 ,  0.10909614,\n",
            "        -0.00525454,  0.25923103, -0.08360471, -0.1907888 , -0.18238935,\n",
            "         0.08188209, -0.08529542, -0.16780737,  0.0292376 , -0.18029088,\n",
            "         0.06504375,  0.19757053,  0.03536734, -0.09757118],\n",
            "       [ 0.01205599,  0.17746195, -0.0365299 , -0.08883205,  0.10874689,\n",
            "         0.13422778, -0.02930096, -0.1398414 , -0.00432581,  0.1844112 ,\n",
            "         0.28472888,  0.26026607,  0.19726765,  0.23088491,  0.11808971,\n",
            "         0.08649436, -0.13462946, -0.19278276, -0.02000639, -0.25021443,\n",
            "        -0.2272417 ,  0.1485056 ,  0.09581903, -0.01323816, -0.2895016 ,\n",
            "         0.18005872,  0.07677653,  0.10949156,  0.02679816,  0.08230039,\n",
            "         0.27038014, -0.11070596, -0.2121413 ,  0.25141686,  0.04174608,\n",
            "        -0.12302922, -0.1374115 , -0.24263462, -0.10887276, -0.01556465,\n",
            "        -0.19642211,  0.00580469,  0.06793281,  0.12770128,  0.03793052,\n",
            "         0.06842262,  0.28648293,  0.24359763, -0.20298572,  0.0967676 ,\n",
            "        -0.20720235, -0.05468303, -0.12137781,  0.212013  ,  0.03951499,\n",
            "        -0.08261254,  0.23930585,  0.12088695,  0.2685421 ,  0.26611048,\n",
            "         0.25351077,  0.03178477,  0.04870525,  0.20385778]],\n",
            "      dtype=float32)>, <tf.Variable 'my_first_layer/bias:0' shape=(64,) dtype=float32, numpy=\n",
            "array([0., 0., 0., 0., 0., 0., 0., 0., 0., 0., 0., 0., 0., 0., 0., 0., 0.,\n",
            "       0., 0., 0., 0., 0., 0., 0., 0., 0., 0., 0., 0., 0., 0., 0., 0., 0.,\n",
            "       0., 0., 0., 0., 0., 0., 0., 0., 0., 0., 0., 0., 0., 0., 0., 0., 0.,\n",
            "       0., 0., 0., 0., 0., 0., 0., 0., 0., 0., 0., 0., 0.], dtype=float32)>, <tf.Variable 'dense_3/kernel:0' shape=(64, 10) dtype=float32, numpy=\n",
            "array([[ 0.00855654,  0.01839915, -0.11205268, -0.15914243,  0.24907699,\n",
            "        -0.0021022 , -0.10765475, -0.255328  , -0.21265993, -0.14473182],\n",
            "       [-0.1294168 , -0.10482004, -0.11544339, -0.0319179 ,  0.11185721,\n",
            "        -0.18925972,  0.22183004, -0.09784675, -0.09256701,  0.19832149],\n",
            "       [-0.19180468,  0.04338703,  0.09052777,  0.08203328,  0.2316775 ,\n",
            "         0.21359089,  0.1251463 ,  0.01407504, -0.05313915,  0.27646884],\n",
            "       [-0.28201777, -0.00814301,  0.11749724,  0.21496814,  0.01915592,\n",
            "         0.2019796 , -0.22864169, -0.1852426 , -0.04601263, -0.10057338],\n",
            "       [-0.1753591 ,  0.13223067, -0.1594178 ,  0.12654841,  0.10880539,\n",
            "         0.26011303, -0.19618413,  0.06949058,  0.19705203,  0.15850917],\n",
            "       [-0.09597166,  0.12521297,  0.05880266,  0.01816168,  0.06015384,\n",
            "        -0.06280316,  0.08143675, -0.25662583,  0.2840903 ,  0.20587069],\n",
            "       [ 0.18650213,  0.11661711,  0.04750925,  0.10431224, -0.2825493 ,\n",
            "         0.02685082, -0.26805022, -0.21754536, -0.10739033, -0.15329249],\n",
            "       [ 0.16479358, -0.21052332,  0.11262167, -0.24483493,  0.09448346,\n",
            "         0.1526587 ,  0.07310465, -0.00409397, -0.13238022,  0.0923622 ],\n",
            "       [-0.03912862, -0.15977651,  0.21503171,  0.08840141, -0.26343784,\n",
            "         0.21654072,  0.17953956, -0.18735333, -0.16203308,  0.22381762],\n",
            "       [ 0.04567644, -0.22327948,  0.21088836,  0.25258937,  0.05480406,\n",
            "         0.20920715, -0.16129309,  0.26097956, -0.05771528, -0.26460803],\n",
            "       [ 0.16858736, -0.20806661,  0.1025905 ,  0.28216138,  0.02697116,\n",
            "         0.10995531,  0.13828841, -0.21093921, -0.2800456 ,  0.15266901],\n",
            "       [ 0.06689706, -0.15238394,  0.12877965,  0.08769727,  0.22282502,\n",
            "        -0.02785075, -0.03250101,  0.21216393,  0.18686926,  0.17388365],\n",
            "       [ 0.05115679,  0.10140902,  0.2594863 ,  0.1997625 ,  0.0577924 ,\n",
            "         0.04349259,  0.26135948, -0.17006484,  0.28306165, -0.19439146],\n",
            "       [-0.26204202, -0.03287855, -0.04443651, -0.03854802,  0.11579838,\n",
            "         0.05510733, -0.11083271, -0.07717215, -0.08841336, -0.18551415],\n",
            "       [ 0.0719212 , -0.1336027 , -0.24016376, -0.09592752, -0.05934475,\n",
            "        -0.03101525,  0.11026183,  0.0137977 , -0.07224986, -0.15405142],\n",
            "       [ 0.06615743, -0.21557868,  0.14152142,  0.22315952, -0.00272793,\n",
            "         0.2309145 ,  0.25175968,  0.02303624,  0.22908583,  0.20830858],\n",
            "       [-0.19243638,  0.1643253 , -0.01904002, -0.12678249,  0.10320008,\n",
            "        -0.1880386 , -0.11156774, -0.09129892,  0.26190487,  0.05264682],\n",
            "       [-0.22523713, -0.13899805,  0.0862627 , -0.19468391, -0.05621195,\n",
            "        -0.24827915,  0.2457858 ,  0.09937453,  0.13560984, -0.08905566],\n",
            "       [-0.13187335, -0.09854418,  0.02383253, -0.06941529,  0.06282434,\n",
            "        -0.10285445,  0.0120973 ,  0.15794867,  0.13272047,  0.2540759 ],\n",
            "       [-0.06518382,  0.04881054,  0.19880357, -0.00307497,  0.15438443,\n",
            "        -0.09756161,  0.16407633, -0.23720929,  0.01752082, -0.17184827],\n",
            "       [-0.12017825, -0.24411783, -0.15671085, -0.10398318, -0.15778193,\n",
            "        -0.01301849,  0.24570206, -0.08023185,  0.09654483, -0.06914516],\n",
            "       [-0.21600883, -0.05963579, -0.23959899,  0.07189521,  0.08885884,\n",
            "         0.0756464 ,  0.07531554,  0.04543233, -0.12526938,  0.27131626],\n",
            "       [ 0.00233144, -0.17795938, -0.26210773, -0.1762088 , -0.20839758,\n",
            "         0.17027134,  0.00099072, -0.02025402, -0.25123906, -0.2525615 ],\n",
            "       [ 0.28101876, -0.27575475,  0.04042929,  0.22249517, -0.06170967,\n",
            "         0.14322054, -0.15800563,  0.1492827 ,  0.27580097,  0.16535422],\n",
            "       [-0.2470697 ,  0.0809975 , -0.2143985 , -0.17780438, -0.27847484,\n",
            "        -0.00289586,  0.09288296,  0.28449294,  0.1840047 ,  0.20612723],\n",
            "       [ 0.2534075 , -0.0763513 ,  0.24502406,  0.08715469,  0.23963413,\n",
            "        -0.23528796,  0.03993648,  0.25203326, -0.13742995,  0.15476197],\n",
            "       [-0.2563551 ,  0.05960917,  0.04594487, -0.19650647, -0.1768223 ,\n",
            "         0.26212218, -0.03983955, -0.12132923, -0.27098593, -0.2259799 ],\n",
            "       [ 0.03954634, -0.15606177,  0.2181389 , -0.16539976,  0.0292843 ,\n",
            "         0.13994029,  0.05175924,  0.03385594, -0.12184106, -0.23564947],\n",
            "       [-0.19770098,  0.06416833,  0.00203404,  0.20981842,  0.18911546,\n",
            "        -0.01853371, -0.17292255,  0.25217286,  0.21921137,  0.02773505],\n",
            "       [-0.20526621, -0.23218177, -0.05869906,  0.06597379,  0.09327754,\n",
            "         0.23922107,  0.195589  , -0.25678897,  0.04273596, -0.230328  ],\n",
            "       [-0.25003353,  0.01803684,  0.07507172, -0.22885771, -0.17614436,\n",
            "         0.16141808, -0.03776513,  0.18337429, -0.12079278,  0.15776938],\n",
            "       [-0.00697017,  0.07438388, -0.2772305 , -0.01908803, -0.1924023 ,\n",
            "         0.2735063 , -0.21357888,  0.09122437,  0.13857076, -0.17314944],\n",
            "       [ 0.17584857, -0.1402159 , -0.11739215, -0.07922192, -0.21745975,\n",
            "         0.11082396, -0.17517897, -0.04156677,  0.22207835,  0.11220494],\n",
            "       [ 0.06993586, -0.12026548, -0.09997527,  0.07152963, -0.2048389 ,\n",
            "         0.06725818,  0.12524155, -0.07078353,  0.16967806,  0.02072367],\n",
            "       [ 0.08386385, -0.06771229, -0.06242122, -0.11503117,  0.15156892,\n",
            "        -0.24875274,  0.0169948 , -0.2755112 , -0.26431143, -0.04136305],\n",
            "       [-0.18231705, -0.01706642, -0.15134537,  0.03530306,  0.1582954 ,\n",
            "         0.07819048,  0.20825249,  0.11443722, -0.01012069,  0.08995676],\n",
            "       [ 0.02623993, -0.1695258 , -0.09723222, -0.09900738, -0.08100592,\n",
            "         0.2540066 ,  0.0286299 , -0.19050196,  0.17792958, -0.14542525],\n",
            "       [ 0.24250725,  0.25495085, -0.2458342 ,  0.08302513, -0.21775147,\n",
            "         0.18327984, -0.26259023,  0.17680907, -0.19592005,  0.16196355],\n",
            "       [-0.11885421,  0.19813079, -0.2377135 , -0.20092706, -0.1185312 ,\n",
            "         0.11715609,  0.08209899, -0.03462276, -0.25790983,  0.17659542],\n",
            "       [-0.00364727, -0.04761624,  0.10688937, -0.12435132, -0.2732449 ,\n",
            "         0.12057412, -0.2517165 , -0.12195145,  0.0644342 ,  0.20949638],\n",
            "       [ 0.2690355 , -0.28090778,  0.03775081, -0.22667536,  0.1707241 ,\n",
            "        -0.14786103, -0.02294597,  0.2744157 , -0.2815422 ,  0.17925173],\n",
            "       [-0.21810919, -0.07854439,  0.19216388, -0.09535101, -0.04875168,\n",
            "         0.03035021,  0.19228405, -0.274229  ,  0.19037929,  0.00647187],\n",
            "       [ 0.14629096, -0.27988654,  0.03084967, -0.11434366,  0.27065763,\n",
            "        -0.0664932 , -0.03256667, -0.13871162, -0.08543731, -0.14792064],\n",
            "       [-0.26109585, -0.10590206, -0.03304195, -0.14881311, -0.10891776,\n",
            "         0.24314764, -0.06585342,  0.04242   ,  0.14726064,  0.08859327],\n",
            "       [ 0.2075893 , -0.00203967, -0.21611542, -0.0109309 , -0.21790986,\n",
            "         0.00845456,  0.28050485, -0.23494811,  0.11972979, -0.10381725],\n",
            "       [ 0.24830785,  0.03396383, -0.09627287,  0.23992571,  0.07944217,\n",
            "         0.0691888 , -0.08124781,  0.08688137, -0.01303634,  0.09176776],\n",
            "       [-0.13815221, -0.28082523,  0.0274305 , -0.08062689, -0.18921146,\n",
            "        -0.07013226, -0.04902773, -0.12702465,  0.01066896,  0.17027631],\n",
            "       [ 0.15526679,  0.02581692, -0.14471954, -0.06539816,  0.24942967,\n",
            "         0.01804715,  0.15722233,  0.16146144,  0.13260636,  0.11751536],\n",
            "       [-0.07132086,  0.12230808,  0.16957515,  0.23995015, -0.1789433 ,\n",
            "        -0.0724815 , -0.14885534, -0.1470704 ,  0.11043087, -0.17725646],\n",
            "       [ 0.281302  ,  0.25702885,  0.20412537, -0.25384286, -0.13378987,\n",
            "        -0.05177085,  0.19879189,  0.2543063 , -0.20331445,  0.24951163],\n",
            "       [ 0.0858849 ,  0.24515149, -0.0580869 , -0.13598378,  0.24412403,\n",
            "        -0.1737009 ,  0.28038272,  0.22734699, -0.21499851, -0.13177282],\n",
            "       [ 0.10308322, -0.12777938,  0.2255769 ,  0.04602188,  0.17497158,\n",
            "         0.17753664, -0.20025647, -0.22281457, -0.04746811, -0.25349927],\n",
            "       [-0.16306886, -0.2246393 , -0.09721497,  0.16349202, -0.13623741,\n",
            "        -0.24456052, -0.17596596, -0.22466639, -0.23685145,  0.1774289 ],\n",
            "       [-0.23303032,  0.15950042,  0.09933311,  0.05577162,  0.25021496,\n",
            "        -0.12229103, -0.26421693,  0.15430725, -0.09979069, -0.01650921],\n",
            "       [ 0.16242474,  0.02506024,  0.10945421, -0.14122176, -0.2077415 ,\n",
            "        -0.04770422, -0.23610087,  0.03403571, -0.01722711, -0.25853956],\n",
            "       [ 0.01375142, -0.21301696, -0.24848445, -0.10263489,  0.24432436,\n",
            "         0.02637273,  0.08920324, -0.06954923, -0.11453056, -0.07566759],\n",
            "       [ 0.2685599 , -0.03319803, -0.07259813, -0.00551367,  0.23951778,\n",
            "         0.09101161, -0.18055356, -0.11068389, -0.04760619, -0.1550788 ],\n",
            "       [-0.02255276, -0.13213609,  0.25226805,  0.25961468,  0.28461584,\n",
            "         0.2415885 , -0.01668748,  0.23111382,  0.27701488, -0.24370214],\n",
            "       [-0.09856203, -0.16735938, -0.00303683, -0.10969177, -0.23516175,\n",
            "        -0.22542416, -0.09574924, -0.10155621,  0.22233984, -0.18319023],\n",
            "       [-0.2607972 , -0.13041341, -0.19371617,  0.05181634, -0.24431483,\n",
            "         0.168509  ,  0.2295725 ,  0.04839471, -0.0779869 ,  0.16236845],\n",
            "       [ 0.23129591,  0.20350197,  0.13713598,  0.12103868, -0.0292646 ,\n",
            "         0.10906318,  0.03478283, -0.08406316,  0.04485735, -0.08686522],\n",
            "       [-0.154805  , -0.11780322, -0.08580221, -0.1885342 , -0.16094515,\n",
            "         0.20956704, -0.03282246, -0.13660659,  0.05017436,  0.10101268],\n",
            "       [-0.27783698, -0.01155233, -0.22788697,  0.05057946, -0.12945496,\n",
            "         0.25953367,  0.11321968, -0.0169079 , -0.27267075, -0.2198633 ],\n",
            "       [-0.05359013, -0.09041426,  0.13232583, -0.04912542, -0.18800926,\n",
            "        -0.05768079,  0.20930424, -0.11122544,  0.21055081,  0.13536382]],\n",
            "      dtype=float32)>, <tf.Variable 'dense_3/bias:0' shape=(10,) dtype=float32, numpy=array([0., 0., 0., 0., 0., 0., 0., 0., 0., 0.], dtype=float32)>]\n"
          ]
        }
      ],
      "source": [
        "model.build(input_shape=(None, 3))\n",
        "print(len(model.weights)) # 2개의 dense layer, 1개의 layer에는 2개의 weight\n",
        "print(model.weights)\n",
        "\n",
        "# weights를 불러오려면 데이터를 불러오거나 build()해야한다.\n",
        "# 그냥 weights를 불러오면 오류 발생\n",
        "# data의 input_shape를 정해주지 않으면 weight size를 계산할 수 없기 때문이다."
      ]
    },
    {
      "cell_type": "code",
      "execution_count": null,
      "metadata": {
        "colab": {
          "base_uri": "https://localhost:8080/"
        },
        "id": "j_nMThdPoxUV",
        "outputId": "6090824d-45d4-46a6-a798-59010d3b4de5"
      },
      "outputs": [
        {
          "output_type": "stream",
          "name": "stdout",
          "text": [
            "Model: \"my_example_model\"\n",
            "_________________________________________________________________\n",
            " Layer (type)                Output Shape              Param #   \n",
            "=================================================================\n",
            " my_first_layer (Dense)      (None, 64)                256       \n",
            "                                                                 \n",
            " dense_70 (Dense)            (None, 10)                650       \n",
            "                                                                 \n",
            "=================================================================\n",
            "Total params: 906\n",
            "Trainable params: 906\n",
            "Non-trainable params: 0\n",
            "_________________________________________________________________\n"
          ]
        }
      ],
      "source": [
        "# 모델이 build된 후에 summary를 불러올 수 있음\n",
        "model.summary()"
      ]
    },
    {
      "cell_type": "markdown",
      "metadata": {
        "id": "GZtjQ3qXoxUV"
      },
      "source": [
        "256 = 3x64 + 64 \n",
        "\n",
        "(input shape를 3으로 정해줬으니까, 3x64개의 w1과 64개의 b1 따라서 총 256개의 parameter)\n",
        "\n",
        "650 = 64x10 + 10\n",
        "\n",
        "(output shape이 64였으니까 w2는 64x10)"
      ]
    },
    {
      "cell_type": "markdown",
      "metadata": {
        "id": "ylzsT91ToxUV"
      },
      "source": [
        "If you'd like to print summary(), declare the shape of the model's inputs in advance"
      ]
    },
    {
      "cell_type": "code",
      "execution_count": null,
      "metadata": {
        "colab": {
          "base_uri": "https://localhost:8080/"
        },
        "id": "0v74_Fk7oxUW",
        "outputId": "80cc1fa8-bf0b-4250-f11f-980f12fbc443"
      },
      "outputs": [
        {
          "output_type": "stream",
          "name": "stdout",
          "text": [
            "Model: \"sequential\"\n",
            "_________________________________________________________________\n",
            " Layer (type)                Output Shape              Param #   \n",
            "=================================================================\n",
            " dense (Dense)               (None, 64)                256       \n",
            "                                                                 \n",
            "=================================================================\n",
            "Total params: 256\n",
            "Trainable params: 256\n",
            "Non-trainable params: 0\n",
            "_________________________________________________________________\n"
          ]
        }
      ],
      "source": [
        "model = keras.Sequential()\n",
        "model.add(keras.Input(shape=(3,)))\n",
        "# summary를 만들기 위해서는 여기서 build한 후 input shape도 정해줘야한다.\n",
        "model.add(layers.Dense(64, activation=\"relu\"))\n",
        "\n",
        "model.summary()"
      ]
    },
    {
      "cell_type": "markdown",
      "metadata": {
        "id": "xFiK3HfsoxUX"
      },
      "source": [
        "## The Functional API\n",
        "\n",
        "Sequential model only express models with single input and single output\n",
        "\n",
        "Functional API provide more power to define general model"
      ]
    },
    {
      "cell_type": "markdown",
      "metadata": {
        "id": "DFW4U88LoxUX"
      },
      "source": [
        "### A simple functional model with two Dense layers"
      ]
    },
    {
      "cell_type": "code",
      "execution_count": null,
      "metadata": {
        "id": "zja6_jruoxUX"
      },
      "outputs": [],
      "source": [
        "inputs = keras.Input(shape=(3,), name=\"my_input\")\n",
        "# inputs object holds information about the shape and dtype of the data\n",
        "# 여기서 inputs는 symbolic tensor\n",
        "\n",
        "features = layers.Dense(64, activation=\"relu\")(inputs)\n",
        "# features 또한 new symbolic tensor\n",
        "# inputs를 dense layer에 넣고 이 dense layer의 output size는 \n",
        "\n",
        "outputs = layers.Dense(10, activation=\"softmax\")(features)\n",
        "# outputs 또한 new symbolic tensor\n",
        "\n",
        "\n",
        "model = keras.Model(inputs=inputs, outputs=outputs)\n",
        "#After obtaining the final outputs, we instantiated the model by specifying its inputs and outputs in the Model constructor"
      ]
    },
    {
      "cell_type": "code",
      "source": [
        "inputs.shape"
      ],
      "metadata": {
        "id": "yysQob3u2cue",
        "outputId": "10b15d29-ad91-412a-8878-18a680205507",
        "colab": {
          "base_uri": "https://localhost:8080/"
        }
      },
      "execution_count": null,
      "outputs": [
        {
          "output_type": "execute_result",
          "data": {
            "text/plain": [
              "TensorShape([None, 3])"
            ]
          },
          "metadata": {},
          "execution_count": 25
        }
      ]
    },
    {
      "cell_type": "code",
      "source": [
        "inputs.dtype"
      ],
      "metadata": {
        "id": "zVO5hSSb2e0L",
        "outputId": "4c59bdb8-0ee1-42c3-bd14-6cb2ae1aee08",
        "colab": {
          "base_uri": "https://localhost:8080/"
        }
      },
      "execution_count": null,
      "outputs": [
        {
          "output_type": "execute_result",
          "data": {
            "text/plain": [
              "tf.float32"
            ]
          },
          "metadata": {},
          "execution_count": 26
        }
      ]
    },
    {
      "cell_type": "code",
      "source": [
        "features.shape"
      ],
      "metadata": {
        "id": "mwbcm5rP37ZG",
        "outputId": "d012a1d2-41e6-42a1-e2ae-b22e74641b02",
        "colab": {
          "base_uri": "https://localhost:8080/"
        }
      },
      "execution_count": null,
      "outputs": [
        {
          "output_type": "execute_result",
          "data": {
            "text/plain": [
              "TensorShape([None, 64])"
            ]
          },
          "metadata": {},
          "execution_count": 27
        }
      ]
    },
    {
      "cell_type": "code",
      "source": [
        "model.summary()"
      ],
      "metadata": {
        "id": "B3WMCj9O4A_x",
        "outputId": "71e8252e-80b6-4d55-aab7-42f5098680c3",
        "colab": {
          "base_uri": "https://localhost:8080/"
        }
      },
      "execution_count": null,
      "outputs": [
        {
          "output_type": "stream",
          "name": "stdout",
          "text": [
            "Model: \"model_3\"\n",
            "_________________________________________________________________\n",
            " Layer (type)                Output Shape              Param #   \n",
            "=================================================================\n",
            " my_input (InputLayer)       [(None, 3)]               0         \n",
            "                                                                 \n",
            " dense_8 (Dense)             (None, 64)                256       \n",
            "                                                                 \n",
            " dense_9 (Dense)             (None, 10)                650       \n",
            "                                                                 \n",
            "=================================================================\n",
            "Total params: 906\n",
            "Trainable params: 906\n",
            "Non-trainable params: 0\n",
            "_________________________________________________________________\n"
          ]
        }
      ]
    },
    {
      "cell_type": "markdown",
      "metadata": {
        "id": "Ibwrn956oxUY"
      },
      "source": [
        "We call such an object(위 코드에서 inputs) a symbolic tensor.\n",
        "\n",
        "It doesn’t contain any actual data,\n",
        "\n",
        "but it encodes the specifications of the actual tensors of data that the model will see when you use it.\n",
        "\n",
        "All Keras layers can be called both on real tensors of data and on these symbolic tensors.\n",
        "\n",
        "Symbolic tenseor return a new symbolic tensor, with updated shape and dtype information (symbolic tensor가 input이라면 새로운 symbolic tensor를 return한다.)\n",
        "\n",
        "After obtaining the final outputs, we instantiated the model by specifying its\n",
        "inputs and outputs in the Model constructor\n",
        "\n"
      ]
    },
    {
      "cell_type": "markdown",
      "metadata": {
        "id": "yUF_IhIboxUY"
      },
      "source": [
        "### Multi input, Multi output model"
      ]
    },
    {
      "cell_type": "markdown",
      "source": [
        "\n",
        "Most deep learning models look like graphs.\n",
        "\n",
        "Sequential model로는 만들 수 없다."
      ],
      "metadata": {
        "id": "lTc1FpqQwWzK"
      }
    },
    {
      "cell_type": "markdown",
      "metadata": {
        "id": "nyTjI3agoxUZ"
      },
      "source": [
        "#### model"
      ]
    },
    {
      "cell_type": "markdown",
      "metadata": {
        "id": "gNUcllc_oxUa"
      },
      "source": [
        "input layer : title, text_body, tags\n",
        "\n",
        "output layer : priority, department"
      ]
    },
    {
      "cell_type": "code",
      "execution_count": null,
      "metadata": {
        "id": "_LrTBIuCoxUa"
      },
      "outputs": [],
      "source": [
        "vocabulary_size = 10000\n",
        "num_tags = 100\n",
        "num_departments = 4\n",
        "\n",
        "# 3 input layers\n",
        "title = keras.Input(shape=(vocabulary_size,), name=\"title\")\n",
        "text_body = keras.Input(shape=(vocabulary_size,), name=\"text_body\")\n",
        "tags = keras.Input(shape=(num_tags,), name=\"tags\")\n",
        "\n",
        "features = layers.Concatenate()([title, text_body, tags])\n",
        "# Concatenate : combine input features into a single tensor, single features\n",
        "\n",
        "# 1 dense layer\n",
        "features = layers.Dense(64, activation=\"relu\")(features)\n",
        "\n",
        "# 2 output layers\n",
        "priority = layers.Dense(1, activation=\"sigmoid\", name=\"priority\")(features)\n",
        "department = layers.Dense(num_departments, activation=\"softmax\", name=\"department\")(features)\n",
        "\n",
        "model = keras.Model(inputs=[title, text_body, tags], outputs=[priority, department])"
      ]
    },
    {
      "cell_type": "code",
      "execution_count": null,
      "metadata": {
        "colab": {
          "base_uri": "https://localhost:8080/"
        },
        "id": "tuIS0kFaoxUc",
        "outputId": "88a5ceec-b35a-40f6-dafd-9ea96650054b"
      },
      "outputs": [
        {
          "output_type": "stream",
          "name": "stdout",
          "text": [
            "Model: \"model_4\"\n",
            "__________________________________________________________________________________________________\n",
            " Layer (type)                   Output Shape         Param #     Connected to                     \n",
            "==================================================================================================\n",
            " title (InputLayer)             [(None, 10000)]      0           []                               \n",
            "                                                                                                  \n",
            " text_body (InputLayer)         [(None, 10000)]      0           []                               \n",
            "                                                                                                  \n",
            " tags (InputLayer)              [(None, 100)]        0           []                               \n",
            "                                                                                                  \n",
            " concatenate_1 (Concatenate)    (None, 20100)        0           ['title[0][0]',                  \n",
            "                                                                  'text_body[0][0]',              \n",
            "                                                                  'tags[0][0]']                   \n",
            "                                                                                                  \n",
            " dense_10 (Dense)               (None, 64)           1286464     ['concatenate_1[0][0]']          \n",
            "                                                                                                  \n",
            " priority (Dense)               (None, 1)            65          ['dense_10[0][0]']               \n",
            "                                                                                                  \n",
            " department (Dense)             (None, 4)            260         ['dense_10[0][0]']               \n",
            "                                                                                                  \n",
            "==================================================================================================\n",
            "Total params: 1,286,789\n",
            "Trainable params: 1,286,789\n",
            "Non-trainable params: 0\n",
            "__________________________________________________________________________________________________\n"
          ]
        }
      ],
      "source": [
        "model.summary()"
      ]
    },
    {
      "cell_type": "markdown",
      "metadata": {
        "id": "Uxx-cR-doxUe"
      },
      "source": [
        "#### training"
      ]
    },
    {
      "cell_type": "code",
      "execution_count": null,
      "metadata": {
        "colab": {
          "base_uri": "https://localhost:8080/"
        },
        "id": "KSPg_kDJoxUf",
        "outputId": "9d493be9-b724-4bd7-93ec-216bdf2943ae"
      },
      "outputs": [
        {
          "output_type": "stream",
          "name": "stdout",
          "text": [
            "40/40 [==============================] - 1s 7ms/step - loss: 35.5863 - priority_loss: 0.3368 - department_loss: 35.2495 - priority_mean_absolute_error: 0.5057 - department_accuracy: 0.1836\n",
            "40/40 [==============================] - 0s 5ms/step - loss: 36.5099 - priority_loss: 0.3399 - department_loss: 36.1700 - priority_mean_absolute_error: 0.5073 - department_accuracy: 0.0594\n"
          ]
        }
      ],
      "source": [
        "num_samples = 1280\n",
        "\n",
        "# dummy input data\n",
        "title_data = np.random.randint(0, 2, size=(num_samples, vocabulary_size))\n",
        "text_body_data = np.random.randint(0, 2, size=(num_samples, vocabulary_size))\n",
        "tags_data = np.random.randint(0, 2, size=(num_samples, num_tags))\n",
        "\n",
        "# dummy target data\n",
        "priority_data = np.random.random(size=(num_samples, 1))\n",
        "department_data = np.random.randint(0, 2, size=(num_samples, num_departments))\n",
        "\n",
        "model.compile(optimizer=\"rmsprop\",\n",
        "              loss=[\"mean_squared_error\", \"categorical_crossentropy\"],\n",
        "              metrics=[[\"mean_absolute_error\"], [\"accuracy\"]])\n",
        "# 2개의 output이 있으므로 2개의 loss fuction이 필요하다\n",
        "\n",
        "# training\n",
        "model.fit([title_data, text_body_data, tags_data],\n",
        "          [priority_data, department_data],\n",
        "          epochs=1)\n",
        "# 3개의 training data, 2개의 target data\n",
        "\n",
        "# evaluation\n",
        "model.evaluate([title_data, text_body_data, tags_data],\n",
        "               [priority_data, department_data])\n",
        "\n",
        "# prediction on new data\n",
        "priority_preds, department_preds = model.predict([title_data, text_body_data, tags_data])"
      ]
    },
    {
      "cell_type": "markdown",
      "metadata": {
        "id": "f330Oyz8oxUf"
      },
      "source": [
        "You can also leverage the names you gave to the input objects and the output layers, and pass data via dictionaries.\n",
        "\n",
        "변수에 딕셔너리로 저장하고 compile할 때 딕셔너리만 쓰면 되므로 편하다."
      ]
    },
    {
      "cell_type": "code",
      "execution_count": null,
      "metadata": {
        "colab": {
          "base_uri": "https://localhost:8080/"
        },
        "id": "FNsvRFQDoxUf",
        "outputId": "f96c99b8-4e89-4a34-a4ee-170b26a501bd"
      },
      "outputs": [
        {
          "output_type": "stream",
          "name": "stdout",
          "text": [
            "40/40 [==============================] - 1s 7ms/step - loss: 44.9165 - priority_loss: 0.3399 - department_loss: 44.5766 - priority_mean_absolute_error: 0.5073 - department_accuracy: 0.2305\n",
            "40/40 [==============================] - 0s 6ms/step - loss: 15.8500 - priority_loss: 0.3399 - department_loss: 15.5101 - priority_mean_absolute_error: 0.5073 - department_accuracy: 0.1281\n"
          ]
        }
      ],
      "source": [
        "model.compile(optimizer=\"rmsprop\",\n",
        "              loss={\"priority\": \"mean_squared_error\", \"department\": \"categorical_crossentropy\"},\n",
        "              metrics={\"priority\": [\"mean_absolute_error\"], \"department\": [\"accuracy\"]})\n",
        "\n",
        "model.fit({\"title\": title_data, \"text_body\": text_body_data, \"tags\": tags_data},\n",
        "          {\"priority\": priority_data, \"department\": department_data},\n",
        "          epochs=1)\n",
        "\n",
        "model.evaluate({\"title\": title_data, \"text_body\": text_body_data, \"tags\": tags_data},\n",
        "               {\"priority\": priority_data, \"department\": department_data})\n",
        "\n",
        "priority_preds, department_preds = model.predict(\n",
        "    {\"title\": title_data, \"text_body\": text_body_data, \"tags\": tags_data})"
      ]
    },
    {
      "cell_type": "markdown",
      "source": [
        "### The Power of the functional API: Access to layer connectivity"
      ],
      "metadata": {
        "id": "3DDR9AQ7zU80"
      }
    },
    {
      "cell_type": "markdown",
      "metadata": {
        "id": "qz_DchDaoxUg"
      },
      "source": [
        " \n",
        "A Functional model is an explicit graph data structure.\n",
        "\n",
        "This makes it possible to inspect how layers are connected and reuse previous graph nodes as part of new models."
      ]
    },
    {
      "cell_type": "code",
      "source": [
        "keras.utils.plot_model(model, \"ticket_classifier.png\")"
      ],
      "metadata": {
        "id": "CavayOXU0lrz",
        "outputId": "d4903ee8-a60d-43c0-9c12-a590158de98d",
        "colab": {
          "base_uri": "https://localhost:8080/",
          "height": 369
        }
      },
      "execution_count": null,
      "outputs": [
        {
          "output_type": "execute_result",
          "data": {
            "text/plain": [
              "<IPython.core.display.Image object>"
            ],
            "image/png": "[encoded data removed]"
          },
          "metadata": {},
          "execution_count": 17
        }
      ]
    },
    {
      "cell_type": "code",
      "execution_count": null,
      "metadata": {
        "colab": {
          "base_uri": "https://localhost:8080/",
          "height": 410
        },
        "id": "dfRw04PSoxUg",
        "outputId": "04a36597-9c2d-431d-d432-3c9e2e9d9a59"
      },
      "outputs": [
        {
          "output_type": "execute_result",
          "data": {
            "text/plain": [
              "<IPython.core.display.Image object>"
            ],
            "image/png": "[encoded data removed]"
          },
          "metadata": {},
          "execution_count": 92
        }
      ],
      "source": [
        "keras.utils.plot_model(model, \"ticket_classifier.png\", show_shapes = True)\n",
        "# show_shapes = True : shape에 관한 정보를 보여줌"
      ]
    },
    {
      "cell_type": "markdown",
      "metadata": {
        "id": "-dey9iHnoxUg"
      },
      "source": [
        "Access to layer connectivity also means that you can inspect and reuse individual nodes (layer calls) in the graph."
      ]
    },
    {
      "cell_type": "code",
      "execution_count": null,
      "metadata": {
        "colab": {
          "base_uri": "https://localhost:8080/"
        },
        "id": "3VlKGXAmoxUh",
        "outputId": "5da30f41-7ba6-4b39-deff-266047ff25e0"
      },
      "outputs": [
        {
          "output_type": "execute_result",
          "data": {
            "text/plain": [
              "[<keras.engine.input_layer.InputLayer at 0x7f4bd8b39e10>,\n",
              " <keras.engine.input_layer.InputLayer at 0x7f4bd8b39e50>,\n",
              " <keras.engine.input_layer.InputLayer at 0x7f4bd36158d0>,\n",
              " <keras.layers.merge.Concatenate at 0x7f4bd3615b10>,\n",
              " <keras.layers.core.dense.Dense at 0x7f4bdd18eb90>,\n",
              " <keras.layers.core.dense.Dense at 0x7f4bdac79850>,\n",
              " <keras.layers.core.dense.Dense at 0x7f4bd2b7da50>]"
            ]
          },
          "metadata": {},
          "execution_count": 93
        }
      ],
      "source": [
        "model.layers"
      ]
    },
    {
      "cell_type": "code",
      "execution_count": null,
      "metadata": {
        "colab": {
          "base_uri": "https://localhost:8080/"
        },
        "id": "hqgfrTRKoxUh",
        "outputId": "0018cd92-5c11-4b19-b590-cb9b03d39e2f"
      },
      "outputs": [
        {
          "output_type": "execute_result",
          "data": {
            "text/plain": [
              "[<KerasTensor: shape=(None, 10000) dtype=float32 (created by layer 'title')>,\n",
              " <KerasTensor: shape=(None, 10000) dtype=float32 (created by layer 'text_body')>,\n",
              " <KerasTensor: shape=(None, 100) dtype=float32 (created by layer 'tags')>]"
            ]
          },
          "metadata": {},
          "execution_count": 94
        }
      ],
      "source": [
        "# Input of the layer3(=4번째 layer)(=Concatenate layer)\n",
        "model.layers[3].input"
      ]
    },
    {
      "cell_type": "code",
      "execution_count": null,
      "metadata": {
        "colab": {
          "base_uri": "https://localhost:8080/"
        },
        "id": "klgYguiBoxUi",
        "outputId": "1ed99c93-83ac-4678-9cfc-7215839373ee"
      },
      "outputs": [
        {
          "output_type": "execute_result",
          "data": {
            "text/plain": [
              "<KerasTensor: shape=(None, 20100) dtype=float32 (created by layer 'concatenate')>"
            ]
          },
          "metadata": {},
          "execution_count": 95
        }
      ],
      "source": [
        "# Output of the layer3(=4번째 layer)(=Concatenate layer)\n",
        "model.layers[3].output"
      ]
    },
    {
      "cell_type": "markdown",
      "metadata": {
        "id": "j5tHnyJVoxUi"
      },
      "source": [
        "You can creating a new model by reusing intermediate layer outputs"
      ]
    },
    {
      "cell_type": "code",
      "execution_count": null,
      "metadata": {
        "id": "mXbbvFYToxUi"
      },
      "outputs": [],
      "source": [
        "features = model.layers[4].output\n",
        "difficulty = layers.Dense(3, activation=\"softmax\", name=\"difficulty\")(features)\n",
        "\n",
        "new_model = keras.Model(\n",
        "    inputs=[title, text_body, tags],\n",
        "    outputs=[priority, department, difficulty])"
      ]
    },
    {
      "cell_type": "markdown",
      "metadata": {
        "id": "moOZLHsvoxUj"
      },
      "source": [
        "### Subclassing the Model class\n"
      ]
    },
    {
      "cell_type": "markdown",
      "source": [
        "\n",
        "In the __init __() method, define the layers the model will use\n",
        "\n",
        "In the call() method, define the forward pass of the model\n",
        "\n",
        "Instantiate your subclass, and call it on data to create its weights\n"
      ],
      "metadata": {
        "id": "PU1M62jQwscr"
      }
    },
    {
      "cell_type": "markdown",
      "metadata": {
        "id": "g65tTTbkoxUj"
      },
      "source": [
        "#### define model"
      ]
    },
    {
      "cell_type": "code",
      "execution_count": null,
      "metadata": {
        "id": "gAxMj_Q0oxUj"
      },
      "outputs": [],
      "source": [
        "class CustomerTicketModel(keras.Model):\n",
        "\n",
        "    def __init__(self, num_departments):\n",
        "        super().__init__() # super() constructor를 꼭 불러줘야됨\n",
        "        # define the layers which will use in the forward pass\n",
        "        self.concat_layer = layers.Concatenate()\n",
        "        self.mixing_layer = layers.Dense(64, activation=\"relu\")\n",
        "        self.priority_scorer = layers.Dense(1, activation=\"sigmoid\")\n",
        "        self.department_classifier = layers.Dense(num_departments, activation=\"softmax\")\n",
        "\n",
        "    def call(self, inputs):\n",
        "        title = inputs[\"title\"]\n",
        "        text_body = inputs[\"text_body\"]\n",
        "        tags = inputs[\"tags\"]\n",
        "\n",
        "        features = self.concat_layer([title, text_body, tags])\n",
        "        features = self.mixing_layer(features)\n",
        "        priority = self.priority_scorer(features)\n",
        "        department = self.department_classifier(features)\n",
        "        return priority, department"
      ]
    },
    {
      "cell_type": "markdown",
      "metadata": {
        "id": "P4inPLG8oxUj"
      },
      "source": [
        "#### instantiate model"
      ]
    },
    {
      "cell_type": "code",
      "execution_count": null,
      "metadata": {
        "id": "syL2q3qqoxUk"
      },
      "outputs": [],
      "source": [
        "model = CustomerTicketModel(num_departments=4)\n",
        "\n",
        "# input data of dictionary\n",
        "priority, department = model(\n",
        "    {\"title\": title_data, \"text_body\": text_body_data, \"tags\": tags_data})"
      ]
    },
    {
      "cell_type": "markdown",
      "metadata": {
        "id": "zJ0Ynh2YoxUk"
      },
      "source": [
        "#### compile and train\n",
        " \n",
        " Sequential or Functional model과 동일하다"
      ]
    },
    {
      "cell_type": "code",
      "execution_count": null,
      "metadata": {
        "colab": {
          "base_uri": "https://localhost:8080/"
        },
        "id": "pLaaTbqtoxUk",
        "outputId": "12cce8c5-1274-42c3-d745-077f407f4def"
      },
      "outputs": [
        {
          "output_type": "stream",
          "name": "stdout",
          "text": [
            "40/40 [==============================] - 1s 8ms/step - loss: 38.0964 - output_1_loss: 0.3038 - output_2_loss: 37.7926 - output_1_mean_absolute_error: 0.4713 - output_2_accuracy: 0.2445\n",
            "40/40 [==============================] - 0s 6ms/step - loss: 27.3318 - output_1_loss: 0.3399 - output_2_loss: 26.9919 - output_1_mean_absolute_error: 0.5073 - output_2_accuracy: 0.0922\n"
          ]
        }
      ],
      "source": [
        "model.compile(optimizer=\"rmsprop\",\n",
        "              loss=[\"mean_squared_error\", \"categorical_crossentropy\"],\n",
        "              metrics=[[\"mean_absolute_error\"], [\"accuracy\"]])\n",
        "\n",
        "model.fit({\"title\": title_data,\n",
        "           \"text_body\": text_body_data,\n",
        "           \"tags\": tags_data},\n",
        "          [priority_data, department_data],\n",
        "          epochs=1)\n",
        "\n",
        "model.evaluate({\"title\": title_data,\n",
        "                \"text_body\": text_body_data,\n",
        "                \"tags\": tags_data},\n",
        "               [priority_data, department_data])\n",
        "\n",
        "priority_preds, department_preds = model.predict({\"title\": title_data,\n",
        "                                                  \"text_body\": text_body_data,\n",
        "                                                  \"tags\": tags_data})"
      ]
    },
    {
      "cell_type": "markdown",
      "metadata": {
        "id": "XlqWUwAEoxUl"
      },
      "source": [
        "### Mixing and matching different components\n",
        "\n",
        "All models in the Keras API can smoothly interoperate with each other,\n",
        "\n",
        "whether they’re Sequential models, Functional models, or Subclassed models"
      ]
    },
    {
      "cell_type": "code",
      "execution_count": null,
      "metadata": {
        "id": "0dZg8ue-oxUl"
      },
      "outputs": [],
      "source": [
        "# Functional model that includes a Subclassed model\n",
        "\n",
        "\n",
        "#subclassed model\n",
        "class Classifier(keras.Model):\n",
        "\n",
        "    def __init__(self, num_classes=2):\n",
        "        super().__init__()\n",
        "        if num_classes == 2:\n",
        "            num_units = 1\n",
        "            activation = \"sigmoid\"\n",
        "        else:\n",
        "            num_units = num_classes\n",
        "            activation = \"softmax\"\n",
        "        self.dense = layers.Dense(num_units, activation=activation)\n",
        "\n",
        "    def call(self, inputs):\n",
        "        return self.dense(inputs)\n",
        "\n",
        "    \n",
        "inputs = keras.Input(shape=(3,))\n",
        "features = layers.Dense(64, activation=\"relu\")(inputs)\n",
        "outputs = Classifier(num_classes=10)(features) # include subclassed model in the functional model\n",
        "model = keras.Model(inputs=inputs, outputs=outputs)"
      ]
    },
    {
      "cell_type": "code",
      "execution_count": null,
      "metadata": {
        "id": "xIN82JtgoxUl"
      },
      "outputs": [],
      "source": [
        "# Functional model as part of a subclassed layer or model\n",
        "\n",
        "\n",
        "inputs = keras.Input(shape=(64,))\n",
        "outputs = layers.Dense(1, activation=\"sigmoid\")(inputs)\n",
        "binary_classifier = keras.Model(inputs=inputs, outputs=outputs) # functional model\n",
        "\n",
        "\n",
        "# Subclassed model\n",
        "class MyModel(keras.Model):\n",
        "\n",
        "    def __init__(self, num_classes=2):\n",
        "        super().__init__()\n",
        "        self.dense = layers.Dense(64, activation=\"relu\")\n",
        "        self.classifier = binary_classifier # functional model in the subclassed model\n",
        "\n",
        "    def call(self, inputs):\n",
        "        features = self.dense(inputs)\n",
        "        return self.classifier(features)\n",
        "\n",
        "model = MyModel()"
      ]
    },
    {
      "cell_type": "markdown",
      "metadata": {
        "id": "He78kdI-oxUm"
      },
      "source": [
        "## 3. Using built-in training and evaluation loops"
      ]
    },
    {
      "cell_type": "markdown",
      "metadata": {
        "id": "iC2b6traoxUm"
      },
      "source": [
        "### The standard workflow: compile(), fit(), evaluate(), predict()"
      ]
    },
    {
      "cell_type": "code",
      "execution_count": null,
      "metadata": {
        "colab": {
          "base_uri": "https://localhost:8080/"
        },
        "id": "Oc8P7l88oxUm",
        "outputId": "12437e9c-f4b9-49b2-e927-870c7b279ec3"
      },
      "outputs": [
        {
          "output_type": "stream",
          "name": "stdout",
          "text": [
            "Epoch 1/3\n",
            "1563/1563 [==============================] - 8s 5ms/step - loss: 0.2993 - accuracy: 0.9111 - val_loss: 0.1529 - val_accuracy: 0.9563\n",
            "Epoch 2/3\n",
            "1563/1563 [==============================] - 7s 4ms/step - loss: 0.1675 - accuracy: 0.9533 - val_loss: 0.1306 - val_accuracy: 0.9649\n",
            "Epoch 3/3\n",
            "1563/1563 [==============================] - 7s 4ms/step - loss: 0.1412 - accuracy: 0.9629 - val_loss: 0.1186 - val_accuracy: 0.9707\n",
            "313/313 [==============================] - 1s 3ms/step - loss: 0.1140 - accuracy: 0.9700\n"
          ]
        }
      ],
      "source": [
        "from tensorflow.keras.datasets import mnist\n",
        "\n",
        "# create the model by Functional API\n",
        "def get_mnist_model():\n",
        "    inputs = keras.Input(shape=(28 * 28,))\n",
        "    features = layers.Dense(512, activation=\"relu\")(inputs)\n",
        "    features = layers.Dropout(0.5)(features)\n",
        "    outputs = layers.Dense(10, activation=\"softmax\")(features)\n",
        "    model = keras.Model(inputs, outputs)\n",
        "    return model\n",
        "\n",
        "\n",
        "# load data\n",
        "(images, labels), (test_images, test_labels) = mnist.load_data()\n",
        "images = images.reshape((60000, 28 * 28)).astype(\"float32\") / 255\n",
        "test_images = test_images.reshape((10000, 28 * 28)).astype(\"float32\") / 255\n",
        "train_images, val_images = images[10000:], images[:10000]\n",
        "train_labels, val_labels = labels[10000:], labels[:10000]\n",
        "\n",
        "\n",
        "model = get_mnist_model()\n",
        "\n",
        "\n",
        "model.compile(optimizer=\"rmsprop\",\n",
        "              loss=\"sparse_categorical_crossentropy\",\n",
        "              metrics=[\"accuracy\"])\n",
        "\n",
        "\n",
        "# built in training\n",
        "model.fit(train_images, train_labels,\n",
        "          epochs=3,\n",
        "          validation_data=(val_images, val_labels))\n",
        "\n",
        "# evaluation loops\n",
        "test_metrics = model.evaluate(test_images, test_labels)\n",
        "\n",
        "\n",
        "predictions = model.predict(test_images)"
      ]
    },
    {
      "cell_type": "markdown",
      "metadata": {
        "id": "ebdF3mlhoxUm"
      },
      "source": [
        "### Writing your own metrics\n",
        "\n",
        "### Implementing a custom metric by subclassing the Metric class\n",
        "\n",
        "A Keras metric is a subclass of the keras.metrics.Metric class\n",
        "\n",
        "Write the state update logic, which happens in the update_state () method."
      ]
    },
    {
      "cell_type": "code",
      "execution_count": null,
      "metadata": {
        "id": "eL2LcIr7oxUo"
      },
      "outputs": [],
      "source": [
        "class RootMeanSquaredError(keras.metrics.Metric):\n",
        "\n",
        "    def __init__(self, name=\"rmse\", **kwargs):\n",
        "        super().__init__(name=name, **kwargs)\n",
        "        # parameters that you are going to monitor : mse_sum and total_samples\n",
        "        self.mse_sum = self.add_weight(name=\"mse_sum\", initializer=\"zeros\")\n",
        "        self.total_samples = self.add_weight(name=\"total_samples\", initializer=\"zeros\", dtype=\"int32\")\n",
        "\n",
        "    # update rule of the weight paramaters    \n",
        "    def update_state(self, y_true, y_pred, sample_weight=None):\n",
        "        y_true = tf.one_hot(y_true, depth=tf.shape(y_pred)[1])\n",
        "        mse = tf.reduce_sum(tf.square(y_true - y_pred))\n",
        "        self.mse_sum.assign_add(mse)\n",
        "        num_samples = tf.shape(y_pred)[0]\n",
        "        self.total_samples.assign_add(num_samples)\n",
        "\n",
        "    \n",
        "    # return current metric\n",
        "    def result(self):\n",
        "        return tf.sqrt(self.mse_sum / tf.cast(self.total_samples, tf.float32))\n",
        "\n",
        "    \n",
        "    # reset for each epoch\n",
        "    def reset_state(self):\n",
        "        self.mse_sum.assign(0.)\n",
        "        self.total_samples.assign(0)"
      ]
    },
    {
      "cell_type": "markdown",
      "metadata": {
        "id": "GB5N-8cJoxUp"
      },
      "source": [
        "### Custom metrics can be used just like built in ones"
      ]
    },
    {
      "cell_type": "code",
      "execution_count": null,
      "metadata": {
        "colab": {
          "base_uri": "https://localhost:8080/"
        },
        "id": "E7Wm28-loxUp",
        "outputId": "4768ddb7-887a-4393-b8ce-3b0d8eae6ed7"
      },
      "outputs": [
        {
          "output_type": "stream",
          "name": "stdout",
          "text": [
            "Epoch 1/3\n",
            "1563/1563 [==============================] - 8s 5ms/step - loss: 0.2992 - accuracy: 0.9114 - rmse: 7.1809 - val_loss: 0.1611 - val_accuracy: 0.9532 - val_rmse: 7.3573\n",
            "Epoch 2/3\n",
            "1563/1563 [==============================] - 7s 4ms/step - loss: 0.1666 - accuracy: 0.9533 - rmse: 7.3553 - val_loss: 0.1255 - val_accuracy: 0.9647 - val_rmse: 7.3944\n",
            "Epoch 3/3\n",
            "1563/1563 [==============================] - 7s 5ms/step - loss: 0.1375 - accuracy: 0.9621 - rmse: 7.3874 - val_loss: 0.1131 - val_accuracy: 0.9710 - val_rmse: 7.4229\n",
            "313/313 [==============================] - 1s 3ms/step - loss: 0.1065 - accuracy: 0.9728 - rmse: 7.4345\n"
          ]
        }
      ],
      "source": [
        "model = get_mnist_model()\n",
        "\n",
        "model.compile(optimizer=\"rmsprop\",\n",
        "              loss=\"sparse_categorical_crossentropy\",\n",
        "              metrics=[\"accuracy\", RootMeanSquaredError()]) # Using custom metrics\n",
        "\n",
        "model.fit(train_images, train_labels,\n",
        "          epochs=3,\n",
        "          validation_data=(val_images, val_labels))\n",
        "\n",
        "test_metrics = model.evaluate(test_images, test_labels)"
      ]
    },
    {
      "cell_type": "markdown",
      "metadata": {
        "id": "Px3gbzCMoxUq"
      },
      "source": [
        "### Using callbacks"
      ]
    },
    {
      "cell_type": "markdown",
      "source": [
        "Launching a training run on a large dataset for tens of epochs using model.fit () can be a bit like launching a paper airplane: you don’t have any control over its\n",
        "trajectory or its landing spot.\n",
        "\n",
        "A callback is an object (a class instance implementing specific methods) that is\n",
        "passed to the model in the call to fit()\n",
        "\n",
        "It has access to all the available data about the state of the model and its\n",
        "performance, and it can take action: interrupt training, save a model,\n",
        "load a different weight set, or otherwise alter the state of the model."
      ],
      "metadata": {
        "id": "-KwEtOSroTzz"
      }
    },
    {
      "cell_type": "markdown",
      "source": [
        "### callback의 종류"
      ],
      "metadata": {
        "id": "sUmOtZbOpNTU"
      }
    },
    {
      "cell_type": "markdown",
      "metadata": {
        "id": "Vyk2bzNzoxUr"
      },
      "source": [
        "\n",
        "Model checkpointing\n",
        "\n",
        "    Saving the current state of the model at different points during training.\n",
        "    * keras.callbacks.ModelCheckpoint\n",
        "\n",
        "Early stopping\n",
        "\n",
        "    Interrupting training when the validation loss is no longer improving (saving the best model obtained during training).\n",
        "    * keras.callbacks.EarlyStopping\n",
        "\n",
        "Dynamically adjusting the value of certain parameters during training. Such as the learning rate of the optimizer.\n",
        "\n",
        "    * keras.callbacks.LearningRateScheduler\n",
        "    * keras.callbacks.ReduceLROnPlateau\n",
        "\n",
        "\n",
        "Logging training and validation metrics during training, or visualizing the\n",
        "representations learned by the model as they’re updated.\n",
        "\n",
        "    * keras.callbacks.CSVLogger"
      ]
    },
    {
      "cell_type": "markdown",
      "source": [
        "### EarlyStopping & ModelCheckpoint"
      ],
      "metadata": {
        "id": "u-vGA1bzp2Na"
      }
    },
    {
      "cell_type": "markdown",
      "metadata": {
        "id": "RHDUdJgOoxUt"
      },
      "source": [
        "\n",
        "EarlyStopping : Interrupts training once a target metric being\n",
        "monitored has stopped improving for a fixed number of epochs\n",
        "\n",
        "ModelCheckpoint : Lets you continually save the model during training"
      ]
    },
    {
      "cell_type": "code",
      "execution_count": null,
      "metadata": {
        "colab": {
          "base_uri": "https://localhost:8080/"
        },
        "id": "x2eAX9uxoxUt",
        "outputId": "eec3258b-bd81-4d8b-930c-a003da3b5fd7"
      },
      "outputs": [
        {
          "output_type": "stream",
          "name": "stdout",
          "text": [
            "Epoch 1/10\n",
            "1563/1563 [==============================] - 7s 4ms/step - loss: 0.2931 - accuracy: 0.9134 - val_loss: 0.1556 - val_accuracy: 0.9550\n",
            "Epoch 2/10\n",
            "1563/1563 [==============================] - 6s 4ms/step - loss: 0.1619 - accuracy: 0.9535 - val_loss: 0.1285 - val_accuracy: 0.9653\n",
            "Epoch 3/10\n",
            "1563/1563 [==============================] - 6s 4ms/step - loss: 0.1392 - accuracy: 0.9622 - val_loss: 0.1219 - val_accuracy: 0.9677\n",
            "Epoch 4/10\n",
            "1563/1563 [==============================] - 7s 5ms/step - loss: 0.1310 - accuracy: 0.9666 - val_loss: 0.1126 - val_accuracy: 0.9730\n",
            "Epoch 5/10\n",
            "1563/1563 [==============================] - 6s 4ms/step - loss: 0.1198 - accuracy: 0.9701 - val_loss: 0.1109 - val_accuracy: 0.9743\n",
            "Epoch 6/10\n",
            "1563/1563 [==============================] - 6s 4ms/step - loss: 0.1134 - accuracy: 0.9731 - val_loss: 0.1121 - val_accuracy: 0.9758\n",
            "Epoch 7/10\n",
            "1563/1563 [==============================] - 7s 4ms/step - loss: 0.1079 - accuracy: 0.9746 - val_loss: 0.1100 - val_accuracy: 0.9781\n",
            "Epoch 8/10\n",
            "1563/1563 [==============================] - 6s 4ms/step - loss: 0.1039 - accuracy: 0.9756 - val_loss: 0.1019 - val_accuracy: 0.9784\n",
            "Epoch 9/10\n",
            "1563/1563 [==============================] - 6s 4ms/step - loss: 0.0951 - accuracy: 0.9782 - val_loss: 0.1124 - val_accuracy: 0.9795\n",
            "Epoch 10/10\n",
            "1563/1563 [==============================] - 7s 4ms/step - loss: 0.0969 - accuracy: 0.9787 - val_loss: 0.1163 - val_accuracy: 0.9776\n"
          ]
        },
        {
          "output_type": "execute_result",
          "data": {
            "text/plain": [
              "<keras.callbacks.History at 0x7f4bd61b8a50>"
            ]
          },
          "metadata": {},
          "execution_count": 105
        }
      ],
      "source": [
        "callbacks_list = [\n",
        "    \n",
        "    keras.callbacks.EarlyStopping(\n",
        "        monitor=\"val_accuracy\",\n",
        "        patience=2, # val_accuracy가 2 epoch동안 증가하지 않으면 interrupt한다.\n",
        "    ),\n",
        "    \n",
        "    keras.callbacks.ModelCheckpoint(\n",
        "        filepath=\"checkpoint_path.keras\", # to save the model\n",
        "        monitor=\"val_loss\",\n",
        "        save_best_only=True, # save only best one, True로 지정하지 않으면 모든 결과를 볼 수 있다.\n",
        "    )\n",
        "]\n",
        "\n",
        "\n",
        "model = get_mnist_model()\n",
        "\n",
        "model.compile(optimizer=\"rmsprop\",\n",
        "              loss=\"sparse_categorical_crossentropy\",\n",
        "              metrics=[\"accuracy\"])\n",
        "\n",
        "model.fit(train_images, train_labels,\n",
        "          epochs=10,\n",
        "          callbacks=callbacks_list, # fit할 때 위에서 정한 callbacks를 넣는다.\n",
        "          validation_data=(val_images, val_labels))"
      ]
    },
    {
      "cell_type": "code",
      "execution_count": null,
      "metadata": {
        "id": "Ec5JgAq2oxUu"
      },
      "outputs": [],
      "source": [
        "model = keras.models.load_model(\"checkpoint_path.keras\")  "
      ]
    },
    {
      "cell_type": "markdown",
      "source": [
        "### Writing your own callbacks"
      ],
      "metadata": {
        "id": "rUzV9HgWtK-G"
      }
    },
    {
      "cell_type": "markdown",
      "metadata": {
        "id": "JiIApYnOoxUv"
      },
      "source": [
        "Simple example that saves a list of per\n",
        "batch loss values during training and\n",
        "saves a graph of these values at the\n",
        "end of each epoch."
      ]
    },
    {
      "cell_type": "code",
      "execution_count": null,
      "metadata": {
        "id": "OzXUPz3yoxUv"
      },
      "outputs": [],
      "source": [
        "class LossHistory(keras.callbacks.Callback):\n",
        "    \n",
        "    def on_train_begin(self, logs):\n",
        "        self.per_batch_losses = []\n",
        "\n",
        "    def on_batch_end(self, batch, logs):\n",
        "        self.per_batch_losses.append(logs.get(\"loss\"))\n",
        "\n",
        "    def on_epoch_end(self, epoch, logs):\n",
        "        plt.clf()\n",
        "        plt.plot(range(len(self.per_batch_losses)), self.per_batch_losses,\n",
        "                 label=\"Training loss for each batch\")\n",
        "        plt.xlabel(f\"Batch (epoch {epoch})\")\n",
        "        plt.ylabel(\"Loss\")\n",
        "        plt.legend()\n",
        "        plt.savefig(f\"plot_at_epoch_{epoch}\")\n",
        "        self.per_batch_losses = []"
      ]
    },
    {
      "cell_type": "code",
      "execution_count": null,
      "metadata": {
        "colab": {
          "base_uri": "https://localhost:8080/",
          "height": 664
        },
        "id": "rK1FDBBkoxUv",
        "outputId": "eb1e1a60-93d0-40d7-fbbc-7356adf8dd16"
      },
      "outputs": [
        {
          "output_type": "stream",
          "name": "stdout",
          "text": [
            "Epoch 1/10\n",
            "1563/1563 [==============================] - 7s 4ms/step - loss: 0.2938 - accuracy: 0.9130 - val_loss: 0.1599 - val_accuracy: 0.9536\n",
            "Epoch 2/10\n",
            "1563/1563 [==============================] - 7s 4ms/step - loss: 0.1637 - accuracy: 0.9549 - val_loss: 0.1294 - val_accuracy: 0.9651\n",
            "Epoch 3/10\n",
            "1563/1563 [==============================] - 7s 4ms/step - loss: 0.1378 - accuracy: 0.9626 - val_loss: 0.1152 - val_accuracy: 0.9713\n",
            "Epoch 4/10\n",
            "1563/1563 [==============================] - 7s 5ms/step - loss: 0.1235 - accuracy: 0.9673 - val_loss: 0.1114 - val_accuracy: 0.9725\n",
            "Epoch 5/10\n",
            "1563/1563 [==============================] - 7s 5ms/step - loss: 0.1181 - accuracy: 0.9713 - val_loss: 0.1131 - val_accuracy: 0.9735\n",
            "Epoch 6/10\n",
            "1563/1563 [==============================] - 7s 5ms/step - loss: 0.1115 - accuracy: 0.9730 - val_loss: 0.1050 - val_accuracy: 0.9767\n",
            "Epoch 7/10\n",
            "1563/1563 [==============================] - 7s 4ms/step - loss: 0.1069 - accuracy: 0.9746 - val_loss: 0.1081 - val_accuracy: 0.9773\n",
            "Epoch 8/10\n",
            "1563/1563 [==============================] - 7s 5ms/step - loss: 0.1027 - accuracy: 0.9766 - val_loss: 0.1048 - val_accuracy: 0.9793\n",
            "Epoch 9/10\n",
            "1563/1563 [==============================] - 7s 4ms/step - loss: 0.0976 - accuracy: 0.9787 - val_loss: 0.1176 - val_accuracy: 0.9775\n",
            "Epoch 10/10\n",
            "1563/1563 [==============================] - 7s 5ms/step - loss: 0.0956 - accuracy: 0.9787 - val_loss: 0.1240 - val_accuracy: 0.9770\n"
          ]
        },
        {
          "output_type": "execute_result",
          "data": {
            "text/plain": [
              "<keras.callbacks.History at 0x7f4bd6e10110>"
            ]
          },
          "metadata": {},
          "execution_count": 108
        },
        {
          "output_type": "display_data",
          "data": {
            "text/plain": [
              "<Figure size 432x288 with 1 Axes>"
            ],
            "image/png": "[encoded data removed]"
          },
          "metadata": {
            "needs_background": "light"
          }
        }
      ],
      "source": [
        "model = get_mnist_model()\n",
        "\n",
        "model.compile(optimizer=\"rmsprop\",\n",
        "              loss=\"sparse_categorical_crossentropy\",\n",
        "              metrics=[\"accuracy\"])\n",
        "\n",
        "model.fit(train_images, train_labels,\n",
        "          epochs=10,\n",
        "          callbacks=[LossHistory()],\n",
        "          validation_data=(val_images, val_labels))"
      ]
    },
    {
      "cell_type": "code",
      "execution_count": null,
      "metadata": {
        "colab": {
          "base_uri": "https://localhost:8080/"
        },
        "id": "K9oN8pWYoxUv",
        "outputId": "f4f450b7-5e70-4665-d616-40f9ed5724d7"
      },
      "outputs": [
        {
          "output_type": "execute_result",
          "data": {
            "text/plain": [
              "['.config',\n",
              " 'plot_at_epoch_4.png',\n",
              " 'plot_at_epoch_8.png',\n",
              " 'plot_at_epoch_1.png',\n",
              " 'plot_at_epoch_5.png',\n",
              " 'plot_at_epoch_0.png',\n",
              " 'plot_at_epoch_9.png',\n",
              " 'plot_at_epoch_2.png',\n",
              " 'plot_at_epoch_6.png',\n",
              " 'plot_at_epoch_7.png',\n",
              " 'plot_at_epoch_3.png',\n",
              " 'ticket_classifier.png',\n",
              " 'checkpoint_path.keras',\n",
              " 'sample_data']"
            ]
          },
          "metadata": {},
          "execution_count": 109
        }
      ],
      "source": [
        "import os\n",
        "os.listdir()"
      ]
    },
    {
      "cell_type": "markdown",
      "source": [
        "7강 1시간 30분"
      ],
      "metadata": {
        "id": "1PwKNxv8-e9r"
      }
    },
    {
      "cell_type": "markdown",
      "source": [
        "# Ch8. Introduction to deep learning for computer vision"
      ],
      "metadata": {
        "id": "95Z4hsdS-38b"
      }
    },
    {
      "cell_type": "markdown",
      "source": [
        "1. Introduction to\n",
        "convnets\n",
        "\n",
        "2. Training a\n",
        "convnet from scratch on a small dataset\n",
        "\n",
        "3. Leveraging a\n",
        "pretrained model"
      ],
      "metadata": {
        "id": "AwpvaKrb_AAl"
      }
    },
    {
      "cell_type": "markdown",
      "source": [
        "## 1. Introduction to convnets"
      ],
      "metadata": {
        "id": "McKuibZi_Mfp"
      }
    },
    {
      "cell_type": "markdown",
      "source": [
        "Stack of Conv2D and MaxPooling2D layers"
      ],
      "metadata": {
        "id": "qRT-9fvw_VmY"
      }
    },
    {
      "cell_type": "code",
      "execution_count": null,
      "metadata": {
        "id": "Qk2kADnJoxUw"
      },
      "outputs": [],
      "source": [
        "# Instantiating a small convnet\n",
        "\n",
        "from tensorflow import keras\n",
        "from tensorflow.keras import layers\n",
        "\n",
        "inputs = keras.Input(shape=(28, 28, 1))                                     # MNIST dataset을 이용하기 위해 28*28 사용\n",
        "x = layers.Conv2D(filters=32, kernel_size=3, activation=\"relu\")(inputs)     # Conv2D\n",
        "x = layers.MaxPooling2D(pool_size=2)(x)                                     # MaxPooling2D\n",
        "x = layers.Conv2D(filters=64, kernel_size=3, activation=\"relu\")(x)\n",
        "x = layers.MaxPooling2D(pool_size=2)(x)\n",
        "x = layers.Conv2D(filters=128, kernel_size=3, activation=\"relu\")(x)\n",
        "x = layers.Flatten()(x)                                                     # Flatten all the information\n",
        "outputs = layers.Dense(10, activation=\"softmax\")(x)                         # connect Dense layer\n",
        "\n",
        "model = keras.Model(inputs=inputs, outputs=outputs)                         # making model by functional API"
      ]
    },
    {
      "cell_type": "code",
      "execution_count": null,
      "metadata": {
        "id": "uZZyYWIxoxUw",
        "outputId": "21b492c5-9faf-4486-b12d-da29e1714b4f",
        "colab": {
          "base_uri": "https://localhost:8080/"
        }
      },
      "outputs": [
        {
          "output_type": "stream",
          "name": "stdout",
          "text": [
            "Model: \"model\"\n",
            "_________________________________________________________________\n",
            " Layer (type)                Output Shape              Param #   \n",
            "=================================================================\n",
            " input_1 (InputLayer)        [(None, 28, 28, 1)]       0         \n",
            "                                                                 \n",
            " conv2d (Conv2D)             (None, 26, 26, 32)        320       \n",
            "                                                                 \n",
            " max_pooling2d (MaxPooling2D  (None, 13, 13, 32)       0         \n",
            " )                                                               \n",
            "                                                                 \n",
            " conv2d_1 (Conv2D)           (None, 11, 11, 64)        18496     \n",
            "                                                                 \n",
            " max_pooling2d_1 (MaxPooling  (None, 5, 5, 64)         0         \n",
            " 2D)                                                             \n",
            "                                                                 \n",
            " conv2d_2 (Conv2D)           (None, 3, 3, 128)         73856     \n",
            "                                                                 \n",
            " flatten (Flatten)           (None, 1152)              0         \n",
            "                                                                 \n",
            " dense (Dense)               (None, 10)                11530     \n",
            "                                                                 \n",
            "=================================================================\n",
            "Total params: 104,202\n",
            "Trainable params: 104,202\n",
            "Non-trainable params: 0\n",
            "_________________________________________________________________\n"
          ]
        }
      ],
      "source": [
        "model.summary()"
      ]
    },
    {
      "cell_type": "code",
      "execution_count": null,
      "metadata": {
        "id": "rOxV0KpuoxUw",
        "outputId": "b22cda1f-bcad-4c6f-d5c6-59ce5a4b00dc",
        "colab": {
          "base_uri": "https://localhost:8080/"
        }
      },
      "outputs": [
        {
          "output_type": "stream",
          "name": "stdout",
          "text": [
            "Downloading data from https://storage.googleapis.com/tensorflow/tf-keras-datasets/mnist.npz\n",
            "11493376/11490434 [==============================] - 0s 0us/step\n",
            "11501568/11490434 [==============================] - 0s 0us/step\n",
            "Epoch 1/5\n",
            "938/938 [==============================] - 23s 7ms/step - loss: 0.1525 - accuracy: 0.9522\n",
            "Epoch 2/5\n",
            "938/938 [==============================] - 6s 6ms/step - loss: 0.0440 - accuracy: 0.9863\n",
            "Epoch 3/5\n",
            "938/938 [==============================] - 6s 6ms/step - loss: 0.0309 - accuracy: 0.9909\n",
            "Epoch 4/5\n",
            "938/938 [==============================] - 6s 6ms/step - loss: 0.0232 - accuracy: 0.9931\n",
            "Epoch 5/5\n",
            "938/938 [==============================] - 6s 6ms/step - loss: 0.0175 - accuracy: 0.9948\n"
          ]
        },
        {
          "output_type": "execute_result",
          "data": {
            "text/plain": [
              "<keras.callbacks.History at 0x7f03b01c6490>"
            ]
          },
          "metadata": {},
          "execution_count": 4
        }
      ],
      "source": [
        "# Training the convnet on MNIST images\n",
        "\n",
        "from tensorflow.keras.datasets import mnist\n",
        "\n",
        "(train_images, train_labels), (test_images, test_labels) = mnist.load_data()\n",
        "train_images = train_images.reshape((60000, 28, 28, 1)) # CNN을 이용하기 위해서 channel dimension은 필수적이다.\n",
        "# Convnet is running on the original shape of the image.\n",
        "train_images = train_images.astype(\"float32\") / 255\n",
        "test_images = test_images.reshape((10000, 28, 28, 1))\n",
        "test_images = test_images.astype(\"float32\") / 255\n",
        "\n",
        "model.compile(optimizer=\"rmsprop\",\n",
        "    loss=\"sparse_categorical_crossentropy\", # multi class classification\n",
        "    metrics=[\"accuracy\"])\n",
        "\n",
        "model.fit(train_images, train_labels, epochs=5, batch_size=64)"
      ]
    },
    {
      "cell_type": "code",
      "source": [
        "# Evaluating the convnet\n",
        "\n",
        "test_loss, test_acc = model.evaluate(test_images, test_labels)\n",
        "print(f\"Test accuracy: {test_acc:.3f}\")"
      ],
      "metadata": {
        "id": "z-wybeXvAIJC",
        "outputId": "4c73c928-9feb-4f2b-fbd2-07f646e756a5",
        "colab": {
          "base_uri": "https://localhost:8080/"
        }
      },
      "execution_count": null,
      "outputs": [
        {
          "output_type": "stream",
          "name": "stdout",
          "text": [
            "313/313 [==============================] - 1s 3ms/step - loss: 0.0324 - accuracy: 0.9910\n",
            "Test accuracy: 0.991\n"
          ]
        }
      ]
    },
    {
      "cell_type": "markdown",
      "source": [
        "### The convolution operation"
      ],
      "metadata": {
        "id": "dtZv-RvYrmcx"
      }
    },
    {
      "cell_type": "markdown",
      "source": [
        "* 'Dense layers' learn 'global patterns' in their input feature space whereas 'convolution layers' learn 'local patterns'\n",
        "\n",
        "* The patterns they learn are\n",
        "translation invariant\n",
        "\n",
        "* They can learn spatial hierarchies of patterns\n",
        "\n",
        "* Convolution preserves the spatial relationship between pixels by learning image\n",
        "features using small squares (depending on the filter size) of input data\n",
        "\n",
        "* Convolution: multiplying elementwise by filter and summing the multiplication\n",
        "outputs\n",
        "\n",
        "* Ex) a 3x3 kernel or 3x3x1 filter acts on a 5x6 input image with stride 1 and outputs\n",
        "a 3x4 feature map.\n",
        "\n",
        "* In fully connected sense, we need unshared 30(=5x6)x12(=3x4) weights (input size x output size)\n",
        "\n",
        "* 9 vs 360. So using convolution filter is far more efficient."
      ],
      "metadata": {
        "id": "3ouJ_NL9rrh1"
      }
    },
    {
      "cell_type": "markdown",
      "source": [
        "Convolution on MxNx3 image with 3x3x3 filter producing 1 feature map by taking dot products between the filter and 3x3x3 piecies of the image.\n",
        "\n",
        "Depth part is decided based on the input feature map."
      ],
      "metadata": {
        "id": "7hZiPhQpaxi5"
      }
    },
    {
      "cell_type": "markdown",
      "source": [
        "### Why convolution?"
      ],
      "metadata": {
        "id": "DEi2OSthb5ic"
      }
    },
    {
      "cell_type": "markdown",
      "source": [
        "* Fully Connected -> 1000x1000 images, 10000 hidden nodes, 10^10 parameters\n",
        "* Convolution     -> 1000x1000 images, 10x10 filter size, 100 filters, 10^4 parameters\n",
        "\n",
        "* If you are dealing with image dataset, it's highly recommend to use convolution layers in modeling.\n",
        "\n"
      ],
      "metadata": {
        "id": "my-gSQFccLmj"
      }
    },
    {
      "cell_type": "markdown",
      "source": [
        "### How convolution filter works?"
      ],
      "metadata": {
        "id": "r7Tjwn0OeVh5"
      }
    },
    {
      "cell_type": "markdown",
      "source": [
        "Different values of the filter matrix produce different\n",
        "feature maps for the same input image.\n",
        "\n",
        "CNN learns the values of filters during training\n",
        "\n",
        "The more filters, the more features are extracted"
      ],
      "metadata": {
        "id": "jFMAcI2_eHt6"
      }
    },
    {
      "cell_type": "code",
      "source": [
        ""
      ],
      "metadata": {
        "id": "j3p6KvfpAIFC"
      },
      "execution_count": null,
      "outputs": []
    },
    {
      "cell_type": "code",
      "source": [
        ""
      ],
      "metadata": {
        "id": "vcWDvOrWAIC_"
      },
      "execution_count": null,
      "outputs": []
    },
    {
      "cell_type": "code",
      "source": [
        ""
      ],
      "metadata": {
        "id": "QoaoW4dZAH8l"
      },
      "execution_count": null,
      "outputs": []
    },
    {
      "cell_type": "code",
      "source": [
        ""
      ],
      "metadata": {
        "id": "NHP6j9KlAHr6"
      },
      "execution_count": null,
      "outputs": []
    }
  ],
  "metadata": {
    "colab": {
      "collapsed_sections": [],
      "name": "딥러닝 중간고사 (1).ipynb",
      "provenance": [],
      "include_colab_link": true
    },
    "kernelspec": {
      "display_name": "Python 3 (ipykernel)",
      "language": "python",
      "name": "python3"
    },
    "language_info": {
      "codemirror_mode": {
        "name": "ipython",
        "version": 3
      },
      "file_extension": ".py",
      "mimetype": "text/x-python",
      "name": "python",
      "nbconvert_exporter": "python",
      "pygments_lexer": "ipython3",
      "version": "3.9.7"
    },
    "accelerator": "GPU"
  },
  "nbformat": 4,
  "nbformat_minor": 0
}