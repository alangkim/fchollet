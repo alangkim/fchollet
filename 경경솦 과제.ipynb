{
  "nbformat": 4,
  "nbformat_minor": 0,
  "metadata": {
    "colab": {
      "name": "Untitled6.ipynb",
      "private_outputs": true,
      "provenance": [],
      "authorship_tag": "ABX9TyPtEQmoc/ffzCt/3da0i5zv",
      "include_colab_link": true
    },
    "kernelspec": {
      "name": "python3",
      "display_name": "Python 3"
    },
    "language_info": {
      "name": "python"
    },
    "gpuClass": "standard"
  },
  "cells": [
    {
      "cell_type": "markdown",
      "metadata": {
        "id": "view-in-github",
        "colab_type": "text"
      },
      "source": [
        "<a href=\"https://colab.research.google.com/github/alangkim/fchollet/blob/main/%EA%B2%BD%EA%B2%BD%EC%86%A6%20%EA%B3%BC%EC%A0%9C.ipynb\" target=\"_parent\"><img src=\"https://colab.research.google.com/assets/colab-badge.svg\" alt=\"Open In Colab\"/></a>"
      ]
    },
    {
      "cell_type": "markdown",
      "source": [
        "# 주식 손익 프로그램"
      ],
      "metadata": {
        "id": "VsbefZXYJKpx"
      }
    },
    {
      "cell_type": "code",
      "source": [
        "print(\"이 프로그램은 보유하고 있는 종목의 개수와 \")"
      ],
      "metadata": {
        "id": "mOpe1gdnJm3V"
      },
      "execution_count": null,
      "outputs": []
    },
    {
      "cell_type": "code",
      "execution_count": null,
      "metadata": {
        "id": "zlmlX5CrJJdM"
      },
      "outputs": [],
      "source": [
        "n = int(input(\"보유하고 있는 주식 종목의 개수를 입력해주세요\"))\n",
        "\n",
        "for i in range(n):\n",
        "    name = input(\"종목 이름을 적어주세요\")\n",
        "    "
      ]
    }
  ]
}