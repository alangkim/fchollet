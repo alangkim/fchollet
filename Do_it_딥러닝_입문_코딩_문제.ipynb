{
  "nbformat": 4,
  "nbformat_minor": 0,
  "metadata": {
    "colab": {
      "name": "Do it 딥러닝 입문 코딩 문제.ipynb",
      "provenance": [],
      "authorship_tag": "ABX9TyNESBFRPnca8wa0V3e2AiaP",
      "include_colab_link": true
    },
    "kernelspec": {
      "name": "python3",
      "display_name": "Python 3"
    },
    "language_info": {
      "name": "python"
    }
  },
  "cells": [
    {
      "cell_type": "markdown",
      "metadata": {
        "id": "view-in-github",
        "colab_type": "text"
      },
      "source": [
        "<a href=\"https://colab.research.google.com/github/caujw/fchollet/blob/main/Do_it_%EB%94%A5%EB%9F%AC%EB%8B%9D_%EC%9E%85%EB%AC%B8_%EC%BD%94%EB%94%A9_%EB%AC%B8%EC%A0%9C.ipynb\" target=\"_parent\"><img src=\"https://colab.research.google.com/assets/colab-badge.svg\" alt=\"Open In Colab\"/></a>"
      ]
    },
    {
      "cell_type": "markdown",
      "source": [
        "# 2단원"
      ],
      "metadata": {
        "id": "kfcljceY65V0"
      }
    },
    {
      "cell_type": "markdown",
      "source": [
        "1. 넘파이 패키지를 임포트하고 버전을 확인하시오."
      ],
      "metadata": {
        "id": "O6--odg_5YzY"
      }
    },
    {
      "cell_type": "code",
      "execution_count": null,
      "metadata": {
        "id": "2bYPPNz65LWu"
      },
      "outputs": [],
      "source": [
        ""
      ]
    },
    {
      "cell_type": "markdown",
      "source": [
        "2. 넘파이로 a = [1, 2, 3], [4, 5, 6] 의 2차원 배열을 만들고 (1,3)의 요소를 선택하는 코드를 작성하시오."
      ],
      "metadata": {
        "id": "ZAxZFbBA5pQ0"
      }
    },
    {
      "cell_type": "code",
      "source": [
        ""
      ],
      "metadata": {
        "id": "z7gfwP1s55O_"
      },
      "execution_count": null,
      "outputs": []
    },
    {
      "cell_type": "markdown",
      "source": [
        "3-1. 맷플롯립을 임포트하고 (1,2)와 (5,8) 두 점을 잇는 그래프와 산점도를 각각 출력하시오.\n",
        "\n",
        "3-2. 변수 x, y에 각각 표준정규분포를 따르는 난수 1000개를 만들고 산점도에 나타내시오."
      ],
      "metadata": {
        "id": "939iVWQk6Vz4"
      }
    },
    {
      "cell_type": "code",
      "source": [
        ""
      ],
      "metadata": {
        "id": "UvZSTVmb6ISZ"
      },
      "execution_count": null,
      "outputs": []
    },
    {
      "cell_type": "code",
      "source": [
        ""
      ],
      "metadata": {
        "id": "7bEQa4T1Avhl"
      },
      "execution_count": null,
      "outputs": []
    },
    {
      "cell_type": "markdown",
      "source": [
        "# 3단원"
      ],
      "metadata": {
        "id": "P5czPMK_55uf"
      }
    },
    {
      "cell_type": "markdown",
      "source": [
        "1-1. 사이킷런의 datasets 모듈에 있는 load_diabetes()함수를 임포트한 후 diabetes 변수에 저장하시오.\n",
        "\n",
        "1-2. 변수 x와 y에 각각 diabetes.data의 세 번째 특성과 diabetes.target을 저장하시오."
      ],
      "metadata": {
        "id": "Rc0k2xAj6-9X"
      }
    },
    {
      "cell_type": "code",
      "source": [
        ""
      ],
      "metadata": {
        "id": "anKZVd5z6ezu"
      },
      "execution_count": null,
      "outputs": []
    },
    {
      "cell_type": "code",
      "source": [
        ""
      ],
      "metadata": {
        "id": "jgMDXisWA2Yh"
      },
      "execution_count": null,
      "outputs": []
    },
    {
      "cell_type": "markdown",
      "source": [
        "2.\n",
        "\n",
        "y_hat = w * x[0] + b\n",
        "\n",
        "w = 1.0\n",
        "\n",
        "b = 1.0\n",
        "\n",
        "에 대해\n",
        "\n",
        "1) y_hat 값을 구하고\n",
        "\n",
        "2) y[0]값과 비교한 후\n",
        "\n",
        "3) w가 0.1 증가했을 때(w_inc 변수 사용) y_hat이 얼마나 증가했는지(y_hat_inc 변수 사용) 계산 후 w_rate 변수에 저장하시오\n",
        "\n",
        "4) b가 0.1 증가했을 때(b_inc 변수 사용) y_hat이 얼마나 증가했는지 계산 후 b_rate 변수에 저장하시오\n"
      ],
      "metadata": {
        "id": "-dUg6Zk477m1"
      }
    },
    {
      "cell_type": "code",
      "source": [
        ""
      ],
      "metadata": {
        "id": "iCCQEalW9qv-"
      },
      "execution_count": null,
      "outputs": []
    },
    {
      "cell_type": "markdown",
      "source": [
        "3. 전체 샘플에 대해 오차 역전파를 사용하여 100번의 에포크를 반복해 가중치와 절편을 업데이트 하고 x, y 산점도와 모델을 그래프로 나타내시오.(w_new, b_new, err 변수 사용)"
      ],
      "metadata": {
        "id": "PBy1UDqE9riB"
      }
    },
    {
      "cell_type": "code",
      "source": [
        ""
      ],
      "metadata": {
        "id": "jrsHTuN1-TMq"
      },
      "execution_count": null,
      "outputs": []
    },
    {
      "cell_type": "markdown",
      "source": [
        "4. 위 알고리즘을 클래스로 구현하시오.\n",
        "\n",
        "단, \n",
        "\n",
        "1) class의 이름은 Neuron으로 하고\n",
        "\n",
        "2) 직선방정식 메서드의 변수명은 forpass\n",
        "\n",
        "3) 그래디언트 계산의 변수명은 backdrop\n",
        "\n",
        "4) 훈련 변수명은 fit\n",
        "\n",
        "으로 하고\n",
        "\n",
        "산점도 위에 직선을 그리시오."
      ],
      "metadata": {
        "id": "ml_ZulF3-UU8"
      }
    },
    {
      "cell_type": "code",
      "source": [
        ""
      ],
      "metadata": {
        "id": "1lrbAu3a_ViI"
      },
      "execution_count": null,
      "outputs": []
    }
  ]
}